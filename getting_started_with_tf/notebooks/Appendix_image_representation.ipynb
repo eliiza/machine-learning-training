{
 "cells": [
  {
   "cell_type": "markdown",
   "metadata": {},
   "source": [
    "# Image representations"
   ]
  },
  {
   "cell_type": "code",
   "execution_count": null,
   "metadata": {},
   "outputs": [],
   "source": [
    "# Photo by Tirachard Kumtanom from Pexels"
   ]
  },
  {
   "cell_type": "markdown",
   "metadata": {},
   "source": [
    "We'll need a few libraries to properly deal with images. The best libraries for this are OpenCV and PIL (Python Image Library), the pillow fork in particular. Who am I kidding, I have no idea whether these are the best. It's just that everyone uses them so my priors for their quality being high are strong."
   ]
  },
  {
   "cell_type": "code",
   "execution_count": null,
   "metadata": {},
   "outputs": [],
   "source": [
    "import PIL\n",
    "import cv2\n",
    "import numpy as np\n",
    "from matplotlib import pyplot as plt"
   ]
  },
  {
   "cell_type": "markdown",
   "metadata": {},
   "source": [
    "It's very useful to have your matplotlib display coming up within your notebook, so we'll set the display to inline."
   ]
  },
  {
   "cell_type": "code",
   "execution_count": null,
   "metadata": {},
   "outputs": [],
   "source": [
    "%matplotlib inline"
   ]
  },
  {
   "cell_type": "markdown",
   "metadata": {},
   "source": [
    "That'll do. Now let's have a look at how images are made up.  \n",
    "Take this example:\n",
    "\n",
    "![Balloons](../example_imgs/balloons_colour_split.png)"
   ]
  },
  {
   "cell_type": "markdown",
   "metadata": {},
   "source": [
    "Most images we use in everyday life are composed of three layers like this, red, green and blue. (There are other combinations used for specific purposes, but we will stick to this most common form here.)  \n",
    "You can clearly see how the different colours combine to give other colours like the yellow balloons at the top left. They contain a lot of red and green and no blue.  \n",
    "A common name for an image like this is bitmap. This is also the name used for an image format and is a slight misnomer. A bitmap refers to exactly what the name says, a map or raster of bits, so a grid of values that are either 0 or 1. The individual colour images that make up our example have different intensities, though, their pixels are not just switched on or off. The examples are maps of values between 0 and 255, in other words, each grid point has not just a bit, but a byte to represent values. In a funny twist of fortune, this arrangement is not called a bytemap, but a pixelmap, or pixmap for short.  \n",
    "However, we'll stick with the convention and refer to an image consisting of a pixelraster with individual colour values as a bitmap :)"
   ]
  },
  {
   "cell_type": "markdown",
   "metadata": {},
   "source": [
    "## Image import and display\n",
    "\n",
    "Okay, so let's have a look at how the above image was made.  \n",
    "In the examples folder, there's the original image \"balls-blue-bright-887821.jpg\". We'll use both OpenCV and pillow to import it and display it with matplotlib."
   ]
  },
  {
   "cell_type": "code",
   "execution_count": null,
   "metadata": {},
   "outputs": [],
   "source": [
    "# Import images into memory\n",
    "image_opencv = cv2.imread('../example_imgs/balls-blue-bright-887821.jpg')\n",
    "image_pillow = PIL.Image.open('../example_imgs/balls-blue-bright-887821.jpg')"
   ]
  },
  {
   "cell_type": "code",
   "execution_count": null,
   "metadata": {},
   "outputs": [],
   "source": [
    "# Display OpenCV image\n",
    "plt.imshow(image_opencv)\n",
    "plt.title('OpenCV')\n",
    "plt.show()\n",
    "\n",
    "# Display PIL image\n",
    "plt.imshow(image_pillow)\n",
    "plt.title('Pillow')\n",
    "plt.show()"
   ]
  },
  {
   "cell_type": "markdown",
   "metadata": {},
   "source": [
    "Argh, crap, what happened? OpenCV bet on the wrong horse, that's what happened. OpenCV implemented blue-green-red as the order of colours in its images instead of red-green-blue back when a lot of camera manufacturers were using this standard. To display them properly, we have to swap them around."
   ]
  },
  {
   "cell_type": "code",
   "execution_count": null,
   "metadata": {},
   "outputs": [],
   "source": [
    "# OpenCV uses reversed order!\n",
    "image_opencv = cv2.cvtColor(image_opencv, cv2.COLOR_BGR2RGB)\n",
    "\n",
    "# Display OpenCV image\n",
    "plt.imshow(image_opencv)\n",
    "plt.title('OpenCV')\n",
    "plt.show()"
   ]
  },
  {
   "cell_type": "markdown",
   "metadata": {},
   "source": [
    "Yeah, that's better. Okay, so now we've got colour images - how do we get the individual colour layers?  \n",
    "Well, if we want to store a bunch of integers between 0 and 255 in a 2-dimensional arrangement, the numpy array is a natural choice.  \n",
    "In fact, that's the way OpenCV stores its images by default, so once you've opened (and colour-switched) an image with OpenCV, you can use it just like any old 3-dimensional numpy array.  \n",
    "Pillow is not quite that forthcoming, as you can see when you just try to call the variables storing the image information:"
   ]
  },
  {
   "cell_type": "code",
   "execution_count": null,
   "metadata": {},
   "outputs": [],
   "source": [
    "# Call opencv image\n",
    "image_opencv"
   ]
  },
  {
   "cell_type": "code",
   "execution_count": null,
   "metadata": {},
   "outputs": [],
   "source": [
    "# Call pillow image\n",
    "image_pillow"
   ]
  },
  {
   "cell_type": "markdown",
   "metadata": {},
   "source": [
    "Luckily, all we have to do is call the image via numpy to generate an array. As we have seen, matplotlib is happy to display either."
   ]
  },
  {
   "cell_type": "code",
   "execution_count": null,
   "metadata": {},
   "outputs": [],
   "source": [
    "np.array(image_pillow)"
   ]
  },
  {
   "cell_type": "code",
   "execution_count": null,
   "metadata": {},
   "outputs": [],
   "source": [
    "# Turn pillow image into array\n",
    "image_pillow = np.array(image_pillow)\n",
    "\n",
    "# Display pillow image\n",
    "plt.imshow(image_pillow)\n",
    "plt.title('Pillow image as array')\n",
    "plt.show()"
   ]
  },
  {
   "cell_type": "markdown",
   "metadata": {},
   "source": [
    "Phew! Okay, so far, so good. As you can probably imagine from the layout of the numpy arrays, the colour channels are just simply two-dimensional layers of the array and can be addressed by calling the layer as the third dimension of the array directly. Let's make a function to extract the colour channels separately:"
   ]
  },
  {
   "cell_type": "code",
   "execution_count": null,
   "metadata": {},
   "outputs": [],
   "source": [
    "def extract_colour_channels(image):\n",
    "    red = image[:,:,0]\n",
    "    green = image[:,:,1]\n",
    "    blue = image[:,:,2]\n",
    "    return red, green, blue"
   ]
  },
  {
   "cell_type": "markdown",
   "metadata": {},
   "source": [
    "The OpenCV and Pillow image are now the same, so there is no point in proceeding with two examples for each step. We'll extract the individual colour channels from one of the images with our function and try to display one of them:"
   ]
  },
  {
   "cell_type": "code",
   "execution_count": null,
   "metadata": {},
   "outputs": [],
   "source": [
    "# Extract single colour images\n",
    "red_img, green_img, blue_img = extract_colour_channels(image_opencv)\n",
    "\n",
    "# Display red image\n",
    "plt.imshow(red_img)\n",
    "plt.title('Red colour channel only')\n",
    "plt.show()"
   ]
  },
  {
   "cell_type": "markdown",
   "metadata": {},
   "source": [
    "Gaaah what is it now? I thought we had isolated a single colour channel? This open source stuff is bu#&@#it, I bet this wouldn't happen if we'd paid for it...  \n",
    "Nah, it's not that bad. Matplotlib was trying to guess what we're doing and automatically applied a gradient colourmap from dark to light to make our array easier to read. So for our purpose, we have to specify the colour map directly for each image.  \n",
    "(Names and examples for the colour maps can be found at https://matplotlib.org/examples/color/colormaps_reference.html, luckily an all red, all green or all blue map has the very logical name \"Reds\", \"Greens\" and \"Blues\" respectively)"
   ]
  },
  {
   "cell_type": "code",
   "execution_count": null,
   "metadata": {},
   "outputs": [],
   "source": [
    "# Display red image with hues of reds only\n",
    "plt.imshow(red_img, cmap='Reds')\n",
    "plt.title('Red colour channel only')\n",
    "plt.show()"
   ]
  },
  {
   "cell_type": "markdown",
   "metadata": {},
   "source": [
    "Bingo! Okay, now let's put all the images, colour maps and so on into lists to put them all together.  "
   ]
  },
  {
   "cell_type": "code",
   "execution_count": null,
   "metadata": {},
   "outputs": [],
   "source": [
    "images = [image_opencv, red_img, green_img, blue_img]\n",
    "maps = [None, 'Reds', 'Greens', 'Blues']\n",
    "titles = ['Full colour', 'Red', 'Green', 'Blue']"
   ]
  },
  {
   "cell_type": "markdown",
   "metadata": {},
   "source": [
    "The method that adds an extra image to a matplotlib display is called add_subplot(). The position is addressed from left to right, top to bottom."
   ]
  },
  {
   "cell_type": "code",
   "execution_count": null,
   "metadata": {},
   "outputs": [],
   "source": [
    "# Create instance of whole figure to populate and define dimensions in terms of subplots\n",
    "fig = plt.figure()\n",
    "columns = 2\n",
    "rows = 2\n",
    "\n",
    "# Use for loop to populate subplots and show figure\n",
    "for i in range(columns*rows):\n",
    "    fig.add_subplot(rows, columns, i + 1)\n",
    "    plt.imshow(images[i], cmap=maps[i])\n",
    "    plt.title(titles[i])\n",
    "plt.show()"
   ]
  },
  {
   "cell_type": "markdown",
   "metadata": {},
   "source": [
    "# Exercise\n",
    "\n",
    "Okay, that's pretty close to the image we've seen above - but it's too small and the titles and axis labels are overlapping, that's just ugly.  \n",
    "And you've probably noticed that the images were all the same size and now it looks like matplotlib just squashed all four subplots into the same space as it had for a single image before.\n",
    "Try the argument \"figsize=(x, y)\" with x and y being the size of the figure in inches for printing when creating the instance and adjust the rows and columns until you've got a match with the original image.\n",
    "\n",
    "Good luck!"
   ]
  },
  {
   "cell_type": "code",
   "execution_count": null,
   "metadata": {},
   "outputs": [],
   "source": [
    "# Create instance of whole figure to populate and define dimensions in terms of subplots\n",
    "fig = plt.figure(figsize=(x, y))\n",
    "columns = 2\n",
    "rows = 2\n",
    "\n",
    "# Use for loop to populate subplots and show figure\n",
    "for i in range(columns*rows):\n",
    "    fig.add_subplot(rows, columns, i + 1)\n",
    "    plt.imshow(images[i], cmap=maps[i])\n",
    "    plt.title(titles[i])\n",
    "plt.show()"
   ]
  },
  {
   "cell_type": "code",
   "execution_count": null,
   "metadata": {},
   "outputs": [],
   "source": []
  }
 ],
 "metadata": {
  "kernelspec": {
   "display_name": "Python 3",
   "language": "python",
   "name": "python3"
  },
  "language_info": {
   "codemirror_mode": {
    "name": "ipython",
    "version": 3
   },
   "file_extension": ".py",
   "mimetype": "text/x-python",
   "name": "python",
   "nbconvert_exporter": "python",
   "pygments_lexer": "ipython3",
   "version": "3.7.4"
  }
 },
 "nbformat": 4,
 "nbformat_minor": 4
}
