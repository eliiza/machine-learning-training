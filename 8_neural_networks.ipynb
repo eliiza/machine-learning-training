{
 "cells": [
  {
   "cell_type": "markdown",
   "metadata": {},
   "source": [
    "# Neural Networks\n",
    "\n",
    "Neural networks work by connecting together a sequence of \"layers\" (nodes connected to one another).\n",
    "In this notebook we'll work with the `Dense` Layer, where every every node from the previous layer is connected to every node in the subsequent layer.\n",
    "\n",
    "We'll use the [Keras](https://keras.io/) library\n",
    "\n",
    "When we use Neural Networks, they will train more effectively if we scale the label column (SalePrice) to lie between 0 and 1. We \n",
    "then transform it back to its original scale."
   ]
  },
  {
   "cell_type": "code",
   "execution_count": null,
   "metadata": {},
   "outputs": [],
   "source": [
    "from utils import evaluate_model, encode_features, encode_label, decode_label\n",
    "from keras.models import Sequential\n",
    "from keras.layers import Dense, Activation\n",
    "import sklearn\n",
    "import numpy as np\n",
    "import pandas as pd\n",
    "import sklearn.preprocessing\n",
    "\n",
    "from numpy import random\n",
    "import tensorflow\n",
    "\n",
    "random.seed(1)\n",
    "tensorflow.set_random_seed(1)"
   ]
  },
  {
   "cell_type": "code",
   "execution_count": null,
   "metadata": {},
   "outputs": [],
   "source": [
    "def train_neural_network_model(training_set):\n",
    "    training_features, feature_scaler = encode_features(training_set)\n",
    "    label, label_scaler = encode_label(training_set)\n",
    "    \n",
    "    # 3 Dense layers and an output layer\n",
    "    predictor = Sequential([\n",
    "        \n",
    "        # 11 is the input_shape and matches the number of input features \n",
    "        # 16 is the number of neurons in this layer\n",
    "        # Use the ReLU activation function for this layer\n",
    "        Dense(16, input_shape=(11,)),\n",
    "        Activation('relu'),\n",
    "        \n",
    "        # Next (hidden) layer is 16 neurons\n",
    "        # Again, use ReLU\n",
    "        Dense(16),\n",
    "        Activation('relu'),        \n",
    "        \n",
    "        # Finally, the output layer is a single neuron (i.e. one output value)\n",
    "        Dense(1),\n",
    "        Activation('relu')\n",
    "    ])\n",
    "    \n",
    "    predictor.compile(optimizer='rmsprop', loss='mae')\n",
    "    \n",
    "    predictor.fit(training_features, label, epochs = 50)\n",
    "    \n",
    "    def model(input_data):\n",
    "        input_features, _ = encode_features(input_data, scaler=feature_scaler)\n",
    "        scaled_predictions = predictor.predict(input_features)\n",
    "        scaled_price_prediection = np.reshape(scaled_predictions, scaled_predictions.shape[0], )\n",
    "        \n",
    "        # Scale prediction back to its original scale\n",
    "        return decode_label(scaled_price_prediection, label_scaler)\n",
    "    \n",
    "    return(model)"
   ]
  },
  {
   "cell_type": "code",
   "execution_count": null,
   "metadata": {},
   "outputs": [],
   "source": [
    "training_set = pd.read_csv(\"housing_price_data/training_data.csv\")\n",
    "neural_network_model = train_neural_network_model(training_set)\n",
    "evaluate_model(neural_network_model)"
   ]
  },
  {
   "cell_type": "markdown",
   "metadata": {},
   "source": [
    "# Exercise"
   ]
  },
  {
   "cell_type": "markdown",
   "metadata": {},
   "source": [
    "1. Play around with different `Activation` functions. Options include 'tanh', and 'sigmoid'\n",
    "2. Experiment with adding different numbers of nodes and layers.\n",
    "\n",
    "Competition Exercise: Build a linear model to achieve as low score as possible. Winner will receive an Eliiza water bottle."
   ]
  },
  {
   "cell_type": "code",
   "execution_count": null,
   "metadata": {},
   "outputs": [],
   "source": []
  }
 ],
 "metadata": {
  "kernelspec": {
   "display_name": "Python 3",
   "language": "python",
   "name": "python3"
  },
  "language_info": {
   "codemirror_mode": {
    "name": "ipython",
    "version": 3
   },
   "file_extension": ".py",
   "mimetype": "text/x-python",
   "name": "python",
   "nbconvert_exporter": "python",
   "pygments_lexer": "ipython3",
   "version": "3.6.5"
  }
 },
 "nbformat": 4,
 "nbformat_minor": 2
}
