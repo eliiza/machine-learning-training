{
 "cells": [
  {
   "cell_type": "markdown",
   "metadata": {},
   "source": [
    "# Intro to CIFAR10\n",
    "\n",
    "In this section we'll be diving into TensorFlow and Artificial Neural Networks, in the first segment we'll be covering (at a high level) what Neural Networks are, how they're trained, and how TensorFlow can help. After that we will look more in more detail at Convolutional Neural Networks and Residual Neural Networks.\n",
    "\n",
    "Throughout the session we'll be working with a dataset called CIFAR10. As you will no doubt be aware, before you start trying to apply any AI/ML the first step is to obtain and understand the dataset. How do I get it? What is the format? Does it need any preprocessing to clean or normalise it? This notebook will run through that and show you where we will (hopefully) end up.\n",
    "\n",
    "# Exploring CIFAR10\n",
    "\n",
    "We'll be using `CIFAR10` dataset from the [University of Toronto](https://www.cs.toronto.edu/~kriz/cifar.html). TensorFlow packages it as a part of their [datasets](https://keras.io/datasets/).\n",
    "\n",
    "What is CIFAR10?\n",
    " - 60000 32x32 pixel colour images\n",
    " - 50000 in the training set, 10000 in the test set\n",
    " - Images are classified as one of: `['airplane', 'automobile', 'bird', 'cat', 'deer', 'dog', 'frog', 'horse', 'ship', 'truck']`\n",
    " - Randomly shuffled\n",
    " - Equal quantity of each category\n",
    "\n",
    "Start with some standard imports:"
   ]
  },
  {
   "cell_type": "code",
   "execution_count": null,
   "metadata": {},
   "outputs": [],
   "source": [
    "# Standard imports\n",
    "import numpy as np\n",
    "import pandas as pd\n",
    "\n",
    "%matplotlib inline\n",
    "import matplotlib as mpl\n",
    "import matplotlib.pyplot as plt"
   ]
  },
  {
   "cell_type": "markdown",
   "metadata": {},
   "source": [
    "Then download the data:"
   ]
  },
  {
   "cell_type": "code",
   "execution_count": null,
   "metadata": {},
   "outputs": [],
   "source": [
    "import tensorflow as tf\n",
    "from tensorflow.keras.datasets import cifar10\n",
    "\n",
    "(train_images, train_labels), (test_images, test_labels) = cifar10.load_data()"
   ]
  },
  {
   "cell_type": "markdown",
   "metadata": {},
   "source": [
    "*Nice.*\n",
    "\n",
    "As you can see it is already split into training and test sets - that saves us the trouble of doing it. There are lots of datasets and pretrained models available in TensorFlow, the majority are well set up to get going."
   ]
  },
  {
   "cell_type": "markdown",
   "metadata": {},
   "source": [
    "There is still some wrangling required. First is to reshape the labels as they come as a 2D array."
   ]
  },
  {
   "cell_type": "code",
   "execution_count": null,
   "metadata": {},
   "outputs": [],
   "source": [
    "print(\"Old shape:\", train_labels.shape)\n",
    "\n",
    "# Reshape the labels.\n",
    "train_labels = train_labels[:,0]\n",
    "test_labels = test_labels[:,0]\n",
    "\n",
    "print(\"New shape:\", train_labels.shape)"
   ]
  },
  {
   "cell_type": "markdown",
   "metadata": {},
   "source": [
    "The neural network will perform better if we scale the pixel values to between 0 and 1, rather than 0 to 255:"
   ]
  },
  {
   "cell_type": "code",
   "execution_count": null,
   "metadata": {},
   "outputs": [],
   "source": [
    "def print_max_min(arr):\n",
    "  min_val = np.min(arr)\n",
    "  max_val = np.max(arr)\n",
    "  print(\"Range = [{}, {}]\".format(min_val, max_val))"
   ]
  },
  {
   "cell_type": "code",
   "execution_count": null,
   "metadata": {},
   "outputs": [],
   "source": [
    "print_max_min(train_images)\n",
    "\n",
    "# And scale from 0 - 255 to 0.0 - 1.0\n",
    "train_images = train_images / 255.0\n",
    "test_images = test_images / 255.0\n",
    "\n",
    "print_max_min(train_images)"
   ]
  },
  {
   "cell_type": "markdown",
   "metadata": {},
   "source": [
    "Let's have a look at some high-res photos!"
   ]
  },
  {
   "cell_type": "code",
   "execution_count": null,
   "metadata": {},
   "outputs": [],
   "source": [
    "plt.figure(figsize=(10,10))\n",
    "for i in range(25):\n",
    "    plt.subplot(5,5,i+1)\n",
    "    plt.xticks([])\n",
    "    plt.yticks([])\n",
    "    plt.grid(False)\n",
    "    plt.imshow(train_images[i], cmap=plt.cm.binary)\n",
    "    plt.xlabel(train_labels[i])\n",
    "plt.show()"
   ]
  },
  {
   "cell_type": "markdown",
   "metadata": {},
   "source": [
    "Hang on - that's not a `6`. That's a frog!\n",
    "\n",
    "It is much more efficient to label the data as an integer, and that is what has been done here. The ordering of the labels from 0-9 is as follows:"
   ]
  },
  {
   "cell_type": "code",
   "execution_count": null,
   "metadata": {},
   "outputs": [],
   "source": [
    "class_names = ['airplane', 'automobile', 'bird', 'cat', 'deer', 'dog', 'frog', 'horse', 'ship', 'truck']"
   ]
  },
  {
   "cell_type": "markdown",
   "metadata": {},
   "source": [
    "### Exercise\n",
    "\n",
    "Update the code from above to print the class name rather than number."
   ]
  },
  {
   "cell_type": "code",
   "execution_count": null,
   "metadata": {},
   "outputs": [],
   "source": [
    "plt.figure(figsize=(10,10))\n",
    "for i in range(25):\n",
    "    plt.subplot(5,5,i+1)\n",
    "    plt.xticks([])\n",
    "    plt.yticks([])\n",
    "    plt.grid(False)\n",
    "    plt.imshow(train_images[i], cmap=plt.cm.binary)\n",
    "    plt.xlabel(train_labels[i])\n",
    "plt.show()"
   ]
  },
  {
   "cell_type": "markdown",
   "metadata": {},
   "source": [
    "## Continue our evaluation"
   ]
  },
  {
   "cell_type": "markdown",
   "metadata": {},
   "source": [
    "When we train our model, the order of the input data should be randomised. This can be achieved in a number of ways, in our case the order already appears to be random.\n",
    "\n",
    "Ideally, we want a similar number of examples of each category. Lets have a look at how many samples of each category there are:"
   ]
  },
  {
   "cell_type": "code",
   "execution_count": null,
   "metadata": {},
   "outputs": [],
   "source": [
    "label_counts = np.unique(train_labels, return_counts=True)\n",
    "label_counts = np.apply_along_axis(lambda x: [class_names[x[0]], x[1]], 0, label_counts)\n",
    "pd.DataFrame({'Category': label_counts[0], 'Count': label_counts[1]})"
   ]
  },
  {
   "cell_type": "markdown",
   "metadata": {},
   "source": [
    "## What does this have to do with machine learning?\n",
    "\n",
    "Image recognition and classification is a great example of where machine learning excels. It is a task that us humans can easily do, but that has been extremely challenging to solve using a `computer`.\n",
    "\n",
    "In this section you'll see how quickly you can build and train an *alright* neural network to classify these images, as well as see an example of a well designed and trained network doing the same thing.\n",
    "\n",
    "By the end of the course you should, at a high level, understand how to build and train your own classifier."
   ]
  }
 ],
 "metadata": {
  "colab": {
   "collapsed_sections": [],
   "name": "classification.ipynb",
   "private_outputs": true,
   "provenance": [],
   "toc_visible": true
  },
  "kernelspec": {
   "display_name": "Python 3",
   "language": "python",
   "name": "python3"
  },
  "language_info": {
   "codemirror_mode": {
    "name": "ipython",
    "version": 3
   },
   "file_extension": ".py",
   "mimetype": "text/x-python",
   "name": "python",
   "nbconvert_exporter": "python",
   "pygments_lexer": "ipython3",
   "version": "3.7.6"
  }
 },
 "nbformat": 4,
 "nbformat_minor": 4
}
