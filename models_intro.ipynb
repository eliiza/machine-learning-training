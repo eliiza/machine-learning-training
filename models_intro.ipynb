{
  "cells": [
    {
      "cell_type": "markdown",
      "source": [
        "# Introduction to models"
      ],
      "metadata": {}
    },
    {
      "cell_type": "markdown",
      "source": [
        "With normal programming, we have:\n",
        "\n",
        "Rules + Input   -> Output\n",
        "\n",
        "With machine learning, we have:\n",
        "\n",
        "Input + Expected Output -> Rules.\n",
        "\nThis notebook runs through a very simple machine learning algorithm: Linear Regression."
      ],
      "metadata": {}
    },
    {
      "cell_type": "markdown",
      "source": [
        "## My First Model: Linear Regression"
      ],
      "metadata": {}
    },
    {
      "cell_type": "markdown",
      "source": [
        "### The problem\n",
        "\n",
        "In the file `cluster.csv`, there are measurements of how many emails were processed in an hour by a cluster of `n` cores. We want to find out how much capacity we gain per core added.\n",
        "\n",
        "In other words, we want to find `w` such that:\n",
        "\n",
        "`emails_processed = w * number_of_cores`.\n",
        "\n",
        "This is an example of a _regression problem_.\n",
        "\nGiven `X` number of cores, predict `y`, the number of emails processed."
      ],
      "metadata": {}
    },
    {
      "cell_type": "markdown",
      "source": [
        "### Setting up"
      ],
      "metadata": {}
    },
    {
      "cell_type": "markdown",
      "source": [
        "We first use the `pandas` package to load our data. `pandas`, and `numpy` are essential packages for data management in machine learning with python. You can see some cheat sheets for these packages here:\n",
        "\n",
        "[pandas](https://github.com/pandas-dev/pandas/blob/master/doc/cheatsheet/Pandas_Cheat_Sheet.pdf)\n",
        "\n[numpy](https://s3.amazonaws.com/assets.datacamp.com/blog_assets/Numpy_Python_Cheat_Sheet.pdf)"
      ],
      "metadata": {}
    },
    {
      "cell_type": "markdown",
      "source": [
        "### Training"
      ],
      "metadata": {}
    },
    {
      "cell_type": "markdown",
      "source": [
        "### Interpreting the model"
      ],
      "metadata": {}
    },
    {
      "cell_type": "markdown",
      "source": [
        "### Evaluating the model"
      ],
      "metadata": {}
    },
    {
      "cell_type": "code",
      "source": [],
      "outputs": [],
      "execution_count": null,
      "metadata": {}
    },
    {
      "cell_type": "markdown",
      "source": [
        "# Multiple Linear Regression\n"
      ],
      "metadata": {}
    }
  ],
  "metadata": {
    "kernelspec": {
      "name": "python3",
      "language": "python",
      "display_name": "Python 3"
    },
    "language_info": {
      "name": "python",
      "version": "3.6.3",
      "mimetype": "text/x-python",
      "codemirror_mode": {
        "name": "ipython",
        "version": 3
      },
      "pygments_lexer": "ipython3",
      "nbconvert_exporter": "python",
      "file_extension": ".py"
    },
    "kernel_info": {
      "name": "python3"
    },
    "nteract": {
      "version": "0.8.3"
    }
  },
  "nbformat": 4,
  "nbformat_minor": 2
}