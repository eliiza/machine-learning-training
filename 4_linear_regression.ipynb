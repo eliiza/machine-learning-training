{
 "cells": [
  {
   "cell_type": "markdown",
   "metadata": {},
   "source": [
    "# Linear Regression\n",
    "Rather than brute force this, we can use a library.\n",
    "\n",
    "First, let's define our problem:"
   ]
  },
  {
   "cell_type": "markdown",
   "metadata": {},
   "source": [
    "*Problem*\n",
    "\n",
    "Find $w_0, w_1$ such that $w_1 \\cdot bedrooms + w_0$ gives the most accurate predictions (as measured by mean absolute error.)\n",
    "\n",
    "\n",
    "This is a problem of model fitting, not model evaluation, so we use the train data set. In the code below we make use of the the Scitkit-Learn library that provides us with functions to create and train a model. \n",
    "\n",
    "Use the [Scikit-Learn Cheat Sheet](https://s3.amazonaws.com/assets.datacamp.com/blog_assets/Scikit_Learn_Cheat_Sheet_Python.pdf) to help you understand the code below."
   ]
  },
  {
   "cell_type": "code",
   "execution_count": null,
   "metadata": {},
   "outputs": [],
   "source": [
    "def train_bedroom_linear_model(training_set):\n",
    "    predictor = linear_model.LinearRegression()\n",
    "    predictor.fit(training_set[['BedroomAbvGr']],training_set['SalePrice'])\n",
    "    def bedroom_linear_model(input_data):\n",
    "        return(predictor.predict(input_data[['BedroomAbvGr']]))\n",
    "    return bedroom_linear_model"
   ]
  },
  {
   "cell_type": "code",
   "execution_count": null,
   "metadata": {},
   "outputs": [],
   "source": [
    "training_set = pd.read_csv(\"housing_price_data/training_data.csv\")\n",
    "bedroom_linear_model = train_bedroom_linear_model(training_set)\n",
    "evaluate_model(bedroom_linear_model)\n"
   ]
  },
  {
   "cell_type": "markdown",
   "metadata": {},
   "source": [
    "Let's examine the differences between predicted and actual value."
   ]
  },
  {
   "cell_type": "code",
   "execution_count": null,
   "metadata": {},
   "outputs": [],
   "source": [
    "bedroom_example = training_set.copy()\n",
    "bedroom_example['Predicted'] = bedroom_linear_model(bedroom_example)\n",
    "bedroom_example['Error'] = bedroom_example['Predicted'] - bedroom_example['SalePrice']\n",
    "bedroom_example['Error'].plot() \n",
    "plt.xlabel(\"id\")\n",
    "plt.ylabel(\"Difference between predictive and actual value\")"
   ]
  },
  {
   "cell_type": "markdown",
   "metadata": {},
   "source": [
    "We can inspect the outliers by sorting the dataframe"
   ]
  },
  {
   "cell_type": "code",
   "execution_count": null,
   "metadata": {},
   "outputs": [],
   "source": [
    "bedroom_example.sort_values(\"Error\").head()"
   ]
  },
  {
   "cell_type": "markdown",
   "metadata": {},
   "source": [
    "## Exercise\n",
    "Why do you think the houses with the largest error (outliers) are so cheap? Remember you can look at individual columns by using `bedroom_example[[\"column1\",\"column2\",...]]`\n",
    "\n",
    "Hint: try contrasting the outliers with more accurate predictions"
   ]
  },
  {
   "cell_type": "code",
   "execution_count": null,
   "metadata": {},
   "outputs": [],
   "source": []
  },
  {
   "cell_type": "markdown",
   "metadata": {},
   "source": [
    "## Exercise\n",
    "\n",
    "Build a linear regression model for predicting SalePrice as a function of `LotArea`"
   ]
  },
  {
   "cell_type": "code",
   "execution_count": null,
   "metadata": {},
   "outputs": [],
   "source": []
  }
 ],
 "metadata": {
  "kernelspec": {
   "display_name": "Python 3",
   "language": "python",
   "name": "python3"
  },
  "language_info": {
   "codemirror_mode": {
    "name": "ipython",
    "version": 3
   },
   "file_extension": ".py",
   "mimetype": "text/x-python",
   "name": "python",
   "nbconvert_exporter": "python",
   "pygments_lexer": "ipython3",
   "version": "3.6.5"
  }
 },
 "nbformat": 4,
 "nbformat_minor": 2
}
