{
  "cells": [
    {
      "cell_type": "markdown",
      "source": [
        "# Introduction to models"
      ],
      "metadata": {}
    },
    {
      "cell_type": "markdown",
      "source": [
        "With normal programming, we have:\n",
        "\n",
        "Rules + Input   -> Output\n",
        "\n",
        "With machine learning, we have:\n",
        "\n",
        "Input + Expected Output -> Rules.\n",
        "\nThis notebook runs through a very simple machine learning algorithm: Linear Regression."
      ],
      "metadata": {}
    },
    {
      "cell_type": "markdown",
      "source": [
        "## My First Model: Linear Regression"
      ],
      "metadata": {}
    },
    {
      "cell_type": "markdown",
      "source": [
        "### The problem\n",
        "\n",
        "In the file `cluster.csv`, there are measurements of how many emails were processed in an hour by a cluster of `n` cores. We want to find out how much capacity we gain per core added.\n",
        "\n",
        "In other words, we want to find `w` such that:\n",
        "\n",
        "`emails_processed = w * number_of_cores`.\n",
        "\n",
        "This is an example of a _regression problem_.\n",
        "\nGiven `X` number of cores, predict `y`, the number of emails processed."
      ],
      "metadata": {}
    },
    {
      "cell_type": "markdown",
      "source": [
        "### Setting up"
      ],
      "metadata": {}
    },
    {
      "cell_type": "markdown",
      "source": [
        "We first use the `pandas` package to load our data. `pandas`, and `numpy` are essential packages for data management in machine learning with python. You can see some cheat sheets for these packages here:\n",
        "\n",
        "[pandas](https://github.com/pandas-dev/pandas/blob/master/doc/cheatsheet/Pandas_Cheat_Sheet.pdf)\n",
        "\n[numpy](https://s3.amazonaws.com/assets.datacamp.com/blog_assets/Numpy_Python_Cheat_Sheet.pdf)"
      ],
      "metadata": {}
    },
    {
      "cell_type": "code",
      "source": [
        "import pandas as pd\n",
        "cluster = pd.read_csv('cluster.csv')\n",
        "cluster.head()"
      ],
      "outputs": [
        {
          "output_type": "execute_result",
          "execution_count": 2,
          "data": {
            "text/plain": [
              "   cores  emails_processed  hour\n",
              "0      1               237     1\n",
              "1      1               233     2\n",
              "2      1               230     3\n",
              "3      1               237     4\n",
              "4      1               225     5"
            ],
            "text/html": [
              "<div>\n",
              "<style>\n",
              "    .dataframe thead tr:only-child th {\n",
              "        text-align: right;\n",
              "    }\n",
              "\n",
              "    .dataframe thead th {\n",
              "        text-align: left;\n",
              "    }\n",
              "\n",
              "    .dataframe tbody tr th {\n",
              "        vertical-align: top;\n",
              "    }\n",
              "</style>\n",
              "<table border=\"1\" class=\"dataframe\">\n",
              "  <thead>\n",
              "    <tr style=\"text-align: right;\">\n",
              "      <th></th>\n",
              "      <th>cores</th>\n",
              "      <th>emails_processed</th>\n",
              "      <th>hour</th>\n",
              "    </tr>\n",
              "  </thead>\n",
              "  <tbody>\n",
              "    <tr>\n",
              "      <th>0</th>\n",
              "      <td>1</td>\n",
              "      <td>237</td>\n",
              "      <td>1</td>\n",
              "    </tr>\n",
              "    <tr>\n",
              "      <th>1</th>\n",
              "      <td>1</td>\n",
              "      <td>233</td>\n",
              "      <td>2</td>\n",
              "    </tr>\n",
              "    <tr>\n",
              "      <th>2</th>\n",
              "      <td>1</td>\n",
              "      <td>230</td>\n",
              "      <td>3</td>\n",
              "    </tr>\n",
              "    <tr>\n",
              "      <th>3</th>\n",
              "      <td>1</td>\n",
              "      <td>237</td>\n",
              "      <td>4</td>\n",
              "    </tr>\n",
              "    <tr>\n",
              "      <th>4</th>\n",
              "      <td>1</td>\n",
              "      <td>225</td>\n",
              "      <td>5</td>\n",
              "    </tr>\n",
              "  </tbody>\n",
              "</table>\n",
              "</div>"
            ]
          },
          "metadata": {}
        }
      ],
      "execution_count": 2,
      "metadata": {
        "ExecuteTime": {
          "start_time": "2018-03-13T03:34:26.824Z"
        },
        "inputHidden": false,
        "outputHidden": true
      }
    },
    {
      "cell_type": "markdown",
      "source": [
        "It's good practice to always plot our data:"
      ],
      "metadata": {}
    },
    {
      "cell_type": "code",
      "source": [
        "import matplotlib.pyplot as plt\n",
        "\n",
        "cluster.plot(x='cores',y='emails_processed')\n",
        "plt.show()"
      ],
      "outputs": [
        {
          "output_type": "display_data",
          "data": {
            "text/plain": [
              "<matplotlib.figure.Figure at 0x107090080>"
            ]
          },
          "metadata": {}
        }
      ],
      "execution_count": 2,
      "metadata": {
        "inputHidden": false,
        "outputHidden": true
      }
    },
    {
      "cell_type": "markdown",
      "source": [
        "Our data follows a clear linear trend!"
      ],
      "metadata": {}
    },
    {
      "cell_type": "markdown",
      "source": [
        "### Preprocessing Data"
      ],
      "metadata": {}
    },
    {
      "cell_type": "markdown",
      "source": [
        "Machine learning models train better if the data is _standardized_. (i.e. inputs and outputs are between 0 and 1).\n",
        "\nTo standardize our data, we can use the StandardScaler() function from scikit-learn."
      ],
      "metadata": {}
    },
    {
      "cell_type": "code",
      "source": [
        "from sklearn.preprocessing import StandardScaler\n",
        "\n",
        "X = cluster[['cores']]\n",
        "y = cluster[['emails_processed']]\n",
        "x_scale = StandardScaler()\n",
        "X = x_scale.fit_transform(X)\n",
        "y_scale = StandardScaler()\n",
        "y = y_scale.fit_transform(y)"
      ],
      "outputs": [],
      "execution_count": 3,
      "metadata": {
        "inputHidden": false,
        "outputHidden": false
      }
    },
    {
      "cell_type": "markdown",
      "source": [
        "It's a good idea to divide our data into _training_ and _test_ sets.\n",
        "\n",
        "We also divide it up into predictors _X_ and predicted _y_.\n",
        "\n",
        "We can use the helper function train_test_split to shuffle our data and allocate 20% of it to testing.\n"
      ],
      "metadata": {}
    },
    {
      "cell_type": "code",
      "source": [
        "from sklearn.model_selection import train_test_split\n",
        "X_train, X_test, y_train, y_test = train_test_split(X,y,test_size=0.2)"
      ],
      "outputs": [],
      "execution_count": 4,
      "metadata": {
        "inputHidden": false,
        "outputHidden": false
      }
    },
    {
      "cell_type": "markdown",
      "source": [
        "### Training"
      ],
      "metadata": {}
    },
    {
      "cell_type": "markdown",
      "source": [
        "In machine learning, our data is always noisy. And small changes in our data (or random seed!) will yield a different model.\n",
        "\n\n",
        "Model training works by minimizing a _loss function_. The loss function  measures how inaccurate our model is. \n",
        "\n",
        "For this problem, we will use the mean squared error loss function\n",
        "\n",
        "`MSE = (emails_processed - w*cores)^2`.\n",
        "\nKeras has an optimizer that will find the values that minimize the loss."
      ],
      "metadata": {}
    },
    {
      "cell_type": "code",
      "source": [
        "from keras.models import Sequential\n",
        "from keras.layers.core import Dense, Activation\n",
        "\n",
        "model = Sequential()\n",
        "model.add(Dense(units=1,kernel_initializer='uniform',\\\n",
        "                activation='linear',input_dim=1))\n",
        "model.compile(loss='mean_squared_error', optimizer='adagrad')\n",
        "\n",
        "model.fit(X_train, y_train, epochs=2000,verbose=0)\n",
        "score = model.evaluate(X_test,y_test)\n",
        "print(score)"
      ],
      "outputs": [
        {
          "output_type": "stream",
          "name": "stderr",
          "text": [
            "Using TensorFlow backend.\n"
          ]
        },
        {
          "output_type": "stream",
          "name": "stdout",
          "text": [
            "100/100 [==============================] - 0s 115us/step\b\b\b\b\b\b\b\b\b\b\b\b\b\b\b\b\b\b\b\b\b\b\b\b\b\b\b\b\b\b\b\b\b\b\b\b\b\b\b\b\b\b\b\b\n",
            "0.000228265657497\n"
          ]
        }
      ],
      "execution_count": 5,
      "metadata": {
        "inputHidden": false,
        "outputHidden": true
      }
    },
    {
      "cell_type": "markdown",
      "source": [
        "### Interpreting model output\n",
        "\n",
        "We now how to decode the predictions made by our model. We can do this with the `inverse_transform` method.\n",
        "\nFor, e.g. analysis of images, we would write a rendering function."
      ],
      "metadata": {}
    },
    {
      "cell_type": "code",
      "source": [
        "cluster['predicted_emails_processed'] = y_scale.inverse_transform(model.predict(X))\n",
        "cluster\n"
      ],
      "outputs": [
        {
          "output_type": "execute_result",
          "execution_count": 10,
          "data": {
            "text/plain": [
              "     cores  emails_processed  hour  predicted_emails_processed\n",
              "0        1               237     1                  240.247406\n",
              "1        1               233     2                  240.247406\n",
              "2        1               230     3                  240.247406\n",
              "3        1               237     4                  240.247406\n",
              "4        1               225     5                  240.247406\n",
              "5        2               453     1                  469.990570\n",
              "6        2               486     2                  469.990570\n",
              "7        2               444     3                  469.990570\n",
              "8        2               465     4                  469.990570\n",
              "9        2               459     5                  469.990570\n",
              "10       3               673     1                  699.733765\n",
              "11       3               701     2                  699.733765\n",
              "12       3               716     3                  699.733765\n",
              "13       3               650     4                  699.733765\n",
              "14       3               686     5                  699.733765\n",
              "15       4               945     1                  929.476929\n",
              "16       4               910     2                  929.476929\n",
              "17       4               963     3                  929.476929\n",
              "18       4               921     4                  929.476929\n",
              "19       4               883     5                  929.476929\n",
              "20       5              1163     1                 1159.221069\n",
              "21       5              1174     2                 1159.221069\n",
              "22       5              1117     3                 1159.221069\n",
              "23       5              1168     4                 1159.221069\n",
              "24       5              1163     5                 1159.221069\n",
              "25       6              1333     1                 1388.964233\n",
              "26       6              1322     2                 1388.964233\n",
              "27       6              1357     3                 1388.964233\n",
              "28       6              1411     4                 1388.964233\n",
              "29       6              1381     5                 1388.964233\n",
              "..     ...               ...   ...                         ...\n",
              "470     95             21965     1                21836.113281\n",
              "471     95             21913     2                21836.113281\n",
              "472     95             21626     3                21836.113281\n",
              "473     95             21563     4                21836.113281\n",
              "474     95             21521     5                21836.113281\n",
              "475     96             22358     1                22065.857422\n",
              "476     96             21874     2                22065.857422\n",
              "477     96             21967     3                22065.857422\n",
              "478     96             22079     4                22065.857422\n",
              "479     96             22338     5                22065.857422\n",
              "480     97             22610     1                22295.599609\n",
              "481     97             22495     2                22295.599609\n",
              "482     97             22387     3                22295.599609\n",
              "483     97             22198     4                22295.599609\n",
              "484     97             22325     5                22295.599609\n",
              "485     98             22506     1                22525.343750\n",
              "486     98             22595     2                22525.343750\n",
              "487     98             22725     3                22525.343750\n",
              "488     98             22450     4                22525.343750\n",
              "489     98             22853     5                22525.343750\n",
              "490     99             22815     1                22755.085938\n",
              "491     99             23097     2                22755.085938\n",
              "492     99             22929     3                22755.085938\n",
              "493     99             22694     4                22755.085938\n",
              "494     99             22803     5                22755.085938\n",
              "495    100             22862     1                22984.830078\n",
              "496    100             23071     2                22984.830078\n",
              "497    100             22941     3                22984.830078\n",
              "498    100             23020     4                22984.830078\n",
              "499    100             23165     5                22984.830078\n",
              "\n[500 rows x 4 columns]"
            ],
            "text/html": [
              "<div>\n",
              "<style>\n",
              "    .dataframe thead tr:only-child th {\n",
              "        text-align: right;\n",
              "    }\n",
              "\n",
              "    .dataframe thead th {\n",
              "        text-align: left;\n",
              "    }\n",
              "\n",
              "    .dataframe tbody tr th {\n",
              "        vertical-align: top;\n",
              "    }\n",
              "</style>\n",
              "<table border=\"1\" class=\"dataframe\">\n",
              "  <thead>\n",
              "    <tr style=\"text-align: right;\">\n",
              "      <th></th>\n",
              "      <th>cores</th>\n",
              "      <th>emails_processed</th>\n",
              "      <th>hour</th>\n",
              "      <th>predicted_emails_processed</th>\n",
              "    </tr>\n",
              "  </thead>\n",
              "  <tbody>\n",
              "    <tr>\n",
              "      <th>0</th>\n",
              "      <td>1</td>\n",
              "      <td>237</td>\n",
              "      <td>1</td>\n",
              "      <td>240.247406</td>\n",
              "    </tr>\n",
              "    <tr>\n",
              "      <th>1</th>\n",
              "      <td>1</td>\n",
              "      <td>233</td>\n",
              "      <td>2</td>\n",
              "      <td>240.247406</td>\n",
              "    </tr>\n",
              "    <tr>\n",
              "      <th>2</th>\n",
              "      <td>1</td>\n",
              "      <td>230</td>\n",
              "      <td>3</td>\n",
              "      <td>240.247406</td>\n",
              "    </tr>\n",
              "    <tr>\n",
              "      <th>3</th>\n",
              "      <td>1</td>\n",
              "      <td>237</td>\n",
              "      <td>4</td>\n",
              "      <td>240.247406</td>\n",
              "    </tr>\n",
              "    <tr>\n",
              "      <th>4</th>\n",
              "      <td>1</td>\n",
              "      <td>225</td>\n",
              "      <td>5</td>\n",
              "      <td>240.247406</td>\n",
              "    </tr>\n",
              "    <tr>\n",
              "      <th>5</th>\n",
              "      <td>2</td>\n",
              "      <td>453</td>\n",
              "      <td>1</td>\n",
              "      <td>469.990570</td>\n",
              "    </tr>\n",
              "    <tr>\n",
              "      <th>6</th>\n",
              "      <td>2</td>\n",
              "      <td>486</td>\n",
              "      <td>2</td>\n",
              "      <td>469.990570</td>\n",
              "    </tr>\n",
              "    <tr>\n",
              "      <th>7</th>\n",
              "      <td>2</td>\n",
              "      <td>444</td>\n",
              "      <td>3</td>\n",
              "      <td>469.990570</td>\n",
              "    </tr>\n",
              "    <tr>\n",
              "      <th>8</th>\n",
              "      <td>2</td>\n",
              "      <td>465</td>\n",
              "      <td>4</td>\n",
              "      <td>469.990570</td>\n",
              "    </tr>\n",
              "    <tr>\n",
              "      <th>9</th>\n",
              "      <td>2</td>\n",
              "      <td>459</td>\n",
              "      <td>5</td>\n",
              "      <td>469.990570</td>\n",
              "    </tr>\n",
              "    <tr>\n",
              "      <th>10</th>\n",
              "      <td>3</td>\n",
              "      <td>673</td>\n",
              "      <td>1</td>\n",
              "      <td>699.733765</td>\n",
              "    </tr>\n",
              "    <tr>\n",
              "      <th>11</th>\n",
              "      <td>3</td>\n",
              "      <td>701</td>\n",
              "      <td>2</td>\n",
              "      <td>699.733765</td>\n",
              "    </tr>\n",
              "    <tr>\n",
              "      <th>12</th>\n",
              "      <td>3</td>\n",
              "      <td>716</td>\n",
              "      <td>3</td>\n",
              "      <td>699.733765</td>\n",
              "    </tr>\n",
              "    <tr>\n",
              "      <th>13</th>\n",
              "      <td>3</td>\n",
              "      <td>650</td>\n",
              "      <td>4</td>\n",
              "      <td>699.733765</td>\n",
              "    </tr>\n",
              "    <tr>\n",
              "      <th>14</th>\n",
              "      <td>3</td>\n",
              "      <td>686</td>\n",
              "      <td>5</td>\n",
              "      <td>699.733765</td>\n",
              "    </tr>\n",
              "    <tr>\n",
              "      <th>15</th>\n",
              "      <td>4</td>\n",
              "      <td>945</td>\n",
              "      <td>1</td>\n",
              "      <td>929.476929</td>\n",
              "    </tr>\n",
              "    <tr>\n",
              "      <th>16</th>\n",
              "      <td>4</td>\n",
              "      <td>910</td>\n",
              "      <td>2</td>\n",
              "      <td>929.476929</td>\n",
              "    </tr>\n",
              "    <tr>\n",
              "      <th>17</th>\n",
              "      <td>4</td>\n",
              "      <td>963</td>\n",
              "      <td>3</td>\n",
              "      <td>929.476929</td>\n",
              "    </tr>\n",
              "    <tr>\n",
              "      <th>18</th>\n",
              "      <td>4</td>\n",
              "      <td>921</td>\n",
              "      <td>4</td>\n",
              "      <td>929.476929</td>\n",
              "    </tr>\n",
              "    <tr>\n",
              "      <th>19</th>\n",
              "      <td>4</td>\n",
              "      <td>883</td>\n",
              "      <td>5</td>\n",
              "      <td>929.476929</td>\n",
              "    </tr>\n",
              "    <tr>\n",
              "      <th>20</th>\n",
              "      <td>5</td>\n",
              "      <td>1163</td>\n",
              "      <td>1</td>\n",
              "      <td>1159.221069</td>\n",
              "    </tr>\n",
              "    <tr>\n",
              "      <th>21</th>\n",
              "      <td>5</td>\n",
              "      <td>1174</td>\n",
              "      <td>2</td>\n",
              "      <td>1159.221069</td>\n",
              "    </tr>\n",
              "    <tr>\n",
              "      <th>22</th>\n",
              "      <td>5</td>\n",
              "      <td>1117</td>\n",
              "      <td>3</td>\n",
              "      <td>1159.221069</td>\n",
              "    </tr>\n",
              "    <tr>\n",
              "      <th>23</th>\n",
              "      <td>5</td>\n",
              "      <td>1168</td>\n",
              "      <td>4</td>\n",
              "      <td>1159.221069</td>\n",
              "    </tr>\n",
              "    <tr>\n",
              "      <th>24</th>\n",
              "      <td>5</td>\n",
              "      <td>1163</td>\n",
              "      <td>5</td>\n",
              "      <td>1159.221069</td>\n",
              "    </tr>\n",
              "    <tr>\n",
              "      <th>25</th>\n",
              "      <td>6</td>\n",
              "      <td>1333</td>\n",
              "      <td>1</td>\n",
              "      <td>1388.964233</td>\n",
              "    </tr>\n",
              "    <tr>\n",
              "      <th>26</th>\n",
              "      <td>6</td>\n",
              "      <td>1322</td>\n",
              "      <td>2</td>\n",
              "      <td>1388.964233</td>\n",
              "    </tr>\n",
              "    <tr>\n",
              "      <th>27</th>\n",
              "      <td>6</td>\n",
              "      <td>1357</td>\n",
              "      <td>3</td>\n",
              "      <td>1388.964233</td>\n",
              "    </tr>\n",
              "    <tr>\n",
              "      <th>28</th>\n",
              "      <td>6</td>\n",
              "      <td>1411</td>\n",
              "      <td>4</td>\n",
              "      <td>1388.964233</td>\n",
              "    </tr>\n",
              "    <tr>\n",
              "      <th>29</th>\n",
              "      <td>6</td>\n",
              "      <td>1381</td>\n",
              "      <td>5</td>\n",
              "      <td>1388.964233</td>\n",
              "    </tr>\n",
              "    <tr>\n",
              "      <th>...</th>\n",
              "      <td>...</td>\n",
              "      <td>...</td>\n",
              "      <td>...</td>\n",
              "      <td>...</td>\n",
              "    </tr>\n",
              "    <tr>\n",
              "      <th>470</th>\n",
              "      <td>95</td>\n",
              "      <td>21965</td>\n",
              "      <td>1</td>\n",
              "      <td>21836.113281</td>\n",
              "    </tr>\n",
              "    <tr>\n",
              "      <th>471</th>\n",
              "      <td>95</td>\n",
              "      <td>21913</td>\n",
              "      <td>2</td>\n",
              "      <td>21836.113281</td>\n",
              "    </tr>\n",
              "    <tr>\n",
              "      <th>472</th>\n",
              "      <td>95</td>\n",
              "      <td>21626</td>\n",
              "      <td>3</td>\n",
              "      <td>21836.113281</td>\n",
              "    </tr>\n",
              "    <tr>\n",
              "      <th>473</th>\n",
              "      <td>95</td>\n",
              "      <td>21563</td>\n",
              "      <td>4</td>\n",
              "      <td>21836.113281</td>\n",
              "    </tr>\n",
              "    <tr>\n",
              "      <th>474</th>\n",
              "      <td>95</td>\n",
              "      <td>21521</td>\n",
              "      <td>5</td>\n",
              "      <td>21836.113281</td>\n",
              "    </tr>\n",
              "    <tr>\n",
              "      <th>475</th>\n",
              "      <td>96</td>\n",
              "      <td>22358</td>\n",
              "      <td>1</td>\n",
              "      <td>22065.857422</td>\n",
              "    </tr>\n",
              "    <tr>\n",
              "      <th>476</th>\n",
              "      <td>96</td>\n",
              "      <td>21874</td>\n",
              "      <td>2</td>\n",
              "      <td>22065.857422</td>\n",
              "    </tr>\n",
              "    <tr>\n",
              "      <th>477</th>\n",
              "      <td>96</td>\n",
              "      <td>21967</td>\n",
              "      <td>3</td>\n",
              "      <td>22065.857422</td>\n",
              "    </tr>\n",
              "    <tr>\n",
              "      <th>478</th>\n",
              "      <td>96</td>\n",
              "      <td>22079</td>\n",
              "      <td>4</td>\n",
              "      <td>22065.857422</td>\n",
              "    </tr>\n",
              "    <tr>\n",
              "      <th>479</th>\n",
              "      <td>96</td>\n",
              "      <td>22338</td>\n",
              "      <td>5</td>\n",
              "      <td>22065.857422</td>\n",
              "    </tr>\n",
              "    <tr>\n",
              "      <th>480</th>\n",
              "      <td>97</td>\n",
              "      <td>22610</td>\n",
              "      <td>1</td>\n",
              "      <td>22295.599609</td>\n",
              "    </tr>\n",
              "    <tr>\n",
              "      <th>481</th>\n",
              "      <td>97</td>\n",
              "      <td>22495</td>\n",
              "      <td>2</td>\n",
              "      <td>22295.599609</td>\n",
              "    </tr>\n",
              "    <tr>\n",
              "      <th>482</th>\n",
              "      <td>97</td>\n",
              "      <td>22387</td>\n",
              "      <td>3</td>\n",
              "      <td>22295.599609</td>\n",
              "    </tr>\n",
              "    <tr>\n",
              "      <th>483</th>\n",
              "      <td>97</td>\n",
              "      <td>22198</td>\n",
              "      <td>4</td>\n",
              "      <td>22295.599609</td>\n",
              "    </tr>\n",
              "    <tr>\n",
              "      <th>484</th>\n",
              "      <td>97</td>\n",
              "      <td>22325</td>\n",
              "      <td>5</td>\n",
              "      <td>22295.599609</td>\n",
              "    </tr>\n",
              "    <tr>\n",
              "      <th>485</th>\n",
              "      <td>98</td>\n",
              "      <td>22506</td>\n",
              "      <td>1</td>\n",
              "      <td>22525.343750</td>\n",
              "    </tr>\n",
              "    <tr>\n",
              "      <th>486</th>\n",
              "      <td>98</td>\n",
              "      <td>22595</td>\n",
              "      <td>2</td>\n",
              "      <td>22525.343750</td>\n",
              "    </tr>\n",
              "    <tr>\n",
              "      <th>487</th>\n",
              "      <td>98</td>\n",
              "      <td>22725</td>\n",
              "      <td>3</td>\n",
              "      <td>22525.343750</td>\n",
              "    </tr>\n",
              "    <tr>\n",
              "      <th>488</th>\n",
              "      <td>98</td>\n",
              "      <td>22450</td>\n",
              "      <td>4</td>\n",
              "      <td>22525.343750</td>\n",
              "    </tr>\n",
              "    <tr>\n",
              "      <th>489</th>\n",
              "      <td>98</td>\n",
              "      <td>22853</td>\n",
              "      <td>5</td>\n",
              "      <td>22525.343750</td>\n",
              "    </tr>\n",
              "    <tr>\n",
              "      <th>490</th>\n",
              "      <td>99</td>\n",
              "      <td>22815</td>\n",
              "      <td>1</td>\n",
              "      <td>22755.085938</td>\n",
              "    </tr>\n",
              "    <tr>\n",
              "      <th>491</th>\n",
              "      <td>99</td>\n",
              "      <td>23097</td>\n",
              "      <td>2</td>\n",
              "      <td>22755.085938</td>\n",
              "    </tr>\n",
              "    <tr>\n",
              "      <th>492</th>\n",
              "      <td>99</td>\n",
              "      <td>22929</td>\n",
              "      <td>3</td>\n",
              "      <td>22755.085938</td>\n",
              "    </tr>\n",
              "    <tr>\n",
              "      <th>493</th>\n",
              "      <td>99</td>\n",
              "      <td>22694</td>\n",
              "      <td>4</td>\n",
              "      <td>22755.085938</td>\n",
              "    </tr>\n",
              "    <tr>\n",
              "      <th>494</th>\n",
              "      <td>99</td>\n",
              "      <td>22803</td>\n",
              "      <td>5</td>\n",
              "      <td>22755.085938</td>\n",
              "    </tr>\n",
              "    <tr>\n",
              "      <th>495</th>\n",
              "      <td>100</td>\n",
              "      <td>22862</td>\n",
              "      <td>1</td>\n",
              "      <td>22984.830078</td>\n",
              "    </tr>\n",
              "    <tr>\n",
              "      <th>496</th>\n",
              "      <td>100</td>\n",
              "      <td>23071</td>\n",
              "      <td>2</td>\n",
              "      <td>22984.830078</td>\n",
              "    </tr>\n",
              "    <tr>\n",
              "      <th>497</th>\n",
              "      <td>100</td>\n",
              "      <td>22941</td>\n",
              "      <td>3</td>\n",
              "      <td>22984.830078</td>\n",
              "    </tr>\n",
              "    <tr>\n",
              "      <th>498</th>\n",
              "      <td>100</td>\n",
              "      <td>23020</td>\n",
              "      <td>4</td>\n",
              "      <td>22984.830078</td>\n",
              "    </tr>\n",
              "    <tr>\n",
              "      <th>499</th>\n",
              "      <td>100</td>\n",
              "      <td>23165</td>\n",
              "      <td>5</td>\n",
              "      <td>22984.830078</td>\n",
              "    </tr>\n",
              "  </tbody>\n",
              "</table>\n",
              "<p>500 rows × 4 columns</p>\n",
              "</div>"
            ]
          },
          "metadata": {}
        }
      ],
      "execution_count": 10,
      "metadata": {
        "inputHidden": false,
        "outputHidden": true
      }
    },
    {
      "cell_type": "markdown",
      "source": [
        "### Evaluating the model\n",
        "\n",
        "Evaluating a model on data the model hasn't seen is a better test of how well that model will generalise.\n",
        "The code below will evaluate the average accuracy of the model (mean absolute deviation)."
      ],
      "metadata": {}
    },
    {
      "cell_type": "code",
      "source": [
        "import numpy as np\n",
        "predicted = y_scale.inverse_transform(model.predict(X_test))\n",
        "\n",
        "error = np.abs(predicted - y_scale.inverse_transform(y_test))\n",
        "\nprint(error.mean()) "
      ],
      "outputs": [
        {
          "output_type": "stream",
          "name": "stdout",
          "text": [
            "93.121254069\n"
          ]
        }
      ],
      "execution_count": 26,
      "metadata": {
        "collapsed": false,
        "outputHidden": true,
        "inputHidden": false
      }
    },
    {
      "cell_type": "markdown",
      "source": [],
      "metadata": {}
    },
    {
      "cell_type": "code",
      "source": [
        "predicted = y_scale.inverse_transform(model.predict(X_train))\n",
        "\n",
        "error = np.abs(predicted - y_scale.inverse_transform(y_train))\n",
        "\nprint(error.mean()) "
      ],
      "outputs": [
        {
          "output_type": "stream",
          "name": "stdout",
          "text": [
            "83.8608073934\n"
          ]
        }
      ],
      "execution_count": 27,
      "metadata": {
        "collapsed": false,
        "outputHidden": true,
        "inputHidden": false
      }
    },
    {
      "cell_type": "markdown",
      "source": [
        "# Multiple Linear Regression\n"
      ],
      "metadata": {}
    },
    {
      "cell_type": "code",
      "source": [
        "gpu = pd.read_csv(\"gpu_cluster.csv\")\n",
        "cluster_aug = cluster\n",
        "cluster_aug['accelerated_cores'] = 0\n",
        "cluster_aug['total_cores'] = cluster_aug['cores']\n",
        "full_data = pd.concat([gpu,cluster_aug],axis=\"rows\")\n",
        "full_data"
      ],
      "outputs": [],
      "execution_count": null,
      "metadata": {
        "collapsed": false,
        "outputHidden": false,
        "inputHidden": false
      }
    },
    {
      "cell_type": "code",
      "source": [
        "from sklearn.preprocessing import StandardScaler\n",
        "\n",
        "X = full_data[['cores','accelerated_cores']]\n",
        "y = full_data[['emails_processed']]\n",
        "x_scale = StandardScaler()\n",
        "X = x_scale.fit_transform(X)\n",
        "y_scale = StandardScaler()\n",
        "y = y_scale.fit_transform(y)"
      ],
      "outputs": [],
      "execution_count": 13,
      "metadata": {
        "collapsed": false,
        "outputHidden": false,
        "inputHidden": false
      }
    },
    {
      "cell_type": "code",
      "source": [
        "from sklearn.model_selection import train_test_split\n",
        "X_train, X_test, y_train, y_test = train_test_split(X,y,test_size=0.2)"
      ],
      "outputs": [],
      "execution_count": 14,
      "metadata": {
        "collapsed": false,
        "outputHidden": false,
        "inputHidden": false
      }
    },
    {
      "cell_type": "code",
      "source": [
        "from keras.models import Sequential\n",
        "from keras.layers.core import Dense, Activation\n",
        "\n",
        "model = Sequential()\n",
        "model.add(Dense(units=1,kernel_initializer='uniform',\\\n",
        "                activation='linear',input_dim=2))\n",
        "model.compile(loss='mean_squared_error', optimizer='adagrad')\n",
        "\n",
        "model.fit(X_train, y_train, epochs=2000,verbose=0)\n",
        "score = model.evaluate(X_test,y_test)\n",
        "print(score)"
      ],
      "outputs": [],
      "execution_count": null,
      "metadata": {
        "collapsed": false,
        "outputHidden": false,
        "inputHidden": false
      }
    },
    {
      "cell_type": "markdown",
      "source": [],
      "metadata": {}
    }
  ],
  "metadata": {
    "kernel_info": {
      "name": "python3"
    },
    "kernelspec": {
      "name": "python3",
      "language": "python",
      "display_name": "Python 3"
    },
    "language_info": {
      "name": "python",
      "version": "3.6.3",
      "mimetype": "text/x-python",
      "codemirror_mode": {
        "name": "ipython",
        "version": 3
      },
      "pygments_lexer": "ipython3",
      "nbconvert_exporter": "python",
      "file_extension": ".py"
    },
    "latex_envs": {
      "report_style_numbering": false,
      "hotkeys": {
        "equation": "Ctrl-E",
        "itemize": "Ctrl-I"
      },
      "LaTeX_envs_menu_present": true,
      "autocomplete": true,
      "autoclose": false,
      "eqNumInitial": 1,
      "bibliofile": "biblio.bib",
      "latex_user_defs": false,
      "current_citInitial": 1,
      "eqLabelWithNumbers": true,
      "labels_anchors": false,
      "cite_by": "apalike",
      "user_envs_cfg": false
    },
    "nteract": {
      "version": "0.8.3"
    },
    "toc": {
      "toc_position": {},
      "skip_h1_title": false,
      "number_sections": true,
      "title_cell": "Table of Contents",
      "toc_window_display": false,
      "toc_section_display": true,
      "title_sidebar": "Contents",
      "toc_cell": false,
      "nav_menu": {},
      "sideBar": true
    }
  },
  "nbformat": 4,
  "nbformat_minor": 2
}