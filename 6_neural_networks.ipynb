{
 "cells": [
  {
   "cell_type": "markdown",
   "metadata": {},
   "source": [
    "# Neural Networks\n",
    "\n",
    "Neural networks work by connecting together a sequence of \"layers\" (nodes connected to one another).\n",
    "In this notebook we'll work with the `Dense` Layer, where every every node from the previous layer is connected to every node in the subsequent layer.\n",
    "\n",
    "We'll use the [Keras](https://keras.io/) library\n",
    "\n",
    "When we use Neural Networks, they will train more effectively if we scale the label column (SalePrice) to lie between 0 and 1. We \n",
    "then transform it back to its original scale."
   ]
  },
  {
   "cell_type": "code",
   "execution_count": 1,
   "metadata": {},
   "outputs": [
    {
     "ename": "ModuleNotFoundError",
     "evalue": "No module named 'keras'",
     "output_type": "error",
     "traceback": [
      "\u001b[0;31m---------------------------------------------------------------------------\u001b[0m",
      "\u001b[0;31mModuleNotFoundError\u001b[0m                       Traceback (most recent call last)",
      "\u001b[0;32m<ipython-input-1-95303414206d>\u001b[0m in \u001b[0;36m<module>\u001b[0;34m()\u001b[0m\n\u001b[1;32m      1\u001b[0m \u001b[0;32mfrom\u001b[0m \u001b[0mutils\u001b[0m \u001b[0;32mimport\u001b[0m \u001b[0mevaluate_model\u001b[0m\u001b[0;34m,\u001b[0m \u001b[0mencode_features\u001b[0m\u001b[0;34m,\u001b[0m \u001b[0mencode_label\u001b[0m\u001b[0;34m,\u001b[0m \u001b[0mdecode_label\u001b[0m\u001b[0;34m\u001b[0m\u001b[0m\n\u001b[0;32m----> 2\u001b[0;31m \u001b[0;32mfrom\u001b[0m \u001b[0mkeras\u001b[0m\u001b[0;34m.\u001b[0m\u001b[0mmodels\u001b[0m \u001b[0;32mimport\u001b[0m \u001b[0mSequential\u001b[0m\u001b[0;34m\u001b[0m\u001b[0m\n\u001b[0m\u001b[1;32m      3\u001b[0m \u001b[0;32mfrom\u001b[0m \u001b[0mkeras\u001b[0m\u001b[0;34m.\u001b[0m\u001b[0mlayers\u001b[0m \u001b[0;32mimport\u001b[0m \u001b[0mDense\u001b[0m\u001b[0;34m,\u001b[0m \u001b[0mActivation\u001b[0m\u001b[0;34m\u001b[0m\u001b[0m\n\u001b[1;32m      4\u001b[0m \u001b[0;32mimport\u001b[0m \u001b[0msklearn\u001b[0m\u001b[0;34m\u001b[0m\u001b[0m\n\u001b[1;32m      5\u001b[0m \u001b[0;32mimport\u001b[0m \u001b[0mnumpy\u001b[0m \u001b[0;32mas\u001b[0m \u001b[0mnp\u001b[0m\u001b[0;34m\u001b[0m\u001b[0m\n",
      "\u001b[0;31mModuleNotFoundError\u001b[0m: No module named 'keras'"
     ]
    }
   ],
   "source": [
    "from utils import evaluate_model, encode_features, encode_label, decode_label\n",
    "from keras.models import Sequential\n",
    "from keras.layers import Dense, Activation\n",
    "import sklearn\n",
    "import numpy as np\n",
    "import pandas as pd\n",
    "import sklearn.preprocessing"
   ]
  },
  {
   "cell_type": "code",
   "execution_count": null,
   "metadata": {},
   "outputs": [],
   "source": [
    "def train_neural_network_model(training_set):\n",
    "    training_features, feature_scaler = encode_features(training_set)\n",
    "    label, label_scaler = encode_label(training_set)\n",
    "    \n",
    "    # 3 Dense layers and an output layer\n",
    "    predictor = Sequential([\n",
    "        Dense(128, input_shape=(11,)),\n",
    "        Activation('relu'),\n",
    "        Dense(128),\n",
    "        Activation('relu'),\n",
    "        Dense(128),\n",
    "        Activation('relu'),\n",
    "        Dense(128),\n",
    "        Activation('relu'),\n",
    "        Dense(1),\n",
    "        Activation('relu')\n",
    "    ])\n",
    "    \n",
    "    predictor.compile(optimizer='rmsprop', loss='mae')\n",
    "    \n",
    "    predictor.fit(training_features, label, epochs = 100)\n",
    "    \n",
    "    def model(input_data):\n",
    "        input_features, _ = encode_features(input_data, scaler=feature_scaler)\n",
    "        scaled_predictions = predictor.predict(input_features)\n",
    "        scaled_price_prediection = np.reshape(scaled_predictions, scaled_predictions.shape[0], )\n",
    "        \n",
    "        # Scale prediction back to its original scale\n",
    "        return decode_label(scaled_price_prediection, label_scaler)\n",
    "    \n",
    "    return(model)"
   ]
  },
  {
   "cell_type": "code",
   "execution_count": null,
   "metadata": {},
   "outputs": [],
   "source": [
    "training_set = pd.read_csv(\"housing_price_data/training_data.csv\")\n",
    "neural_network_model = train_neural_network_model(training_set)\n",
    "evaluate_model(neural_network_model)"
   ]
  },
  {
   "cell_type": "markdown",
   "metadata": {},
   "source": [
    "# Exercise"
   ]
  },
  {
   "cell_type": "markdown",
   "metadata": {},
   "source": [
    "1. Play around with different `Activation` functions. Options include 'tanh', and 'sigmoid'\n",
    "2. Experiment with adding different numbers of nodes and layers.\n",
    "\n",
    "Competition Exercise: Build a linear model to achieve as low score as possible. Winner will receive an Eliiza water bottle."
   ]
  },
  {
   "cell_type": "code",
   "execution_count": null,
   "metadata": {},
   "outputs": [],
   "source": []
  }
 ],
 "metadata": {
  "kernelspec": {
   "display_name": "Python 3",
   "language": "python",
   "name": "python3"
  },
  "language_info": {
   "codemirror_mode": {
    "name": "ipython",
    "version": 3
   },
   "file_extension": ".py",
   "mimetype": "text/x-python",
   "name": "python",
   "nbconvert_exporter": "python",
   "pygments_lexer": "ipython3",
   "version": "3.6.5"
  }
 },
 "nbformat": 4,
 "nbformat_minor": 2
}
