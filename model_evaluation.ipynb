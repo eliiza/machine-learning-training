{
  "cells": [
    {
      "cell_type": "markdown",
      "source": [
        "# Evaluating Models"
      ],
      "metadata": {
        "inputHidden": false,
        "outputHidden": false
      }
    },
    {
      "cell_type": "markdown",
      "source": [
        "# Evaluating Models"
      ],
      "metadata": {}
    },
    {
      "cell_type": "markdown",
      "source": [
        "We'll be using the following data science libraries (click the links for cheat sheets provided by DataCamp)\n",
        "* [numpy](https://s3.amazonaws.com/assets.datacamp.com/blog_assets/Numpy_Python_Cheat_Sheet.pdf)  (for vectorised math operations)\n",
        "* [pandas](http://datacamp-community.s3.amazonaws.com/9f0f2ae1-8bd8-4302-a67b-e17f3059d9e8) (for dataframes)\n",
        "* [keras](https://s3.amazonaws.com/assets.datacamp.com/blog_assets/Keras_Cheat_Sheet_Python.pdf) (for neural networks)"
      ],
      "metadata": {}
    },
    {
      "cell_type": "code",
      "source": [
        "import numpy as np\n",
        "import pandas as pd\n",
        "import tensorflow as tf\n",
        "import matplotlib.pyplot as plt"
      ],
      "outputs": [],
      "execution_count": 7,
      "metadata": {}
    },
    {
      "cell_type": "markdown",
      "source": [
        "The first step to training models is to figure out a way to tell how good a model is. This is similar to test driven development. Before we write our functions, we first define the tests that the functions need to pass. In the world of machine learning, these tests are defined by the data available.\n",
        "\n",
        "Note that unlike TDD, we don't need to pass all the tests. There will almost always be some difference between the\n",
        "\n",
        "It's considered good practice to split our data up into a \"training set\" (for inspection and training models), and a \"test set\" for model evaluation.\n",
        "\nThis is to ensure a fair test of the model's ability to generaliset to new examples. The same reason why an exam contains different questions to the practice exams a student learns from."
      ],
      "metadata": {
        "inputHidden": false,
        "outputHidden": false
      }
    },
    {
      "cell_type": "code",
      "source": [
        "labelled = pd.read_csv(\"housing_price_data/train.csv\")"
      ],
      "outputs": [],
      "execution_count": 8,
      "metadata": {
        "inputHidden": false,
        "outputHidden": false
      }
    },
    {
      "cell_type": "code",
      "source": [
        "# Examine the size of our data\n",
        "labelled.shape"
      ],
      "outputs": [
        {
          "output_type": "execute_result",
          "execution_count": 9,
          "data": {
            "text/plain": [
              "(1460, 81)"
            ]
          },
          "metadata": {}
        }
      ],
      "execution_count": 9,
      "metadata": {
        "inputHidden": false,
        "outputHidden": false
      }
    },
    {
      "cell_type": "code",
      "source": [
        "# Split up into training and test sets.\n",
        "num_rows = labelled.shape[0]\n",
        "training_set = labelled[:round(num_rows*0.8)]\n",
        "test_set = labelled[round(num_rows*0.8):]\n",
        "training_set.to_csv(\"housing_price_data/training_data.csv\",index = False)\n",
        "test_set.to_csv(\"housing_price_data/test_data.csv\", index = False)"
      ],
      "outputs": [],
      "execution_count": 10,
      "metadata": {
        "inputHidden": false,
        "outputHidden": false
      }
    },
    {
      "cell_type": "markdown",
      "source": [
        "\n",
        "Now that we have a test set, we \n",
        "\n",
        "We'll use the mean absolute error. This is the average size of the difference between the predicted value vs the observed value.\n",
        "\n",
        "Formally, this is defined as\n",
        "\n",
        "$$  \\mathsf{MAE} = \\frac{1}{n} * \\sum_{i=1}^n |\\mathsf{predicted\\_value}[i] - \\mathsf{actual\\_value}[i]|  $$\n",
        "\n\n",
        "We now write a function to evaluate how accurate any given predictive model is at predicting on our test set.\n"
      ],
      "metadata": {
        "inputHidden": false,
        "outputHidden": false
      }
    },
    {
      "cell_type": "code",
      "source": [
        "def evaluate_model(model_fn):\n",
        "    '''\n",
        "    Consumes a function model_fn\n",
        "    and evaluates its predictive accuracy against \n",
        "    the housing prices test set.\n",
        "    '''\n",
        "    test_data = pd.read_csv(\"housing_price_data/test_data.csv\")\n",
        "    actual_values = test_data['SalePrice']\n",
        "    test_input = test_data.filter(regex='^(?!SalePrice$).*') #Pass in all columns except SalePrice\n",
        "    predicted_saleprice = model_fn(test_input)\n",
        "    return np.mean(np.abs(predicted_saleprice-actual_values))"
      ],
      "outputs": [],
      "execution_count": 11,
      "metadata": {
        "inputHidden": false,
        "outputHidden": false
      }
    },
    {
      "cell_type": "markdown",
      "source": [
        "Let's evaluate a very simple predictive heuristic: Sale Price = 100,000 * number of bedrooms."
      ],
      "metadata": {
        "inputHidden": false,
        "outputHidden": false
      }
    },
    {
      "cell_type": "code",
      "source": [
        "def bedroom_heuristic(input_data):\n",
        "    bedrooms = input_data['BedroomAbvGr']\n",
        "    prediction = 100000*bedrooms\n",
        "    return(prediction)"
      ],
      "outputs": [],
      "execution_count": 89,
      "metadata": {
        "inputHidden": false,
        "outputHidden": false
      }
    },
    {
      "cell_type": "code",
      "source": [
        "evaluate_model(bedroom_heuristic)"
      ],
      "outputs": [
        {
          "output_type": "execute_result",
          "execution_count": 90,
          "data": {
            "text/plain": [
              "132857.79452054793"
            ]
          },
          "metadata": {}
        }
      ],
      "execution_count": 90,
      "metadata": {
        "inputHidden": false,
        "outputHidden": false
      }
    },
    {
      "cell_type": "markdown",
      "source": [
        "Exercise: Try and make a heuristic that achieves a lower score.\n",
        "\nExercise: Extend `evaluate_model` to report how fast the model takes to make its predictions."
      ],
      "metadata": {
        "inputHidden": false,
        "outputHidden": false
      }
    },
    {
      "cell_type": "markdown",
      "source": [
        "# Linear Regression"
      ],
      "metadata": {
        "inputHidden": false,
        "outputHidden": false
      }
    },
    {
      "cell_type": "markdown",
      "source": [
        "Note that we can easily make new \"Bedroom Heuristics\" simply by changing the amount of dollars we multiply the number of bedrooms by."
      ],
      "metadata": {}
    },
    {
      "cell_type": "code",
      "source": [
        "def generate_bedroom_heuristic(a):\n",
        "    def heuristic(input_data):\n",
        "        prediction = a * input_data['BedroomAbvGr']\n",
        "        return(prediction)\n",
        "    return(heuristic)\n"
      ],
      "outputs": [],
      "execution_count": 43,
      "metadata": {}
    },
    {
      "cell_type": "markdown",
      "source": [
        "The question is now \"What's the best amount of dollars to multiply by?\" \n",
        "\n",
        "Let's start to answer this by using a for loop and trial and error.\n",
        "\n"
      ],
      "metadata": {
        "inputHidden": false,
        "outputHidden": false
      }
    },
    {
      "cell_type": "code",
      "source": [
        "model_scores = []\n",
        "for i in range(200):\n",
        "    score = evaluate_model(generate_bedroom_heuristic(i*1000))\n",
        "    model_scores.append(score)"
      ],
      "outputs": [],
      "execution_count": 61,
      "metadata": {}
    },
    {
      "cell_type": "code",
      "source": [
        "plt.plot(model_scores)"
      ],
      "outputs": [
        {
          "output_type": "execute_result",
          "execution_count": 62,
          "data": {
            "text/plain": [
              "[<matplotlib.lines.Line2D at 0x1a16ce3eb8>]"
            ]
          },
          "metadata": {}
        },
        {
          "output_type": "display_data",
          "data": {
            "text/plain": [
              "<matplotlib.figure.Figure at 0x1a178524e0>"
            ],
            "image/png": "[encoded data removed]"
          },
          "metadata": {}
        }
      ],
      "execution_count": 62,
      "metadata": {
        "inputHidden": false,
        "outputHidden": false
      }
    },
    {
      "cell_type": "code",
      "source": [
        "models = pd.DataFrame()\n",
        "models['Score'] = model_scores"
      ],
      "outputs": [],
      "execution_count": 63,
      "metadata": {
        "inputHidden": false,
        "outputHidden": false
      }
    },
    {
      "cell_type": "code",
      "source": [
        "models.loc[models.Score == models.Score.min()]"
      ],
      "outputs": [
        {
          "output_type": "execute_result",
          "execution_count": 64,
          "data": {
            "text/plain": [
              "           Score\n",
              "54  60874.363014"
            ],
            "text/html": [
              "<div>\n",
              "<style>\n",
              "    .dataframe thead tr:only-child th {\n",
              "        text-align: right;\n",
              "    }\n",
              "\n",
              "    .dataframe thead th {\n",
              "        text-align: left;\n",
              "    }\n",
              "\n",
              "    .dataframe tbody tr th {\n",
              "        vertical-align: top;\n",
              "    }\n",
              "</style>\n",
              "<table border=\"1\" class=\"dataframe\">\n",
              "  <thead>\n",
              "    <tr style=\"text-align: right;\">\n",
              "      <th></th>\n",
              "      <th>Score</th>\n",
              "    </tr>\n",
              "  </thead>\n",
              "  <tbody>\n",
              "    <tr>\n",
              "      <th>54</th>\n",
              "      <td>60874.363014</td>\n",
              "    </tr>\n",
              "  </tbody>\n",
              "</table>\n",
              "</div>"
            ]
          },
          "metadata": {}
        }
      ],
      "execution_count": 64,
      "metadata": {
        "inputHidden": false,
        "outputHidden": false
      }
    },
    {
      "cell_type": "markdown",
      "source": [
        "One issue with this approach is choosing an appropriate level of granularity. In this example we stepped through increments of 1000. But how do we know the optimal value really is \\$54,000 and not \\$53,765.08 ? We could lower our step size but this would mean increasing our compute time by orders of magnitude. "
      ],
      "metadata": {
        "inputHidden": false,
        "outputHidden": false
      }
    },
    {
      "cell_type": "markdown",
      "source": [
        "# Intermezzo: Optimisation\n",
        "\n",
        "The science of doing the above effectively is called optimisation. There are some brilliant algorithms for doing optimisation, the most popular in machine learning is called minibatch gradient descent. You can see an outline of this algorithm [here.](https://cs.brown.edu/courses/csci1951-a/assignments/regression.html)\n",
        "\n",
        "The idea behind the algorithm is to use calculus. As you may recall from high school maths, when the gradient $dy/dx  = 0$  then y is at a minimum or maximimum. This is illustrated in the following diagram.\n",
        "\n",
        "<img src=\"https://cs.brown.edu/courses/csci1951-a/assignments/images/gd.png\" width=\"800\">\n"
      ],
      "metadata": {}
    },
    {
      "cell_type": "markdown",
      "source": [
        "# Linear Regression"
      ],
      "metadata": {}
    },
    {
      "cell_type": "markdown",
      "source": [
        "Rather than brute force this, we can use a library.\n",
        "\nFirst, let's define our problem:"
      ],
      "metadata": {}
    },
    {
      "cell_type": "markdown",
      "source": [
        "*Problem*\n",
        "\n",
        "Find `a` such that `model_evaluate(generate_bedroom_heuristic(a))` attains a minimum value. \n",
        "\n"
      ],
      "metadata": {}
    },
    {
      "cell_type": "markdown",
      "source": [
        "In other words:\n",
        "\n",
        "Find `a` such that\n",
        "`mean(abs(a*training_set['BedroomAbvGr'] - training_set['SalePrice']))` attains a minimum value."
      ],
      "metadata": {}
    },
    {
      "cell_type": "markdown",
      "source": [
        "Note that we use the train_data set rather than the test_data set to ensure a better chance of generalisation."
      ],
      "metadata": {}
    },
    {
      "cell_type": "markdown",
      "source": [
        "We can solve this problem using the Sci Kit learn library"
      ],
      "metadata": {}
    },
    {
      "cell_type": "code",
      "source": [
        "from sklearn import linear_model\n",
        "\n",
        "predictor = linear_model.LinearRegression()\n",
        "predictor.fit(training_set[['BedroomAbvGr']],training_set['SalePrice'])"
      ],
      "outputs": [
        {
          "output_type": "execute_result",
          "execution_count": 93,
          "data": {
            "text/plain": [
              "LinearRegression(copy_X=True, fit_intercept=True, n_jobs=1, normalize=False)"
            ]
          },
          "metadata": {}
        }
      ],
      "execution_count": 93,
      "metadata": {}
    },
    {
      "cell_type": "markdown",
      "source": [
        "We now wrap this up into something that can be evaluated."
      ],
      "metadata": {
        "collapsed": false,
        "outputHidden": false,
        "inputHidden": false
      }
    },
    {
      "cell_type": "code",
      "source": [
        "def bedroom_linear_model(input_data):\n",
        "    return(predictor.predict(input_data[['BedroomAbvGr']]))"
      ],
      "outputs": [],
      "execution_count": 109,
      "metadata": {
        "collapsed": false,
        "outputHidden": false,
        "inputHidden": false
      }
    },
    {
      "cell_type": "code",
      "source": [
        "evaluate_model(bedroom_linear_model)"
      ],
      "outputs": [
        {
          "output_type": "execute_result",
          "execution_count": 110,
          "data": {
            "text/plain": [
              "56628.43522624719"
            ]
          },
          "metadata": {}
        }
      ],
      "execution_count": 110,
      "metadata": {
        "collapsed": false,
        "outputHidden": false,
        "inputHidden": false
      }
    },
    {
      "cell_type": "markdown",
      "source": [
        "Let's examine the predictions of our linear model"
      ],
      "metadata": {
        "collapsed": false,
        "outputHidden": false,
        "inputHidden": false
      }
    },
    {
      "cell_type": "code",
      "source": [
        "my_data = training_set.copy()"
      ],
      "outputs": [],
      "execution_count": 114,
      "metadata": {
        "collapsed": false,
        "outputHidden": false,
        "inputHidden": false
      }
    },
    {
      "cell_type": "code",
      "source": [
        "my_data['Predicted'] = bedroom_linear_model(my_data)"
      ],
      "outputs": [],
      "execution_count": 115,
      "metadata": {
        "collapsed": false,
        "outputHidden": false,
        "inputHidden": false
      }
    },
    {
      "cell_type": "code",
      "source": [
        "my_data['Error'] = my_data['Predicted'] - my_data['SalePrice']"
      ],
      "outputs": [],
      "execution_count": 121,
      "metadata": {
        "collapsed": false,
        "outputHidden": false,
        "inputHidden": false
      }
    },
    {
      "cell_type": "code",
      "source": [
        "my_data['Error'].plot()"
      ],
      "outputs": [
        {
          "output_type": "execute_result",
          "execution_count": 122,
          "data": {
            "text/plain": [
              "<matplotlib.axes._subplots.AxesSubplot at 0x1a21b0b8d0>"
            ]
          },
          "metadata": {}
        },
        {
          "output_type": "display_data",
          "data": {
            "text/plain": [
              "<matplotlib.figure.Figure at 0x1a21ea5518>"
            ],
            "image/png": "[encoded data removed]"
          },
          "metadata": {}
        }
      ],
      "execution_count": 122,
      "metadata": {
        "collapsed": false,
        "outputHidden": false,
        "inputHidden": false
      }
    },
    {
      "cell_type": "markdown",
      "source": [
        "It looks like our model works OK, but there are some instances of severe underprediction."
      ],
      "metadata": {
        "collapsed": false,
        "outputHidden": false,
        "inputHidden": false
      }
    },
    {
      "cell_type": "markdown",
      "source": [],
      "metadata": {}
    }
  ],
  "metadata": {
    "kernel_info": {
      "name": "python3"
    },
    "kernelspec": {
      "name": "python3",
      "language": "python",
      "display_name": "Python 3"
    },
    "language_info": {
      "name": "python",
      "version": "3.6.3",
      "mimetype": "text/x-python",
      "codemirror_mode": {
        "name": "ipython",
        "version": 3
      },
      "pygments_lexer": "ipython3",
      "nbconvert_exporter": "python",
      "file_extension": ".py"
    },
    "latex_envs": {
      "report_style_numbering": false,
      "hotkeys": {
        "equation": "Ctrl-E",
        "itemize": "Ctrl-I"
      },
      "LaTeX_envs_menu_present": true,
      "autocomplete": true,
      "autoclose": false,
      "eqNumInitial": 1,
      "bibliofile": "biblio.bib",
      "latex_user_defs": false,
      "current_citInitial": 1,
      "eqLabelWithNumbers": true,
      "labels_anchors": false,
      "cite_by": "apalike",
      "user_envs_cfg": false
    },
    "nteract": {
      "version": "0.8.3"
    },
    "toc": {
      "toc_position": {},
      "skip_h1_title": false,
      "number_sections": true,
      "title_cell": "Table of Contents",
      "toc_window_display": false,
      "toc_section_display": true,
      "title_sidebar": "Contents",
      "toc_cell": false,
      "nav_menu": {},
      "sideBar": true
    },
    "varInspector": {
      "cols": {
        "lenName": 16,
        "lenType": 16,
        "lenVar": 40
      },
      "kernels_config": {
        "python": {
          "delete_cmd_postfix": "",
          "delete_cmd_prefix": "del ",
          "library": "var_list.py",
          "varRefreshCmd": "print(var_dic_list())"
        },
        "r": {
          "delete_cmd_postfix": ") ",
          "delete_cmd_prefix": "rm(",
          "library": "var_list.r",
          "varRefreshCmd": "cat(var_dic_list()) "
        }
      },
      "types_to_exclude": [
        "module",
        "function",
        "builtin_function_or_method",
        "instance",
        "_Feature"
      ],
      "window_display": false
    }
  },
  "nbformat": 4,
  "nbformat_minor": 4
}