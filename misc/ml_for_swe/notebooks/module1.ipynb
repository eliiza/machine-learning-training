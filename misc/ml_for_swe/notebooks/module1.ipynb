{
  "cells": [
    {
      "cell_type": "markdown",
      "source": [
        "# Table of Contents\n",
        "\n",
        "1. [Introduction to models]\n",
        "1. [Evaluating Models](#Evaluating-Models)\n",
        " -  [Mean Absolute Error](#Mean-Absolute-Error)\n",
        "2. [Plot our data]\n",
        "- [Brute Force](#Brute-Force)\n",
        "- [Discussion: Optimisation](#Intermezzo:-Optimisation)\n",
        "- [Linear Regression](#Linear-Regression)\n",
        " - [Discussion: Plotting Residuals](#resid)\n",
        "- [Multiple Linear Regression](#Multiple-Linear-Regression)\n",
        "- [Feature Engineering](#Feature-Engineering)\n",
        " - Encoding Categorical Variables\n",
        "  - One Hot Encoding\n",
        " - Standardization\n",
        " - Creating New Features\n",
        "- XGBoost\n",
        "- Neural Networks\n",
        "- Discussion: Hyperparameter Tuning"
      ],
      "metadata": {}
    },
    {
      "cell_type": "markdown",
      "source": [
        "# Introduction to Models\n",
        "\n",
        "In traditional programming, we have:\n",
        "\n",
        "Input + Rules  ->  Output\n",
        "\n",
        "AI gives us\n",
        "\n",
        "Input + Expected Output -> Rules\n",
        "\n\n",
        "This can lead to effective solutions for problems we don't know how to solve by programming (e.g. recognizing faces.)\n",
        "\n",
        "The process of working out rules given data is called \"training a model\". This module is meant to get you up to speed for how to train a model.\n",
        "\n\n",
        "There are four key aspects to using models:\n",
        "\n",
        "1. Evaluation\n",
        "2. Prediction\n",
        "3. Training\n",
        "4. Encoding data.\n"
      ],
      "metadata": {}
    },
    {
      "cell_type": "markdown",
      "source": [
        "# Evaluating Models"
      ],
      "metadata": {
        "slideshow": {
          "slide_type": "slide"
        }
      }
    },
    {
      "cell_type": "markdown",
      "source": [
        "We'll be using the following data science libraries (click the links for cheat sheets provided by DataCamp)\n",
        "* [numpy](https://s3.amazonaws.com/assets.datacamp.com/blog_assets/Numpy_Python_Cheat_Sheet.pdf)  (for vectorised math operations)\n",
        "* [pandas](http://datacamp-community.s3.amazonaws.com/9f0f2ae1-8bd8-4302-a67b-e17f3059d9e8) (for dataframes)\n",
        "* [keras](https://s3.amazonaws.com/assets.datacamp.com/blog_assets/Keras_Cheat_Sheet_Python.pdf) (for neural networks)\n",
        "* [scikitlearn]"
      ],
      "metadata": {}
    },
    {
      "cell_type": "code",
      "source": [
        "import numpy as np\n",
        "import pandas as pd\n",
        "import tensorflow as tf\n",
        "import matplotlib.pyplot as plt\n",
        "import keras"
      ],
      "outputs": [
        {
          "output_type": "stream",
          "name": "stderr",
          "text": [
            "Using TensorFlow backend.\n"
          ]
        }
      ],
      "execution_count": 1,
      "metadata": {
        "ExecuteTime": {
          "end_time": "2018-04-03T03:35:42.924330Z",
          "start_time": "2018-04-03T03:35:42.845978Z"
        }
      }
    },
    {
      "cell_type": "markdown",
      "source": [
        "The first step to training models is to figure out a way to tell how good a model is. This is similar to test driven development. Before we write our functions, we first define the tests that the functions need to pass. In the world of machine learning, these tests are defined by the data available.\n",
        "\n",
        "Note that unlike TDD, we don't need to pass all the tests. There will almost always be some difference between the predicted outcome and the measured outcomes.\n",
        "\n",
        "It's considered good practice to split our data up into a \"training set\" (for inspection and training models), and a \"test set\" for model evaluation.\n",
        "\n",
        "This is to ensure a fair test of the model's ability to generalise to new examples. The same reason why an exam contains different questions to the practice exams a student learns from.\n",
        "\n\n",
        "Throughout this module, we'll be using the [Ames Housing Prices Data Set](https://www.kaggle.com/c/house-prices-advanced-regression-techniques)\n",
        "\nThe data is described in `../data/housing_price_data/data_description.txt`"
      ],
      "metadata": {
        "inputHidden": false,
        "outputHidden": false
      }
    },
    {
      "cell_type": "code",
      "source": [
        "labelled = pd.read_csv(\"../data/housing_price_data/train.csv\") #TODO Provide reference to dataset.\n",
        "labelled.head()"
      ],
      "outputs": [
        {
          "output_type": "execute_result",
          "execution_count": 2,
          "data": {
            "text/html": [
              "<div>\n",
              "<style>\n",
              "    .dataframe thead tr:only-child th {\n",
              "        text-align: right;\n",
              "    }\n",
              "\n",
              "    .dataframe thead th {\n",
              "        text-align: left;\n",
              "    }\n",
              "\n",
              "    .dataframe tbody tr th {\n",
              "        vertical-align: top;\n",
              "    }\n",
              "</style>\n",
              "<table border=\"1\" class=\"dataframe\">\n",
              "  <thead>\n",
              "    <tr style=\"text-align: right;\">\n",
              "      <th></th>\n",
              "      <th>Id</th>\n",
              "      <th>MSSubClass</th>\n",
              "      <th>MSZoning</th>\n",
              "      <th>LotFrontage</th>\n",
              "      <th>LotArea</th>\n",
              "      <th>Street</th>\n",
              "      <th>Alley</th>\n",
              "      <th>LotShape</th>\n",
              "      <th>LandContour</th>\n",
              "      <th>Utilities</th>\n",
              "      <th>...</th>\n",
              "      <th>PoolArea</th>\n",
              "      <th>PoolQC</th>\n",
              "      <th>Fence</th>\n",
              "      <th>MiscFeature</th>\n",
              "      <th>MiscVal</th>\n",
              "      <th>MoSold</th>\n",
              "      <th>YrSold</th>\n",
              "      <th>SaleType</th>\n",
              "      <th>SaleCondition</th>\n",
              "      <th>SalePrice</th>\n",
              "    </tr>\n",
              "  </thead>\n",
              "  <tbody>\n",
              "    <tr>\n",
              "      <th>0</th>\n",
              "      <td>1</td>\n",
              "      <td>60</td>\n",
              "      <td>RL</td>\n",
              "      <td>65.0</td>\n",
              "      <td>8450</td>\n",
              "      <td>Pave</td>\n",
              "      <td>NaN</td>\n",
              "      <td>Reg</td>\n",
              "      <td>Lvl</td>\n",
              "      <td>AllPub</td>\n",
              "      <td>...</td>\n",
              "      <td>0</td>\n",
              "      <td>NaN</td>\n",
              "      <td>NaN</td>\n",
              "      <td>NaN</td>\n",
              "      <td>0</td>\n",
              "      <td>2</td>\n",
              "      <td>2008</td>\n",
              "      <td>WD</td>\n",
              "      <td>Normal</td>\n",
              "      <td>208500</td>\n",
              "    </tr>\n",
              "    <tr>\n",
              "      <th>1</th>\n",
              "      <td>2</td>\n",
              "      <td>20</td>\n",
              "      <td>RL</td>\n",
              "      <td>80.0</td>\n",
              "      <td>9600</td>\n",
              "      <td>Pave</td>\n",
              "      <td>NaN</td>\n",
              "      <td>Reg</td>\n",
              "      <td>Lvl</td>\n",
              "      <td>AllPub</td>\n",
              "      <td>...</td>\n",
              "      <td>0</td>\n",
              "      <td>NaN</td>\n",
              "      <td>NaN</td>\n",
              "      <td>NaN</td>\n",
              "      <td>0</td>\n",
              "      <td>5</td>\n",
              "      <td>2007</td>\n",
              "      <td>WD</td>\n",
              "      <td>Normal</td>\n",
              "      <td>181500</td>\n",
              "    </tr>\n",
              "    <tr>\n",
              "      <th>2</th>\n",
              "      <td>3</td>\n",
              "      <td>60</td>\n",
              "      <td>RL</td>\n",
              "      <td>68.0</td>\n",
              "      <td>11250</td>\n",
              "      <td>Pave</td>\n",
              "      <td>NaN</td>\n",
              "      <td>IR1</td>\n",
              "      <td>Lvl</td>\n",
              "      <td>AllPub</td>\n",
              "      <td>...</td>\n",
              "      <td>0</td>\n",
              "      <td>NaN</td>\n",
              "      <td>NaN</td>\n",
              "      <td>NaN</td>\n",
              "      <td>0</td>\n",
              "      <td>9</td>\n",
              "      <td>2008</td>\n",
              "      <td>WD</td>\n",
              "      <td>Normal</td>\n",
              "      <td>223500</td>\n",
              "    </tr>\n",
              "    <tr>\n",
              "      <th>3</th>\n",
              "      <td>4</td>\n",
              "      <td>70</td>\n",
              "      <td>RL</td>\n",
              "      <td>60.0</td>\n",
              "      <td>9550</td>\n",
              "      <td>Pave</td>\n",
              "      <td>NaN</td>\n",
              "      <td>IR1</td>\n",
              "      <td>Lvl</td>\n",
              "      <td>AllPub</td>\n",
              "      <td>...</td>\n",
              "      <td>0</td>\n",
              "      <td>NaN</td>\n",
              "      <td>NaN</td>\n",
              "      <td>NaN</td>\n",
              "      <td>0</td>\n",
              "      <td>2</td>\n",
              "      <td>2006</td>\n",
              "      <td>WD</td>\n",
              "      <td>Abnorml</td>\n",
              "      <td>140000</td>\n",
              "    </tr>\n",
              "    <tr>\n",
              "      <th>4</th>\n",
              "      <td>5</td>\n",
              "      <td>60</td>\n",
              "      <td>RL</td>\n",
              "      <td>84.0</td>\n",
              "      <td>14260</td>\n",
              "      <td>Pave</td>\n",
              "      <td>NaN</td>\n",
              "      <td>IR1</td>\n",
              "      <td>Lvl</td>\n",
              "      <td>AllPub</td>\n",
              "      <td>...</td>\n",
              "      <td>0</td>\n",
              "      <td>NaN</td>\n",
              "      <td>NaN</td>\n",
              "      <td>NaN</td>\n",
              "      <td>0</td>\n",
              "      <td>12</td>\n",
              "      <td>2008</td>\n",
              "      <td>WD</td>\n",
              "      <td>Normal</td>\n",
              "      <td>250000</td>\n",
              "    </tr>\n",
              "  </tbody>\n",
              "</table>\n",
              "<p>5 rows × 81 columns</p>\n",
              "</div>"
            ],
            "text/plain": [
              "   Id  MSSubClass MSZoning  LotFrontage  LotArea Street Alley LotShape  \\\n",
              "0   1          60       RL         65.0     8450   Pave   NaN      Reg   \n",
              "1   2          20       RL         80.0     9600   Pave   NaN      Reg   \n",
              "2   3          60       RL         68.0    11250   Pave   NaN      IR1   \n",
              "3   4          70       RL         60.0     9550   Pave   NaN      IR1   \n",
              "4   5          60       RL         84.0    14260   Pave   NaN      IR1   \n",
              "\n",
              "  LandContour Utilities    ...     PoolArea PoolQC Fence MiscFeature MiscVal  \\\n",
              "0         Lvl    AllPub    ...            0    NaN   NaN         NaN       0   \n",
              "1         Lvl    AllPub    ...            0    NaN   NaN         NaN       0   \n",
              "2         Lvl    AllPub    ...            0    NaN   NaN         NaN       0   \n",
              "3         Lvl    AllPub    ...            0    NaN   NaN         NaN       0   \n",
              "4         Lvl    AllPub    ...            0    NaN   NaN         NaN       0   \n",
              "\n",
              "  MoSold YrSold  SaleType  SaleCondition  SalePrice  \n",
              "0      2   2008        WD         Normal     208500  \n",
              "1      5   2007        WD         Normal     181500  \n",
              "2      9   2008        WD         Normal     223500  \n",
              "3      2   2006        WD        Abnorml     140000  \n",
              "4     12   2008        WD         Normal     250000  \n",
              "\n[5 rows x 81 columns]"
            ]
          },
          "metadata": {}
        }
      ],
      "execution_count": 2,
      "metadata": {
        "ExecuteTime": {
          "end_time": "2018-04-03T03:42:58.275179Z",
          "start_time": "2018-04-03T03:42:58.229806Z"
        },
        "inputHidden": false,
        "outputHidden": false
      }
    },
    {
      "cell_type": "code",
      "source": [
        "# Examine the size of our data\n",
        "labelled.shape"
      ],
      "outputs": [
        {
          "output_type": "execute_result",
          "execution_count": 3,
          "data": {
            "text/plain": [
              "(1460, 81)"
            ]
          },
          "metadata": {}
        }
      ],
      "execution_count": 3,
      "metadata": {
        "ExecuteTime": {
          "end_time": "2018-04-03T03:37:24.690287Z",
          "start_time": "2018-04-03T03:37:24.684547Z"
        },
        "inputHidden": false,
        "outputHidden": false
      }
    },
    {
      "cell_type": "code",
      "source": [
        "# Split up into training and test sets.\n",
        "num_rows = labelled.shape[0]\n",
        "training_set = labelled[:round(num_rows*0.8)]\n",
        "test_set = labelled[round(num_rows*0.8):]\n",
        "training_set.to_csv(\"../data/housing_price_data/training_data.csv\",index = False)\n",
        "test_set.to_csv(\"../data/housing_price_data/test_data.csv\",index = False)"
      ],
      "outputs": [],
      "execution_count": 4,
      "metadata": {
        "ExecuteTime": {
          "end_time": "2018-04-03T03:37:30.819379Z",
          "start_time": "2018-04-03T03:37:30.757899Z"
        },
        "inputHidden": false,
        "outputHidden": false
      }
    },
    {
      "cell_type": "markdown",
      "source": [
        "## Mean Absolute Error\n",
        "Now that we have a test set, we can evaluate our models!\n",
        "\n",
        "We'll use the mean absolute error. This is the average size of the difference between the predicted value vs the observed value.\n",
        "\n",
        "Formally, this is defined as\n",
        "\n",
        "$$  \\mathsf{MAE} = \\frac{1}{n} * \\sum_{i=1}^n |\\mathsf{predicted\\_value}[i] - \\mathsf{actual\\_value}[i]|  $$\n",
        "\n\n",
        "We now write a function to evaluate how accurate any given predictive model is at predicting on our test set.\n"
      ],
      "metadata": {
        "inputHidden": false,
        "outputHidden": false
      }
    },
    {
      "cell_type": "code",
      "source": [
        "def evaluate_model(model_fn):\n",
        "    '''\n",
        "    Consumes a function model_fn\n",
        "    and evaluates its predictive accuracy against \n",
        "    the housing prices test set.\n",
        "    '''\n",
        "    test_data = pd.read_csv(\"../data/housing_price_data/test_data.csv\")\n",
        "    actual_values = test_data['SalePrice']\n",
        "    test_input = test_data.filter(regex='^(?!SalePrice$).*') #Pass in all columns except SalePrice\n",
        "    predicted_saleprice = model_fn(test_input)\n",
        "    mae = np.mean(np.abs(predicted_saleprice-actual_values))\n",
        "    print(\"The model is inaccurate by $%.2f on average.\" % mae)\n",
        "    return mae"
      ],
      "outputs": [],
      "execution_count": 5,
      "metadata": {
        "ExecuteTime": {
          "end_time": "2018-04-03T01:22:58.793005Z",
          "start_time": "2018-04-03T01:22:58.786796Z"
        },
        "inputHidden": false,
        "outputHidden": false
      }
    },
    {
      "cell_type": "markdown",
      "source": [
        "Let's evaluate a very simple predictive heuristic: Sale Price = 100,000 * number of bedrooms."
      ],
      "metadata": {
        "inputHidden": false,
        "outputHidden": false
      }
    },
    {
      "cell_type": "code",
      "source": [
        "def bedroom_heuristic(input_data):\n",
        "    bedrooms = input_data['BedroomAbvGr']\n",
        "    prediction = 100000*bedrooms\n",
        "    return(prediction)"
      ],
      "outputs": [],
      "execution_count": 6,
      "metadata": {
        "ExecuteTime": {
          "end_time": "2018-04-03T03:39:08.453167Z",
          "start_time": "2018-04-03T03:39:08.449372Z"
        },
        "inputHidden": false,
        "outputHidden": false
      }
    },
    {
      "cell_type": "code",
      "source": [
        "evaluate_model(bedroom_heuristic)"
      ],
      "outputs": [
        {
          "output_type": "stream",
          "name": "stdout",
          "text": [
            "The model is inaccurate by $132857.79 on average.\n"
          ]
        },
        {
          "output_type": "execute_result",
          "execution_count": 38,
          "data": {
            "text/plain": [
              "132857.79452054793"
            ]
          },
          "metadata": {}
        }
      ],
      "execution_count": 38,
      "metadata": {
        "ExecuteTime": {
          "end_time": "2018-04-03T03:39:08.878489Z",
          "start_time": "2018-04-03T03:39:08.866050Z"
        },
        "inputHidden": false,
        "outputHidden": false
      }
    },
    {
      "cell_type": "markdown",
      "source": [
        "Exercise: Try and make a heuristic that achieves a lower score.\n",
        "\nExercise: Extend `evaluate_model` to report how fast the model takes to make its predictions."
      ],
      "metadata": {
        "inputHidden": false,
        "outputHidden": false
      }
    },
    {
      "cell_type": "markdown",
      "source": [
        "# Brute Force"
      ],
      "metadata": {
        "inputHidden": false,
        "outputHidden": false
      }
    },
    {
      "cell_type": "markdown",
      "source": [
        "Note that we can easily make new \"Bedroom Heuristics\" simply by changing the amount of dollars we multiply the number of bedrooms by."
      ],
      "metadata": {}
    },
    {
      "cell_type": "code",
      "source": [
        "def generate_bedroom_heuristic(a):\n",
        "    def heuristic(input_data):\n",
        "        prediction = a * input_data['BedroomAbvGr']\n",
        "        return(prediction)\n",
        "    return(heuristic)\n"
      ],
      "outputs": [],
      "execution_count": 8,
      "metadata": {
        "ExecuteTime": {
          "end_time": "2018-04-03T01:22:58.825492Z",
          "start_time": "2018-04-03T01:22:58.820792Z"
        }
      }
    },
    {
      "cell_type": "markdown",
      "source": [
        "The question is now \"What's the best amount of dollars to multiply by?\" \n",
        "\n",
        "Let's start to answer this by using a for loop and trial and error.\n",
        "\n"
      ],
      "metadata": {
        "inputHidden": false,
        "outputHidden": false
      }
    },
    {
      "cell_type": "code",
      "source": [
        "model_scores = []\n",
        "for i in range(200):\n",
        "    score = evaluate_model(generate_bedroom_heuristic(i*1000))\n",
        "    model_scores.append(score)"
      ],
      "outputs": [
        {
          "output_type": "stream",
          "name": "stdout",
          "text": [
            "The model is inaccurate by $182244.87 on average.\n",
            "The model is inaccurate by $179316.79 on average.\n",
            "The model is inaccurate by $176388.71 on average.\n",
            "The model is inaccurate by $173460.62 on average.\n",
            "The model is inaccurate by $170532.54 on average.\n",
            "The model is inaccurate by $167604.46 on average.\n",
            "The model is inaccurate by $164676.38 on average.\n",
            "The model is inaccurate by $161748.29 on average.\n",
            "The model is inaccurate by $158820.21 on average.\n",
            "The model is inaccurate by $155892.13 on average.\n",
            "The model is inaccurate by $152964.05 on average.\n",
            "The model is inaccurate by $150035.97 on average.\n",
            "The model is inaccurate by $147107.88 on average.\n",
            "The model is inaccurate by $144179.80 on average.\n",
            "The model is inaccurate by $141251.72 on average.\n",
            "The model is inaccurate by $138323.64 on average.\n",
            "The model is inaccurate by $135395.55 on average.\n",
            "The model is inaccurate by $132491.45 on average.\n",
            "The model is inaccurate by $129590.76 on average.\n",
            "The model is inaccurate by $126690.08 on average.\n",
            "The model is inaccurate by $123789.39 on average.\n",
            "The model is inaccurate by $120888.71 on average.\n",
            "The model is inaccurate by $117988.02 on average.\n",
            "The model is inaccurate by $115087.34 on average.\n",
            "The model is inaccurate by $112186.65 on average.\n",
            "The model is inaccurate by $109285.97 on average.\n",
            "The model is inaccurate by $106385.28 on average.\n",
            "The model is inaccurate by $103554.46 on average.\n",
            "The model is inaccurate by $100804.46 on average.\n",
            "The model is inaccurate by $98112.68 on average.\n",
            "The model is inaccurate by $95434.60 on average.\n",
            "The model is inaccurate by $92807.88 on average.\n",
            "The model is inaccurate by $90304.46 on average.\n",
            "The model is inaccurate by $87893.50 on average.\n",
            "The model is inaccurate by $85564.73 on average.\n",
            "The model is inaccurate by $83378.52 on average.\n",
            "The model is inaccurate by $81286.05 on average.\n",
            "The model is inaccurate by $79210.71 on average.\n",
            "The model is inaccurate by $77200.44 on average.\n",
            "The model is inaccurate by $75224.07 on average.\n",
            "The model is inaccurate by $73364.48 on average.\n",
            "The model is inaccurate by $71642.56 on average.\n",
            "The model is inaccurate by $70074.07 on average.\n",
            "The model is inaccurate by $68652.84 on average.\n",
            "The model is inaccurate by $67382.29 on average.\n",
            "The model is inaccurate by $66197.36 on average.\n",
            "The model is inaccurate by $65081.26 on average.\n",
            "The model is inaccurate by $64094.96 on average.\n",
            "The model is inaccurate by $63259.34 on average.\n",
            "The model is inaccurate by $62597.42 on average.\n",
            "The model is inaccurate by $61996.05 on average.\n",
            "The model is inaccurate by $61517.97 on average.\n",
            "The model is inaccurate by $61157.46 on average.\n",
            "The model is inaccurate by $60966.83 on average.\n",
            "The model is inaccurate by $60874.36 on average.\n",
            "The model is inaccurate by $60886.62 on average.\n",
            "The model is inaccurate by $60976.35 on average.\n",
            "The model is inaccurate by $61144.84 on average.\n",
            "The model is inaccurate by $61381.14 on average.\n",
            "The model is inaccurate by $61682.51 on average.\n",
            "The model is inaccurate by $62164.02 on average.\n",
            "The model is inaccurate by $62825.66 on average.\n",
            "The model is inaccurate by $63557.51 on average.\n",
            "The model is inaccurate by $64388.34 on average.\n",
            "The model is inaccurate by $65319.84 on average.\n",
            "The model is inaccurate by $66317.10 on average.\n",
            "The model is inaccurate by $67362.99 on average.\n",
            "The model is inaccurate by $68496.55 on average.\n",
            "The model is inaccurate by $69712.99 on average.\n",
            "The model is inaccurate by $70956.35 on average.\n",
            "The model is inaccurate by $72220.05 on average.\n",
            "The model is inaccurate by $73537.08 on average.\n",
            "The model is inaccurate by $74931.77 on average.\n",
            "The model is inaccurate by $76441.01 on average.\n",
            "The model is inaccurate by $77992.38 on average.\n",
            "The model is inaccurate by $79580.73 on average.\n",
            "The model is inaccurate by $81255.39 on average.\n",
            "The model is inaccurate by $83012.54 on average.\n",
            "The model is inaccurate by $84837.88 on average.\n",
            "The model is inaccurate by $86704.32 on average.\n",
            "The model is inaccurate by $88611.86 on average.\n",
            "The model is inaccurate by $90553.64 on average.\n",
            "The model is inaccurate by $92509.12 on average.\n",
            "The model is inaccurate by $94482.90 on average.\n",
            "The model is inaccurate by $96513.25 on average.\n",
            "The model is inaccurate by $98571.47 on average.\n",
            "The model is inaccurate by $100632.09 on average.\n",
            "The model is inaccurate by $102724.55 on average.\n",
            "The model is inaccurate by $104858.12 on average.\n",
            "The model is inaccurate by $107019.08 on average.\n",
            "The model is inaccurate by $109186.88 on average.\n",
            "The model is inaccurate by $111396.47 on average.\n",
            "The model is inaccurate by $113651.27 on average.\n",
            "The model is inaccurate by $115942.36 on average.\n",
            "The model is inaccurate by $118247.16 on average.\n",
            "The model is inaccurate by $120590.41 on average.\n",
            "The model is inaccurate by $122990.48 on average.\n",
            "The model is inaccurate by $125419.39 on average.\n",
            "The model is inaccurate by $127874.87 on average.\n",
            "The model is inaccurate by $130361.22 on average.\n",
            "The model is inaccurate by $132857.79 on average.\n",
            "The model is inaccurate by $135354.37 on average.\n",
            "The model is inaccurate by $137861.22 on average.\n",
            "The model is inaccurate by $140385.19 on average.\n",
            "The model is inaccurate by $142936.56 on average.\n",
            "The model is inaccurate by $145502.32 on average.\n",
            "The model is inaccurate by $148094.78 on average.\n",
            "The model is inaccurate by $150687.25 on average.\n",
            "The model is inaccurate by $153279.71 on average.\n",
            "The model is inaccurate by $155872.18 on average.\n",
            "The model is inaccurate by $158464.64 on average.\n",
            "The model is inaccurate by $161057.11 on average.\n",
            "The model is inaccurate by $163656.42 on average.\n",
            "The model is inaccurate by $166269.44 on average.\n",
            "The model is inaccurate by $168896.15 on average.\n",
            "The model is inaccurate by $171529.71 on average.\n",
            "The model is inaccurate by $174163.27 on average.\n",
            "The model is inaccurate by $176796.84 on average.\n",
            "The model is inaccurate by $179430.40 on average.\n",
            "The model is inaccurate by $182063.96 on average.\n",
            "The model is inaccurate by $184697.52 on average.\n",
            "The model is inaccurate by $187331.08 on average.\n",
            "The model is inaccurate by $189964.64 on average.\n",
            "The model is inaccurate by $192598.21 on average.\n",
            "The model is inaccurate by $195241.51 on average.\n",
            "The model is inaccurate by $197888.77 on average.\n",
            "The model is inaccurate by $200539.45 on average.\n",
            "The model is inaccurate by $203224.38 on average.\n",
            "The model is inaccurate by $205912.74 on average.\n",
            "The model is inaccurate by $208607.95 on average.\n",
            "The model is inaccurate by $211310.00 on average.\n",
            "The model is inaccurate by $214012.05 on average.\n",
            "The model is inaccurate by $216727.81 on average.\n",
            "The model is inaccurate by $219444.25 on average.\n",
            "The model is inaccurate by $222173.70 on average.\n",
            "The model is inaccurate by $224903.15 on average.\n",
            "The model is inaccurate by $227632.60 on average.\n",
            "The model is inaccurate by $230365.48 on average.\n",
            "The model is inaccurate by $233108.63 on average.\n",
            "The model is inaccurate by $235858.63 on average.\n",
            "The model is inaccurate by $238622.33 on average.\n",
            "The model is inaccurate by $241386.03 on average.\n",
            "The model is inaccurate by $244149.73 on average.\n",
            "The model is inaccurate by $246913.42 on average.\n",
            "The model is inaccurate by $249677.12 on average.\n",
            "The model is inaccurate by $252447.67 on average.\n",
            "The model is inaccurate by $255218.22 on average.\n",
            "The model is inaccurate by $257988.77 on average.\n",
            "The model is inaccurate by $260759.32 on average.\n",
            "The model is inaccurate by $263529.86 on average.\n",
            "The model is inaccurate by $266305.21 on average.\n",
            "The model is inaccurate by $269086.03 on average.\n",
            "The model is inaccurate by $271877.12 on average.\n",
            "The model is inaccurate by $274668.22 on average.\n",
            "The model is inaccurate by $277459.32 on average.\n",
            "The model is inaccurate by $280250.41 on average.\n",
            "The model is inaccurate by $283041.51 on average.\n",
            "The model is inaccurate by $285853.15 on average.\n",
            "The model is inaccurate by $288671.64 on average.\n",
            "The model is inaccurate by $291490.14 on average.\n",
            "The model is inaccurate by $294308.63 on average.\n",
            "The model is inaccurate by $297127.12 on average.\n",
            "The model is inaccurate by $299945.62 on average.\n",
            "The model is inaccurate by $302770.96 on average.\n",
            "The model is inaccurate by $305603.15 on average.\n",
            "The model is inaccurate by $308435.34 on average.\n",
            "The model is inaccurate by $311267.53 on average.\n",
            "The model is inaccurate by $314099.73 on average.\n",
            "The model is inaccurate by $316931.92 on average.\n",
            "The model is inaccurate by $319764.11 on average.\n",
            "The model is inaccurate by $322596.30 on average.\n",
            "The model is inaccurate by $325428.49 on average.\n",
            "The model is inaccurate by $328260.68 on average.\n",
            "The model is inaccurate by $331092.88 on average.\n",
            "The model is inaccurate by $333925.07 on average.\n",
            "The model is inaccurate by $336757.26 on average.\n",
            "The model is inaccurate by $339590.14 on average.\n",
            "The model is inaccurate by $342429.18 on average.\n",
            "The model is inaccurate by $345268.22 on average.\n",
            "The model is inaccurate by $348107.26 on average.\n",
            "The model is inaccurate by $350946.30 on average.\n",
            "The model is inaccurate by $353785.34 on average.\n",
            "The model is inaccurate by $356624.38 on average.\n",
            "The model is inaccurate by $359463.42 on average.\n",
            "The model is inaccurate by $362302.47 on average.\n",
            "The model is inaccurate by $365141.51 on average.\n",
            "The model is inaccurate by $367980.55 on average.\n",
            "The model is inaccurate by $370840.14 on average.\n",
            "The model is inaccurate by $373706.58 on average.\n",
            "The model is inaccurate by $376573.01 on average.\n",
            "The model is inaccurate by $379439.45 on average.\n",
            "The model is inaccurate by $382305.89 on average.\n",
            "The model is inaccurate by $385172.33 on average.\n",
            "The model is inaccurate by $388038.77 on average.\n",
            "The model is inaccurate by $390905.21 on average.\n",
            "The model is inaccurate by $393771.64 on average.\n",
            "The model is inaccurate by $396638.08 on average.\n",
            "The model is inaccurate by $399514.79 on average.\n",
            "The model is inaccurate by $402404.40 on average.\n",
            "The model is inaccurate by $405298.24 on average.\n"
          ]
        }
      ],
      "execution_count": 9,
      "metadata": {
        "ExecuteTime": {
          "end_time": "2018-04-03T01:23:01.513302Z",
          "start_time": "2018-04-03T01:22:58.827633Z"
        }
      }
    },
    {
      "cell_type": "code",
      "source": [
        "plt.plot(model_scores)\n",
        "#plt.xaxis(\"Bedrooms x 1000\")\n",
        "#plt.yaxis(\"Mean absolute error\")\n",
        "#TODO Label axes."
      ],
      "outputs": [
        {
          "output_type": "execute_result",
          "execution_count": 10,
          "data": {
            "text/plain": [
              "[<matplotlib.lines.Line2D at 0x18190ffe80>]"
            ]
          },
          "metadata": {}
        },
        {
          "output_type": "display_data",
          "data": {
            "image/png": "[encoded data removed]",
            "text/plain": [
              "<matplotlib.figure.Figure at 0x1819127630>"
            ]
          },
          "metadata": {}
        }
      ],
      "execution_count": 10,
      "metadata": {
        "ExecuteTime": {
          "end_time": "2018-04-03T03:40:56.886534Z",
          "start_time": "2018-04-03T03:40:56.733636Z"
        },
        "inputHidden": false,
        "outputHidden": false
      }
    },
    {
      "cell_type": "code",
      "source": [
        "models = pd.DataFrame()\n",
        "models['Score'] = model_scores"
      ],
      "outputs": [],
      "execution_count": 11,
      "metadata": {
        "ExecuteTime": {
          "end_time": "2018-04-03T01:23:02.251627Z",
          "start_time": "2018-04-03T01:23:02.239495Z"
        },
        "inputHidden": false,
        "outputHidden": false
      }
    },
    {
      "cell_type": "code",
      "source": [
        "models.loc[models.Score == models.Score.min()] # Find the minimum score."
      ],
      "outputs": [
        {
          "output_type": "execute_result",
          "execution_count": 12,
          "data": {
            "text/html": [
              "<div>\n",
              "<style>\n",
              "    .dataframe thead tr:only-child th {\n",
              "        text-align: right;\n",
              "    }\n",
              "\n",
              "    .dataframe thead th {\n",
              "        text-align: left;\n",
              "    }\n",
              "\n",
              "    .dataframe tbody tr th {\n",
              "        vertical-align: top;\n",
              "    }\n",
              "</style>\n",
              "<table border=\"1\" class=\"dataframe\">\n",
              "  <thead>\n",
              "    <tr style=\"text-align: right;\">\n",
              "      <th></th>\n",
              "      <th>Score</th>\n",
              "    </tr>\n",
              "  </thead>\n",
              "  <tbody>\n",
              "    <tr>\n",
              "      <th>54</th>\n",
              "      <td>60874.363014</td>\n",
              "    </tr>\n",
              "  </tbody>\n",
              "</table>\n",
              "</div>"
            ],
            "text/plain": [
              "           Score\n",
              "54  60874.363014"
            ]
          },
          "metadata": {}
        }
      ],
      "execution_count": 12,
      "metadata": {
        "ExecuteTime": {
          "end_time": "2018-04-03T01:23:02.285051Z",
          "start_time": "2018-04-03T01:23:02.258006Z"
        },
        "inputHidden": false,
        "outputHidden": false
      }
    },
    {
      "cell_type": "markdown",
      "source": [
        "One issue with this approach is choosing an appropriate level of granularity. In this example we stepped through increments of 1000. But how do we know the optimal value really is \\$54,000 and not \\$53,765.08 ? We could lower our step size but this would mean increasing our compute time by orders of magnitude. "
      ],
      "metadata": {
        "inputHidden": false,
        "outputHidden": false
      }
    },
    {
      "cell_type": "markdown",
      "source": [
        "# Intermezzo: Optimisation\n",
        "\n",
        "The science of doing the above effectively is called optimisation. There are some brilliant algorithms for doing optimisation, the most popular in machine learning is called minibatch gradient descent. You can see an outline of this algorithm [here.](https://cs.brown.edu/courses/csci1951-a/assignments/regression.html)\n",
        "\n",
        "The idea behind the algorithm is to use calculus. As you may recall from high school maths, when the gradient $dy/dx  = 0$  then y is at a minimum or maximimum. This is illustrated in the following diagram.\n",
        "\n",
        "<img src=\"https://cs.brown.edu/courses/csci1951-a/assignments/images/gd.png\" width=\"800\">\n",
        "\n",
        "#TODO: Make our own graph\n"
      ],
      "metadata": {}
    },
    {
      "cell_type": "markdown",
      "source": [
        "# Linear Regression"
      ],
      "metadata": {}
    },
    {
      "cell_type": "markdown",
      "source": [
        "Rather than brute force this, we can use a library.\n",
        "\nFirst, let's define our problem:"
      ],
      "metadata": {}
    },
    {
      "cell_type": "markdown",
      "source": [
        "*Problem*\n",
        "\n",
        "Find `a` such that `model_evaluate(generate_bedroom_heuristic(a))` attains a minimum value. \n",
        "\n"
      ],
      "metadata": {}
    },
    {
      "cell_type": "markdown",
      "source": [
        "In other words:\n",
        "\n",
        "Find `a` such that\n",
        "`mean(abs(a*training_set['BedroomAbvGr'] - training_set['SalePrice']))` attains a minimum value."
      ],
      "metadata": {}
    },
    {
      "cell_type": "markdown",
      "source": [
        "Note that we use the train_data set rather than the test_data set to ensure a better chance of generalisation."
      ],
      "metadata": {}
    },
    {
      "cell_type": "markdown",
      "source": [
        "We can solve this problem using the sci-kit-learn library"
      ],
      "metadata": {}
    },
    {
      "cell_type": "code",
      "source": [
        "from sklearn import linear_model"
      ],
      "outputs": [],
      "execution_count": 13,
      "metadata": {
        "ExecuteTime": {
          "end_time": "2018-04-03T01:23:02.667381Z",
          "start_time": "2018-04-03T01:23:02.292891Z"
        }
      }
    },
    {
      "cell_type": "code",
      "source": [
        "def train_bedroom_linear_model(training_set):\n",
        "    predictor = linear_model.LinearRegression()\n",
        "    predictor.fit(training_set[['BedroomAbvGr']],training_set['SalePrice'])\n",
        "    def bedroom_linear_model(input_data):\n",
        "        return(predictor.predict(input_data[['BedroomAbvGr']]))\n",
        "    return bedroom_linear_model"
      ],
      "outputs": [],
      "execution_count": 14,
      "metadata": {
        "ExecuteTime": {
          "end_time": "2018-04-03T01:23:02.685234Z",
          "start_time": "2018-04-03T01:23:02.673813Z"
        },
        "inputHidden": false,
        "outputHidden": false
      }
    },
    {
      "cell_type": "markdown",
      "source": [
        "Let's see how well this model does."
      ],
      "metadata": {
        "ExecuteTime": {
          "end_time": "2018-04-03T01:23:02.763963Z",
          "start_time": "2018-04-03T01:23:02.696496Z"
        },
        "inputHidden": false,
        "outputHidden": false
      }
    },
    {
      "cell_type": "code",
      "source": [
        "bedroom_linear_model = train_bedroom_linear_model(training_set)\n",
        "evaluate_model(bedroom_linear_model)\n"
      ],
      "outputs": [
        {
          "output_type": "stream",
          "name": "stdout",
          "text": [
            "The model is inaccurate by $56628.44 on average.\n"
          ]
        },
        {
          "output_type": "execute_result",
          "execution_count": 15,
          "data": {
            "text/plain": [
              "56628.43522624719"
            ]
          },
          "metadata": {}
        }
      ],
      "execution_count": 15,
      "metadata": {
        "ExecuteTime": {
          "end_time": "2018-04-03T03:51:13.102387Z",
          "start_time": "2018-04-03T03:51:13.085838Z"
        },
        "inputHidden": false,
        "outputHidden": false
      }
    },
    {
      "cell_type": "markdown",
      "source": [
        "Let's examine the differences between predicted and actual value."
      ],
      "metadata": {}
    },
    {
      "cell_type": "code",
      "source": [
        "bedroom_example = training_set.copy()"
      ],
      "outputs": [],
      "execution_count": 16,
      "metadata": {
        "ExecuteTime": {
          "end_time": "2018-04-03T01:23:02.777157Z",
          "start_time": "2018-04-03T01:23:02.768444Z"
        },
        "inputHidden": false,
        "outputHidden": false
      }
    },
    {
      "cell_type": "code",
      "source": [
        "bedroom_example['Predicted'] = bedroom_linear_model(bedroom_example)"
      ],
      "outputs": [],
      "execution_count": 17,
      "metadata": {
        "ExecuteTime": {
          "end_time": "2018-04-03T01:23:02.795023Z",
          "start_time": "2018-04-03T01:23:02.781568Z"
        },
        "inputHidden": false,
        "outputHidden": false
      }
    },
    {
      "cell_type": "code",
      "source": [
        "bedroom_example['Error'] = bedroom_example['Predicted'] - bedroom_example['SalePrice']"
      ],
      "outputs": [],
      "execution_count": 18,
      "metadata": {
        "ExecuteTime": {
          "end_time": "2018-04-03T01:23:02.808126Z",
          "start_time": "2018-04-03T01:23:02.798230Z"
        },
        "inputHidden": false,
        "outputHidden": false
      }
    },
    {
      "cell_type": "code",
      "source": [
        "bedroom_example['Error'].plot()  #TODO label axes."
      ],
      "outputs": [
        {
          "output_type": "execute_result",
          "execution_count": 19,
          "data": {
            "text/plain": [
              "<matplotlib.axes._subplots.AxesSubplot at 0x1a2258d940>"
            ]
          },
          "metadata": {}
        },
        {
          "output_type": "display_data",
          "data": {
            "image/png": "[encoded data removed]",
            "text/plain": [
              "<matplotlib.figure.Figure at 0x10720a0b8>"
            ]
          },
          "metadata": {}
        }
      ],
      "execution_count": 19,
      "metadata": {
        "ExecuteTime": {
          "end_time": "2018-04-03T01:23:03.033787Z",
          "start_time": "2018-04-03T01:23:02.811640Z"
        },
        "inputHidden": false,
        "outputHidden": false
      }
    },
    {
      "cell_type": "markdown",
      "source": [
        "It looks like our model works OK, but there are some instances of severe underprediction.\n",
        "\n<TODO: Explain residual plots.>"
      ],
      "metadata": {
        "inputHidden": false,
        "outputHidden": false
      }
    },
    {
      "cell_type": "markdown",
      "source": [
        "# Multiple Linear Regression"
      ],
      "metadata": {}
    },
    {
      "cell_type": "markdown",
      "source": [
        "To remedy this, let's add some more variables into our model. We'll start by adding another numeric variable (living area)"
      ],
      "metadata": {}
    },
    {
      "cell_type": "code",
      "source": [
        "def train_multi_linear_model(training_set):\n",
        "    def encode_data(data):\n",
        "        return(data[['BedroomAbvGr','GrLivArea']])\n",
        "    predictor = linear_model.LinearRegression()\n",
        "    predictor.fit(encode_data(training_set),training_set['SalePrice'])\n",
        "    def multi_linear_model(input_data):\n",
        "        return(predictor.predict(encode_data(input_data)))\n",
        "    return(multi_linear_model)"
      ],
      "outputs": [],
      "execution_count": 20,
      "metadata": {
        "ExecuteTime": {
          "end_time": "2018-04-03T01:23:03.042070Z",
          "start_time": "2018-04-03T01:23:03.036377Z"
        }
      }
    },
    {
      "cell_type": "code",
      "source": [
        "multi_linear_model = train_multi_linear_model(training_set)\n",
        "evaluate_model(multi_linear_model)"
      ],
      "outputs": [
        {
          "output_type": "stream",
          "name": "stdout",
          "text": [
            "The model is inaccurate by $40051.22 on average.\n"
          ]
        },
        {
          "output_type": "execute_result",
          "execution_count": 21,
          "data": {
            "text/plain": [
              "40051.22131205686"
            ]
          },
          "metadata": {}
        }
      ],
      "execution_count": 21,
      "metadata": {
        "ExecuteTime": {
          "end_time": "2018-04-03T01:23:12.180867Z",
          "start_time": "2018-04-03T01:23:12.156362Z"
        }
      }
    },
    {
      "cell_type": "markdown",
      "source": [
        "## Working with categorical variables\n",
        "In order to make use of categorical data, we first need to encode it as a number. As a simple example, we'll encode the variable `CentralAir` as 0 if there is no central air conditioning, and 1 if there is central air conditioning. We can do this by using a boolean comparison operation, and relying on the fact that `True == 1`"
      ],
      "metadata": {}
    },
    {
      "cell_type": "code",
      "source": [
        "def train_central_air_model(training_set):\n",
        "    def encode_data(data):\n",
        "        features = data.copy()\n",
        "        features['CentralAir'] = features['CentralAir'] == 'Y'\n",
        "        features = features[['BedroomAbvGr','GrLivArea','CentralAir']]\n",
        "        return(features)\n",
        "\n",
        "    training_features = encode_data(training_set)\n",
        "    predictor = linear_model.LinearRegression()\n",
        "    predictor.fit(training_features, training_set['SalePrice'])\n",
        "    \n",
        "    def central_air_model(input_data):\n",
        "        input_features = encode_data(input_data)\n",
        "        return(predictor.predict(input_features))\n",
        "    return(central_air_model)"
      ],
      "outputs": [],
      "execution_count": 22,
      "metadata": {
        "ExecuteTime": {
          "end_time": "2018-04-03T01:30:58.253213Z",
          "start_time": "2018-04-03T01:30:58.242207Z"
        }
      }
    },
    {
      "cell_type": "code",
      "source": [
        "central_air_model = train_central_air_model(training_set)\n",
        "evaluate_model(central_air_model)"
      ],
      "outputs": [
        {
          "output_type": "stream",
          "name": "stdout",
          "text": [
            "The model is inaccurate by $38058.32 on average.\n"
          ]
        },
        {
          "output_type": "execute_result",
          "execution_count": 23,
          "data": {
            "text/plain": [
              "38058.31999115855"
            ]
          },
          "metadata": {}
        }
      ],
      "execution_count": 23,
      "metadata": {
        "ExecuteTime": {
          "end_time": "2018-04-03T01:30:59.666471Z",
          "start_time": "2018-04-03T01:30:59.641964Z"
        }
      }
    },
    {
      "cell_type": "markdown",
      "source": [
        "We can deal with categorical variables that have more than two categories in a couple of ways. If the categories follow a clear rank, then we can label them by this rank. An example of this is the basement quality column.\n",
        "\n",
        "    BsmtCond: Evaluates the general condition of the basement\n",
        "\n",
        "       Ex\tExcellent\n",
        "       Gd\tGood\n",
        "       TA\tTypical - slight dampness allowed\n",
        "       Fa\tFair - dampness or some cracking or settling\n",
        "       Po\tPoor - Severe cracking, settling, or wetness\n",
        "\n",
        "We would encode this as Po:1, Fa:2, TA:3, Gd:4, and Ex:5\n",
        "\n\n",
        "If there is no order, we use a technique called 'one hot encoding'. This involves creating a new column for each category\n",
        "\n",
        "For example, the `Electrical` variable in the housing prices dataset contains the following categories:\n",
        "\n",
        "       SBrkr\tStandard Circuit Breakers & Romex\n",
        "       FuseA\tFuse Box over 60 AMP and all Romex wiring (Average)\t\n",
        "       FuseF\t60 AMP Fuse Box and mostly Romex wiring (Fair)\n",
        "       FuseP\t60 AMP Fuse Box and mostly knob & tube wiring (poor)\n",
        "       Mix\tMixed\n",
        "\n",
        "We would encode the table\n",
        "\n",
        "|Electrical|\n",
        "|---------|\n",
        "  |FuseA|\n",
        "  |FuseF|\n",
        "  |FuseP|\n",
        "  |Mix|\n",
        "  |SBrkr|\n",
        "  \n",
        "as\n",
        "\n",
        "|FuseA |FuseF|FuseP|Mix|SBrkr|\n",
        "|-----|-----|-----|-----|\n",
        "| 1| 0  | 0   | 0  | 0  |\n",
        "| 0|1  | 0   | 0  | 0  |\n",
        "| 0|0  | 1  | 0| 0|\n",
        "| 0|0  | 0 | 1 |0 |\n",
        "| 0|0  | 0 | 0 | 1|"
      ],
      "metadata": {}
    },
    {
      "cell_type": "code",
      "source": [
        "def encode_electrical(electrical):\n",
        "    one_hot_encoding = pd.DataFrame()\n",
        "    one_hot_encoding['FuseA'] = electrical == 'FuseA'\n",
        "    one_hot_encoding['FuseF'] = electrical == 'FuseF'\n",
        "    one_hot_encoding['FuseP'] = electrical == 'FuseP'\n",
        "    one_hot_encoding['Mix']   = electrical == 'Mix'\n",
        "    one_hot_encoding['SBrkr'] = electrical == 'SBrkr'\n",
        "    return(one_hot_encoding)\n"
      ],
      "outputs": [],
      "execution_count": 24,
      "metadata": {
        "ExecuteTime": {
          "end_time": "2018-04-03T02:21:42.244234Z",
          "start_time": "2018-04-03T02:21:42.236401Z"
        }
      }
    },
    {
      "cell_type": "code",
      "source": [
        "encode_electrical(training_set['Electrical']).head(20)"
      ],
      "outputs": [
        {
          "output_type": "execute_result",
          "execution_count": 25,
          "data": {
            "text/html": [
              "<div>\n",
              "<style>\n",
              "    .dataframe thead tr:only-child th {\n",
              "        text-align: right;\n",
              "    }\n",
              "\n",
              "    .dataframe thead th {\n",
              "        text-align: left;\n",
              "    }\n",
              "\n",
              "    .dataframe tbody tr th {\n",
              "        vertical-align: top;\n",
              "    }\n",
              "</style>\n",
              "<table border=\"1\" class=\"dataframe\">\n",
              "  <thead>\n",
              "    <tr style=\"text-align: right;\">\n",
              "      <th></th>\n",
              "      <th>FuseA</th>\n",
              "      <th>FuseF</th>\n",
              "      <th>FuseP</th>\n",
              "      <th>Mix</th>\n",
              "      <th>SBrkr</th>\n",
              "    </tr>\n",
              "  </thead>\n",
              "  <tbody>\n",
              "    <tr>\n",
              "      <th>0</th>\n",
              "      <td>False</td>\n",
              "      <td>False</td>\n",
              "      <td>False</td>\n",
              "      <td>False</td>\n",
              "      <td>True</td>\n",
              "    </tr>\n",
              "    <tr>\n",
              "      <th>1</th>\n",
              "      <td>False</td>\n",
              "      <td>False</td>\n",
              "      <td>False</td>\n",
              "      <td>False</td>\n",
              "      <td>True</td>\n",
              "    </tr>\n",
              "    <tr>\n",
              "      <th>2</th>\n",
              "      <td>False</td>\n",
              "      <td>False</td>\n",
              "      <td>False</td>\n",
              "      <td>False</td>\n",
              "      <td>True</td>\n",
              "    </tr>\n",
              "    <tr>\n",
              "      <th>3</th>\n",
              "      <td>False</td>\n",
              "      <td>False</td>\n",
              "      <td>False</td>\n",
              "      <td>False</td>\n",
              "      <td>True</td>\n",
              "    </tr>\n",
              "    <tr>\n",
              "      <th>4</th>\n",
              "      <td>False</td>\n",
              "      <td>False</td>\n",
              "      <td>False</td>\n",
              "      <td>False</td>\n",
              "      <td>True</td>\n",
              "    </tr>\n",
              "    <tr>\n",
              "      <th>5</th>\n",
              "      <td>False</td>\n",
              "      <td>False</td>\n",
              "      <td>False</td>\n",
              "      <td>False</td>\n",
              "      <td>True</td>\n",
              "    </tr>\n",
              "    <tr>\n",
              "      <th>6</th>\n",
              "      <td>False</td>\n",
              "      <td>False</td>\n",
              "      <td>False</td>\n",
              "      <td>False</td>\n",
              "      <td>True</td>\n",
              "    </tr>\n",
              "    <tr>\n",
              "      <th>7</th>\n",
              "      <td>False</td>\n",
              "      <td>False</td>\n",
              "      <td>False</td>\n",
              "      <td>False</td>\n",
              "      <td>True</td>\n",
              "    </tr>\n",
              "    <tr>\n",
              "      <th>8</th>\n",
              "      <td>False</td>\n",
              "      <td>True</td>\n",
              "      <td>False</td>\n",
              "      <td>False</td>\n",
              "      <td>False</td>\n",
              "    </tr>\n",
              "    <tr>\n",
              "      <th>9</th>\n",
              "      <td>False</td>\n",
              "      <td>False</td>\n",
              "      <td>False</td>\n",
              "      <td>False</td>\n",
              "      <td>True</td>\n",
              "    </tr>\n",
              "    <tr>\n",
              "      <th>10</th>\n",
              "      <td>False</td>\n",
              "      <td>False</td>\n",
              "      <td>False</td>\n",
              "      <td>False</td>\n",
              "      <td>True</td>\n",
              "    </tr>\n",
              "    <tr>\n",
              "      <th>11</th>\n",
              "      <td>False</td>\n",
              "      <td>False</td>\n",
              "      <td>False</td>\n",
              "      <td>False</td>\n",
              "      <td>True</td>\n",
              "    </tr>\n",
              "    <tr>\n",
              "      <th>12</th>\n",
              "      <td>False</td>\n",
              "      <td>False</td>\n",
              "      <td>False</td>\n",
              "      <td>False</td>\n",
              "      <td>True</td>\n",
              "    </tr>\n",
              "    <tr>\n",
              "      <th>13</th>\n",
              "      <td>False</td>\n",
              "      <td>False</td>\n",
              "      <td>False</td>\n",
              "      <td>False</td>\n",
              "      <td>True</td>\n",
              "    </tr>\n",
              "    <tr>\n",
              "      <th>14</th>\n",
              "      <td>False</td>\n",
              "      <td>False</td>\n",
              "      <td>False</td>\n",
              "      <td>False</td>\n",
              "      <td>True</td>\n",
              "    </tr>\n",
              "    <tr>\n",
              "      <th>15</th>\n",
              "      <td>True</td>\n",
              "      <td>False</td>\n",
              "      <td>False</td>\n",
              "      <td>False</td>\n",
              "      <td>False</td>\n",
              "    </tr>\n",
              "    <tr>\n",
              "      <th>16</th>\n",
              "      <td>False</td>\n",
              "      <td>False</td>\n",
              "      <td>False</td>\n",
              "      <td>False</td>\n",
              "      <td>True</td>\n",
              "    </tr>\n",
              "    <tr>\n",
              "      <th>17</th>\n",
              "      <td>False</td>\n",
              "      <td>False</td>\n",
              "      <td>False</td>\n",
              "      <td>False</td>\n",
              "      <td>True</td>\n",
              "    </tr>\n",
              "    <tr>\n",
              "      <th>18</th>\n",
              "      <td>False</td>\n",
              "      <td>False</td>\n",
              "      <td>False</td>\n",
              "      <td>False</td>\n",
              "      <td>True</td>\n",
              "    </tr>\n",
              "    <tr>\n",
              "      <th>19</th>\n",
              "      <td>False</td>\n",
              "      <td>False</td>\n",
              "      <td>False</td>\n",
              "      <td>False</td>\n",
              "      <td>True</td>\n",
              "    </tr>\n",
              "  </tbody>\n",
              "</table>\n",
              "</div>"
            ],
            "text/plain": [
              "    FuseA  FuseF  FuseP    Mix  SBrkr\n",
              "0   False  False  False  False   True\n",
              "1   False  False  False  False   True\n",
              "2   False  False  False  False   True\n",
              "3   False  False  False  False   True\n",
              "4   False  False  False  False   True\n",
              "5   False  False  False  False   True\n",
              "6   False  False  False  False   True\n",
              "7   False  False  False  False   True\n",
              "8   False   True  False  False  False\n",
              "9   False  False  False  False   True\n",
              "10  False  False  False  False   True\n",
              "11  False  False  False  False   True\n",
              "12  False  False  False  False   True\n",
              "13  False  False  False  False   True\n",
              "14  False  False  False  False   True\n",
              "15   True  False  False  False  False\n",
              "16  False  False  False  False   True\n",
              "17  False  False  False  False   True\n",
              "18  False  False  False  False   True\n",
              "19  False  False  False  False   True"
            ]
          },
          "metadata": {}
        }
      ],
      "execution_count": 25,
      "metadata": {
        "ExecuteTime": {
          "end_time": "2018-04-03T03:14:42.882019Z",
          "start_time": "2018-04-03T03:14:42.861452Z"
        }
      }
    },
    {
      "cell_type": "markdown",
      "source": [
        "Here's an example of using this encoding technique in a linear model."
      ],
      "metadata": {
        "ExecuteTime": {
          "end_time": "2018-04-03T01:55:01.994445Z",
          "start_time": "2018-04-03T01:55:01.990416Z"
        }
      }
    },
    {
      "cell_type": "code",
      "source": [
        "\n",
        "def train_electrical_model(training_set):\n",
        "    def encode_data(data):\n",
        "        return(encode_electrical(data['Electrical']))\n",
        "    \n",
        "    training_features = encode_data(training_set)\n",
        "    predictor = linear_model.LinearRegression()\n",
        "    predictor.fit(training_features, training_set['SalePrice'])\n",
        "    \n",
        "    def electrical_model(input_data):\n",
        "        input_features = encode_data(input_data)\n",
        "        return(predictor.predict(input_features))\n",
        "    return(electrical_model)"
      ],
      "outputs": [],
      "execution_count": 26,
      "metadata": {
        "ExecuteTime": {
          "end_time": "2018-04-03T03:15:44.586541Z",
          "start_time": "2018-04-03T03:15:44.580335Z"
        }
      }
    },
    {
      "cell_type": "code",
      "source": [
        "electrical_model = train_electrical_model(training_set)\n",
        "evaluate_model(electrical_model)\n"
      ],
      "outputs": [
        {
          "output_type": "stream",
          "name": "stdout",
          "text": [
            "The model is inaccurate by $56292.24 on average.\n"
          ]
        },
        {
          "output_type": "execute_result",
          "execution_count": 27,
          "data": {
            "text/plain": [
              "56292.24458339809"
            ]
          },
          "metadata": {}
        }
      ],
      "execution_count": 27,
      "metadata": {
        "ExecuteTime": {
          "end_time": "2018-04-03T04:00:18.057820Z",
          "start_time": "2018-04-03T04:00:18.033051Z"
        }
      }
    },
    {
      "cell_type": "markdown",
      "source": [
        "Exercise: Pick some columns from the housing prices set, encode them appropriately, and fit a linear model. Try and get the lowest score possible.\n"
      ],
      "metadata": {}
    },
    {
      "cell_type": "markdown",
      "source": [
        "## Standardization"
      ],
      "metadata": {}
    },
    {
      "cell_type": "markdown",
      "source": [
        "Many machine learning algorithms require all variables to be on the same scale, ideally between -1 and 1. Let's compare LotArea to SalePrice"
      ],
      "metadata": {}
    },
    {
      "cell_type": "code",
      "source": [
        "training_set['LotArea'].describe()"
      ],
      "outputs": [
        {
          "output_type": "execute_result",
          "execution_count": 28,
          "data": {
            "text/plain": [
              "count      1168.000000\n",
              "mean      10521.577055\n",
              "std       10678.605035\n",
              "min        1300.000000\n",
              "25%        7555.000000\n",
              "50%        9423.000000\n",
              "75%       11608.500000\n",
              "max      215245.000000\n",
              "Name: LotArea, dtype: float64"
            ]
          },
          "metadata": {}
        }
      ],
      "execution_count": 28,
      "metadata": {}
    },
    {
      "cell_type": "code",
      "source": [
        "training_set['SalePrice'].describe()"
      ],
      "outputs": [
        {
          "output_type": "execute_result",
          "execution_count": 29,
          "data": {
            "text/plain": [
              "count      1168.000000\n",
              "mean     180590.277397\n",
              "std       78815.697902\n",
              "min       34900.000000\n",
              "25%      129900.000000\n",
              "50%      162950.000000\n",
              "75%      214000.000000\n",
              "max      755000.000000\n",
              "Name: SalePrice, dtype: float64"
            ]
          },
          "metadata": {}
        }
      ],
      "execution_count": 29,
      "metadata": {
        "collapsed": false,
        "inputHidden": false,
        "outputHidden": false
      }
    },
    {
      "cell_type": "markdown",
      "source": [
        "Note that the mean (average) of SalePrice is 10 times greater than the mean of LotArea.\n",
        "\nWe can transform these variables to be on the same scale using a preprocessing trick called _standardization_. We subtract the mean and divide by standard deviation."
      ],
      "metadata": {
        "inputHidden": false,
        "outputHidden": false
      }
    },
    {
      "cell_type": "code",
      "source": [
        "from sklearn.preprocessing import StandardScaler"
      ],
      "outputs": [],
      "execution_count": 30,
      "metadata": {}
    },
    {
      "cell_type": "code",
      "source": [
        "standardizer = StandardScaler()\n",
        "scaled = pd.DataFrame(standardizer.fit_transform(training_set[['LotArea','SalePrice']]),\n",
        "             columns=['LotArea','SalePrice'])\n",
        "scaled.head()"
      ],
      "outputs": [
        {
          "output_type": "execute_result",
          "execution_count": 31,
          "data": {
            "text/html": [
              "<div>\n",
              "<style>\n",
              "    .dataframe thead tr:only-child th {\n",
              "        text-align: right;\n",
              "    }\n",
              "\n",
              "    .dataframe thead th {\n",
              "        text-align: left;\n",
              "    }\n",
              "\n",
              "    .dataframe tbody tr th {\n",
              "        vertical-align: top;\n",
              "    }\n",
              "</style>\n",
              "<table border=\"1\" class=\"dataframe\">\n",
              "  <thead>\n",
              "    <tr style=\"text-align: right;\">\n",
              "      <th></th>\n",
              "      <th>LotArea</th>\n",
              "      <th>SalePrice</th>\n",
              "    </tr>\n",
              "  </thead>\n",
              "  <tbody>\n",
              "    <tr>\n",
              "      <th>0</th>\n",
              "      <td>-0.194076</td>\n",
              "      <td>0.354265</td>\n",
              "    </tr>\n",
              "    <tr>\n",
              "      <th>1</th>\n",
              "      <td>-0.086338</td>\n",
              "      <td>0.011547</td>\n",
              "    </tr>\n",
              "    <tr>\n",
              "      <th>2</th>\n",
              "      <td>0.068243</td>\n",
              "      <td>0.544664</td>\n",
              "    </tr>\n",
              "    <tr>\n",
              "      <th>3</th>\n",
              "      <td>-0.091022</td>\n",
              "      <td>-0.515223</td>\n",
              "    </tr>\n",
              "    <tr>\n",
              "      <th>4</th>\n",
              "      <td>0.350235</td>\n",
              "      <td>0.881036</td>\n",
              "    </tr>\n",
              "  </tbody>\n",
              "</table>\n",
              "</div>"
            ],
            "text/plain": [
              "    LotArea  SalePrice\n",
              "0 -0.194076   0.354265\n",
              "1 -0.086338   0.011547\n",
              "2  0.068243   0.544664\n",
              "3 -0.091022  -0.515223\n",
              "4  0.350235   0.881036"
            ]
          },
          "metadata": {}
        }
      ],
      "execution_count": 31,
      "metadata": {
        "collapsed": false,
        "inputHidden": false,
        "outputHidden": false
      }
    },
    {
      "cell_type": "code",
      "source": [
        "scaled.describe()"
      ],
      "outputs": [
        {
          "output_type": "execute_result",
          "execution_count": 32,
          "data": {
            "text/html": [
              "<div>\n",
              "<style>\n",
              "    .dataframe thead tr:only-child th {\n",
              "        text-align: right;\n",
              "    }\n",
              "\n",
              "    .dataframe thead th {\n",
              "        text-align: left;\n",
              "    }\n",
              "\n",
              "    .dataframe tbody tr th {\n",
              "        vertical-align: top;\n",
              "    }\n",
              "</style>\n",
              "<table border=\"1\" class=\"dataframe\">\n",
              "  <thead>\n",
              "    <tr style=\"text-align: right;\">\n",
              "      <th></th>\n",
              "      <th>LotArea</th>\n",
              "      <th>SalePrice</th>\n",
              "    </tr>\n",
              "  </thead>\n",
              "  <tbody>\n",
              "    <tr>\n",
              "      <th>count</th>\n",
              "      <td>1.168000e+03</td>\n",
              "      <td>1.168000e+03</td>\n",
              "    </tr>\n",
              "    <tr>\n",
              "      <th>mean</th>\n",
              "      <td>-8.430934e-17</td>\n",
              "      <td>-2.378710e-17</td>\n",
              "    </tr>\n",
              "    <tr>\n",
              "      <th>std</th>\n",
              "      <td>1.000428e+00</td>\n",
              "      <td>1.000428e+00</td>\n",
              "    </tr>\n",
              "    <tr>\n",
              "      <th>min</th>\n",
              "      <td>-8.639262e-01</td>\n",
              "      <td>-1.849285e+00</td>\n",
              "    </tr>\n",
              "    <tr>\n",
              "      <th>25%</th>\n",
              "      <td>-2.779247e-01</td>\n",
              "      <td>-6.434250e-01</td>\n",
              "    </tr>\n",
              "    <tr>\n",
              "      <th>50%</th>\n",
              "      <td>-1.029205e-01</td>\n",
              "      <td>-2.239127e-01</td>\n",
              "    </tr>\n",
              "    <tr>\n",
              "      <th>75%</th>\n",
              "      <td>1.018287e-01</td>\n",
              "      <td>4.240784e-01</td>\n",
              "    </tr>\n",
              "    <tr>\n",
              "      <th>max</th>\n",
              "      <td>1.917958e+01</td>\n",
              "      <td>7.291133e+00</td>\n",
              "    </tr>\n",
              "  </tbody>\n",
              "</table>\n",
              "</div>"
            ],
            "text/plain": [
              "            LotArea     SalePrice\n",
              "count  1.168000e+03  1.168000e+03\n",
              "mean  -8.430934e-17 -2.378710e-17\n",
              "std    1.000428e+00  1.000428e+00\n",
              "min   -8.639262e-01 -1.849285e+00\n",
              "25%   -2.779247e-01 -6.434250e-01\n",
              "50%   -1.029205e-01 -2.239127e-01\n",
              "75%    1.018287e-01  4.240784e-01\n",
              "max    1.917958e+01  7.291133e+00"
            ]
          },
          "metadata": {}
        }
      ],
      "execution_count": 32,
      "metadata": {
        "collapsed": false,
        "inputHidden": false,
        "outputHidden": false
      }
    },
    {
      "cell_type": "markdown",
      "source": [
        "We can put these back to their original scale using the `inverse_transform` method."
      ],
      "metadata": {
        "inputHidden": false,
        "outputHidden": false
      }
    },
    {
      "cell_type": "code",
      "source": [
        "pd.DataFrame(standardizer.inverse_transform(scaled),\n",
        "             columns=[\"LotArea\",\"SalePrice\"]).head()"
      ],
      "outputs": [
        {
          "output_type": "execute_result",
          "execution_count": 33,
          "data": {
            "text/html": [
              "<div>\n",
              "<style>\n",
              "    .dataframe thead tr:only-child th {\n",
              "        text-align: right;\n",
              "    }\n",
              "\n",
              "    .dataframe thead th {\n",
              "        text-align: left;\n",
              "    }\n",
              "\n",
              "    .dataframe tbody tr th {\n",
              "        vertical-align: top;\n",
              "    }\n",
              "</style>\n",
              "<table border=\"1\" class=\"dataframe\">\n",
              "  <thead>\n",
              "    <tr style=\"text-align: right;\">\n",
              "      <th></th>\n",
              "      <th>LotArea</th>\n",
              "      <th>SalePrice</th>\n",
              "    </tr>\n",
              "  </thead>\n",
              "  <tbody>\n",
              "    <tr>\n",
              "      <th>0</th>\n",
              "      <td>8450.0</td>\n",
              "      <td>208500.0</td>\n",
              "    </tr>\n",
              "    <tr>\n",
              "      <th>1</th>\n",
              "      <td>9600.0</td>\n",
              "      <td>181500.0</td>\n",
              "    </tr>\n",
              "    <tr>\n",
              "      <th>2</th>\n",
              "      <td>11250.0</td>\n",
              "      <td>223500.0</td>\n",
              "    </tr>\n",
              "    <tr>\n",
              "      <th>3</th>\n",
              "      <td>9550.0</td>\n",
              "      <td>140000.0</td>\n",
              "    </tr>\n",
              "    <tr>\n",
              "      <th>4</th>\n",
              "      <td>14260.0</td>\n",
              "      <td>250000.0</td>\n",
              "    </tr>\n",
              "  </tbody>\n",
              "</table>\n",
              "</div>"
            ],
            "text/plain": [
              "   LotArea  SalePrice\n",
              "0   8450.0   208500.0\n",
              "1   9600.0   181500.0\n",
              "2  11250.0   223500.0\n",
              "3   9550.0   140000.0\n",
              "4  14260.0   250000.0"
            ]
          },
          "metadata": {}
        }
      ],
      "execution_count": 33,
      "metadata": {}
    },
    {
      "cell_type": "code",
      "source": [
        "training_set[['LotArea',\"SalePrice\"]].head()"
      ],
      "outputs": [
        {
          "output_type": "execute_result",
          "execution_count": 34,
          "data": {
            "text/html": [
              "<div>\n",
              "<style>\n",
              "    .dataframe thead tr:only-child th {\n",
              "        text-align: right;\n",
              "    }\n",
              "\n",
              "    .dataframe thead th {\n",
              "        text-align: left;\n",
              "    }\n",
              "\n",
              "    .dataframe tbody tr th {\n",
              "        vertical-align: top;\n",
              "    }\n",
              "</style>\n",
              "<table border=\"1\" class=\"dataframe\">\n",
              "  <thead>\n",
              "    <tr style=\"text-align: right;\">\n",
              "      <th></th>\n",
              "      <th>LotArea</th>\n",
              "      <th>SalePrice</th>\n",
              "    </tr>\n",
              "  </thead>\n",
              "  <tbody>\n",
              "    <tr>\n",
              "      <th>0</th>\n",
              "      <td>8450</td>\n",
              "      <td>208500</td>\n",
              "    </tr>\n",
              "    <tr>\n",
              "      <th>1</th>\n",
              "      <td>9600</td>\n",
              "      <td>181500</td>\n",
              "    </tr>\n",
              "    <tr>\n",
              "      <th>2</th>\n",
              "      <td>11250</td>\n",
              "      <td>223500</td>\n",
              "    </tr>\n",
              "    <tr>\n",
              "      <th>3</th>\n",
              "      <td>9550</td>\n",
              "      <td>140000</td>\n",
              "    </tr>\n",
              "    <tr>\n",
              "      <th>4</th>\n",
              "      <td>14260</td>\n",
              "      <td>250000</td>\n",
              "    </tr>\n",
              "  </tbody>\n",
              "</table>\n",
              "</div>"
            ],
            "text/plain": [
              "   LotArea  SalePrice\n",
              "0     8450     208500\n",
              "1     9600     181500\n",
              "2    11250     223500\n",
              "3     9550     140000\n",
              "4    14260     250000"
            ]
          },
          "metadata": {}
        }
      ],
      "execution_count": 34,
      "metadata": {}
    },
    {
      "cell_type": "markdown",
      "source": [
        "## Creating New Features"
      ],
      "metadata": {
        "inputHidden": false,
        "outputHidden": false
      }
    },
    {
      "cell_type": "markdown",
      "source": [
        "We can also add new features to our model by combining two or more existing features. For example, let's\n",
        "multiply bedrooms by bathrooms. \n",
        "We'll also standardize our input and output."
      ],
      "metadata": {}
    },
    {
      "cell_type": "code",
      "source": [
        "def train_bedroom_bathroom_model(training_set):\n",
        "    def encode_data(data,scaler = None):\n",
        "        data = data.copy()\n",
        "        data = data[['FullBath','BedroomAbvGr']]\n",
        "        data['BedBath'] = data['FullBath'] * data['BedroomAbvGr']\n",
        "        \n",
        "        if(not scaler):\n",
        "            scaler = StandardScaler()\n",
        "            scaler.fit(data)\n",
        "        pd.DataFrame(scaler.transform(data), columns = ['FullBath','BedroomAbvGr','BedBath'])\n",
        "        return(data,scaler)\n",
        "    \n",
        "    training_features, scaler = encode_data(training_set)\n",
        "    predictor = linear_model.LinearRegression()\n",
        "    predictor.fit(training_features, training_set['SalePrice'])\n",
        "    \n",
        "    def bedroom_bathroom_model(input_data):\n",
        "        input_features,_ = encode_data(input_data,scaler)\n",
        "        predictions = predictor.predict(input_features)\n",
        "        return(predictions)\n",
        "    return(bedroom_bathroom_model)"
      ],
      "outputs": [],
      "execution_count": 98,
      "metadata": {}
    },
    {
      "cell_type": "code",
      "source": [
        "bedroom_bathroom_model = train_bedroom_bathroom_model(training_set)"
      ],
      "outputs": [],
      "execution_count": 99,
      "metadata": {}
    },
    {
      "cell_type": "code",
      "source": [
        "evaluate_model(bedroom_bathroom_model)"
      ],
      "outputs": [
        {
          "output_type": "stream",
          "name": "stdout",
          "text": [
            "The model is inaccurate by $47140.90 on average.\n"
          ]
        },
        {
          "output_type": "execute_result",
          "execution_count": 100,
          "data": {
            "text/plain": [
              "47140.89624339486"
            ]
          },
          "metadata": {}
        }
      ],
      "execution_count": 100,
      "metadata": {}
    },
    {
      "cell_type": "markdown",
      "source": [
        "# The SciKit API\n",
        "\n\n",
        "We now have a sense of the workflow necessary to use machine learning models.\n",
        "\n",
        "The steps we take are:\n",
        "\n",
        "1. _feature engineering_: Encode all the data we want to use into numbers. Perform any other transformations you think are necessary (e.g. scaling). We end up with a 2D array `X_train` containing all the columns we want to process, as well as an array `y_train` containing the column we want to predict (possibly scaled)\n",
        "\n",
        "2. _train our model_:  This can be done with the command `model.fit(X_train,y_train)`\n",
        "\n",
        "3. _predict_: Use our freshly trained model to make some predictions.  This is done with the command `model.predict(input)``\n",
        "\n4. _evaluate_: We can use the `evaluate_model` function."
      ],
      "metadata": {}
    },
    {
      "cell_type": "markdown",
      "source": [
        "# Random Forests"
      ],
      "metadata": {}
    },
    {
      "cell_type": "markdown",
      "source": [
        "\n\n\n\n",
        "Now that we understand how to preprocess our data, we can use any other model in scikitlearn. We'll use XGBoost, a model that has won many kaggle competitions. \n"
      ],
      "metadata": {}
    },
    {
      "cell_type": "code",
      "source": [
        "import xgboost"
      ],
      "outputs": [],
      "execution_count": 117,
      "metadata": {}
    },
    {
      "cell_type": "code",
      "source": [
        "def train_xgboost_model(training_set):\n",
        "    def encode_data(data,scaler = None):\n",
        "        data = data.copy()\n",
        "        data = data[['FullBath','BedroomAbvGr']]\n",
        "        data['BedBath'] = data['FullBath'] * data['BedroomAbvGr']\n",
        "        \n",
        "        if(not scaler):\n",
        "            scaler = StandardScaler()\n",
        "            scaler.fit(data)\n",
        "        pd.DataFrame(scaler.transform(data), columns = ['FullBath','BedroomAbvGr','BedBath'])\n",
        "        return(data,scaler)\n",
        "    \n",
        "    training_features, scaler = encode_data(training_set)\n",
        "    predictor = xgboost.XGBRegressor()\n",
        "    predictor.fit(training_features, training_set['SalePrice'])\n",
        "    \n",
        "    def xgboost_model(input_data):\n",
        "        input_features,_ = encode_data(input_data,scaler)\n",
        "        predictions = predictor.predict(input_features)\n",
        "        return(predictions)\n",
        "    return(xgboost_model)"
      ],
      "outputs": [],
      "execution_count": 120,
      "metadata": {}
    },
    {
      "cell_type": "code",
      "source": [
        "xgboost_model = train_xgboost_model(training_set)\n",
        "evaluate_model(xgboost_model)"
      ],
      "outputs": [
        {
          "output_type": "stream",
          "name": "stdout",
          "text": [
            "The model is inaccurate by $45394.72 on average.\n"
          ]
        },
        {
          "output_type": "execute_result",
          "execution_count": 121,
          "data": {
            "text/plain": [
              "45394.71813463185"
            ]
          },
          "metadata": {}
        }
      ],
      "execution_count": 121,
      "metadata": {}
    },
    {
      "cell_type": "markdown",
      "source": [
        "# Neural Networks"
      ],
      "metadata": {}
    },
    {
      "cell_type": "markdown",
      "source": [
        "Now that we "
      ],
      "metadata": {}
    },
    {
      "cell_type": "code",
      "source": [
        "from keras.models import Sequential\n",
        "from keras.layers import Dense, Activation\n",
        "import sklearn"
      ],
      "outputs": [],
      "execution_count": 148,
      "metadata": {}
    },
    {
      "cell_type": "code",
      "source": [
        "def train_neural_network_model(training_set):\n",
        "    def encode_data(data,scaler = None):\n",
        "        data = data.copy()\n",
        "        data = data[['FullBath','BedroomAbvGr']]\n",
        "        data['BedBath'] = data['FullBath'] * data['BedroomAbvGr']\n",
        "        \n",
        "        if(not scaler):\n",
        "            scaler = StandardScaler()\n",
        "            scaler.fit(data)\n",
        "        pd.DataFrame(scaler.transform(data), columns = ['FullBath','BedroomAbvGr','BedBath'])\n",
        "        return(data,scaler)\n",
        "    \n",
        "    training_features, scaler = encode_data(training_set)\n",
        "    \n",
        "    predictor = model = Sequential([\n",
        "    Dense(32, input_shape=(3,)),\n",
        "    Activation('relu'),\n",
        "    Dense(32),\n",
        "    Activation('relu'),\n",
        "    Dense(32),\n",
        "    Activation('relu'),\n",
        "    Dense(1),\n",
        "    Activation('relu')\n",
        "    ])\n",
        "    \n",
        "    predictor.compile(optimizer='rmsprop',\n",
        "              loss='mae')\n",
        "    \n",
        "    label_scaler = sklearn.preprocessing.MinMaxScaler()\n",
        "    scaled_labels = label_scaler.fit_transform(training_set[['SalePrice']])\n",
        "    predictor.fit(training_features,scaled_labels, epochs = 50)\n",
        "    \n",
        "    def neural_network_model(input_data):\n",
        "        input_features,_ = encode_data(input_data,scaler)\n",
        "        scaled_predictions = predictor.predict(input_features)\n",
        "        \n",
        "        # Descale the prediction.\n",
        "        predictions = pd.DataFrame(label_scaler.inverse_transform(scaled_predictions),\n",
        "                                   columns = [\"SalePrice\"])\n",
        "        \n",
        "        return(predictions['SalePrice'])\n",
        "    return(neural_network_model)"
      ],
      "outputs": [],
      "execution_count": 178,
      "metadata": {}
    },
    {
      "cell_type": "code",
      "source": [
        "neural_network_model = train_neural_network_model(training_set)\n"
      ],
      "outputs": [
        {
          "output_type": "stream",
          "name": "stdout",
          "text": [
            "Epoch 1/50\n",
            "1168/1168 [==============================] - 1s 443us/step - loss: 0.0781\n",
            "Epoch 2/50\n",
            "1168/1168 [==============================] - 0s 46us/step - loss: 0.0687\n",
            "Epoch 3/50\n",
            "1168/1168 [==============================] - 0s 46us/step - loss: 0.0672\n",
            "Epoch 4/50\n",
            "1168/1168 [==============================] - 0s 51us/step - loss: 0.0669\n",
            "Epoch 5/50\n",
            "1168/1168 [==============================] - 0s 58us/step - loss: 0.0660\n",
            "Epoch 6/50\n",
            "1168/1168 [==============================] - 0s 117us/step - loss: 0.0650\n",
            "Epoch 7/50\n",
            "1168/1168 [==============================] - 0s 99us/step - loss: 0.0660\n",
            "Epoch 8/50\n",
            "1168/1168 [==============================] - 0s 82us/step - loss: 0.0652\n",
            "Epoch 9/50\n",
            "1168/1168 [==============================] - 0s 84us/step - loss: 0.0636\n",
            "Epoch 10/50\n",
            "1168/1168 [==============================] - 0s 58us/step - loss: 0.0642\n",
            "Epoch 11/50\n",
            "1168/1168 [==============================] - 0s 44us/step - loss: 0.0634\n",
            "Epoch 12/50\n",
            "1168/1168 [==============================] - 0s 45us/step - loss: 0.0634\n",
            "Epoch 13/50\n",
            "1168/1168 [==============================] - 0s 38us/step - loss: 0.0637\n",
            "Epoch 14/50\n",
            "1168/1168 [==============================] - 0s 55us/step - loss: 0.0621\n",
            "Epoch 15/50\n",
            "1168/1168 [==============================] - 0s 44us/step - loss: 0.0622\n",
            "Epoch 16/50\n",
            "1168/1168 [==============================] - 0s 44us/step - loss: 0.0631\n",
            "Epoch 17/50\n",
            "1168/1168 [==============================] - 0s 38us/step - loss: 0.0610\n",
            "Epoch 18/50\n",
            "1168/1168 [==============================] - 0s 57us/step - loss: 0.0613\n",
            "Epoch 19/50\n",
            "1168/1168 [==============================] - 0s 56us/step - loss: 0.0620\n",
            "Epoch 20/50\n",
            "1168/1168 [==============================] - 0s 98us/step - loss: 0.0618\n",
            "Epoch 21/50\n",
            "1168/1168 [==============================] - 0s 166us/step - loss: 0.0611\n",
            "Epoch 22/50\n",
            "1168/1168 [==============================] - 0s 145us/step - loss: 0.0612\n",
            "Epoch 23/50\n",
            "1168/1168 [==============================] - 0s 155us/step - loss: 0.0606\n",
            "Epoch 24/50\n",
            "1168/1168 [==============================] - 0s 182us/step - loss: 0.0606\n",
            "Epoch 25/50\n",
            "1168/1168 [==============================] - 0s 130us/step - loss: 0.0611\n",
            "Epoch 26/50\n",
            "1168/1168 [==============================] - 0s 61us/step - loss: 0.0606\n",
            "Epoch 27/50\n",
            "1168/1168 [==============================] - 0s 58us/step - loss: 0.0611\n",
            "Epoch 28/50\n",
            "1168/1168 [==============================] - 0s 48us/step - loss: 0.0608\n",
            "Epoch 29/50\n",
            "1168/1168 [==============================] - 0s 64us/step - loss: 0.0607\n",
            "Epoch 30/50\n",
            "1168/1168 [==============================] - 0s 97us/step - loss: 0.0610\n",
            "Epoch 31/50\n",
            "1168/1168 [==============================] - 0s 74us/step - loss: 0.0604\n",
            "Epoch 32/50\n",
            "1168/1168 [==============================] - 0s 87us/step - loss: 0.0604\n",
            "Epoch 33/50\n",
            "1168/1168 [==============================] - 0s 69us/step - loss: 0.0607\n",
            "Epoch 34/50\n",
            "1168/1168 [==============================] - 0s 94us/step - loss: 0.0610\n",
            "Epoch 35/50\n",
            "1168/1168 [==============================] - 0s 171us/step - loss: 0.0601\n",
            "Epoch 36/50\n",
            "1168/1168 [==============================] - 0s 132us/step - loss: 0.0607\n",
            "Epoch 37/50\n",
            "1168/1168 [==============================] - 0s 125us/step - loss: 0.0606\n",
            "Epoch 38/50\n",
            "1168/1168 [==============================] - 0s 132us/step - loss: 0.0600\n",
            "Epoch 39/50\n",
            "1168/1168 [==============================] - 0s 122us/step - loss: 0.0603\n",
            "Epoch 40/50\n",
            "1168/1168 [==============================] - 0s 94us/step - loss: 0.0602\n",
            "Epoch 41/50\n",
            "1168/1168 [==============================] - 0s 88us/step - loss: 0.0597\n",
            "Epoch 42/50\n",
            "1168/1168 [==============================] - 0s 53us/step - loss: 0.0606\n",
            "Epoch 43/50\n",
            "1168/1168 [==============================] - 0s 75us/step - loss: 0.0610\n",
            "Epoch 44/50\n",
            "1168/1168 [==============================] - 0s 71us/step - loss: 0.0601\n",
            "Epoch 45/50\n",
            "1168/1168 [==============================] - 0s 85us/step - loss: 0.0596\n",
            "Epoch 46/50\n",
            "1168/1168 [==============================] - 0s 149us/step - loss: 0.0600\n",
            "Epoch 47/50\n",
            "1168/1168 [==============================] - 0s 124us/step - loss: 0.0602\n",
            "Epoch 48/50\n",
            "1168/1168 [==============================] - 0s 107us/step - loss: 0.0598\n",
            "Epoch 49/50\n",
            "1168/1168 [==============================] - 0s 144us/step - loss: 0.0602\n",
            "Epoch 50/50\n",
            "1168/1168 [==============================] - 0s 123us/step - loss: 0.0605\n"
          ]
        }
      ],
      "execution_count": 179,
      "metadata": {}
    },
    {
      "cell_type": "code",
      "source": [
        "evaluate_model(neural_network_model)"
      ],
      "outputs": [
        {
          "output_type": "stream",
          "name": "stdout",
          "text": [
            "The model is inaccurate by $44488.91 on average.\n"
          ]
        },
        {
          "output_type": "execute_result",
          "execution_count": 180,
          "data": {
            "text/plain": [
              "44488.912323416094"
            ]
          },
          "metadata": {}
        }
      ],
      "execution_count": 180,
      "metadata": {}
    },
    {
      "cell_type": "markdown",
      "source": [
        "# Discussion: Hyperparameter Tuning"
      ],
      "metadata": {}
    },
    {
      "cell_type": "markdown",
      "source": [
        "If we browse the docs for [xgboost](http://xgboost.readthedocs.io/en/latest/) and [keras](https://keras.io), we find that there are a lot of different parameters we can set. You might be wondering how to decide which ones to use.\n",
        "\n",
        "You should view these parameters as knobs you can twiddle. The truth is you'll have to figure out what the best parameters to set are through trial and error. Just try lots of different combinations and see which one performs the best.\n",
        "\n",
        "There is research into automating this process. The problem has been dubbed \"hyperparameter optimisation.\"\n",
        "\n"
      ],
      "metadata": {}
    },
    {
      "cell_type": "markdown",
      "source": [],
      "metadata": {}
    }
  ],
  "metadata": {
    "kernel_info": {
      "name": "python3"
    },
    "kernelspec": {
      "name": "python3",
      "language": "python",
      "display_name": "Python 3"
    },
    "language_info": {
      "name": "python",
      "version": "3.6.3",
      "mimetype": "text/x-python",
      "codemirror_mode": {
        "name": "ipython",
        "version": 3
      },
      "pygments_lexer": "ipython3",
      "nbconvert_exporter": "python",
      "file_extension": ".py"
    },
    "latex_envs": {
      "report_style_numbering": false,
      "hotkeys": {
        "equation": "Ctrl-E",
        "itemize": "Ctrl-I"
      },
      "LaTeX_envs_menu_present": true,
      "autocomplete": true,
      "autoclose": false,
      "eqNumInitial": 1,
      "bibliofile": "biblio.bib",
      "latex_user_defs": false,
      "current_citInitial": 1,
      "eqLabelWithNumbers": true,
      "labels_anchors": false,
      "cite_by": "apalike",
      "user_envs_cfg": false
    },
    "nteract": {
      "version": "0.8.4"
    },
    "toc": {
      "toc_position": {},
      "skip_h1_title": false,
      "number_sections": true,
      "title_cell": "Table of Contents",
      "toc_window_display": false,
      "toc_section_display": true,
      "title_sidebar": "Contents",
      "toc_cell": false,
      "nav_menu": {},
      "sideBar": true
    },
    "varInspector": {
      "cols": {
        "lenName": 16,
        "lenType": 16,
        "lenVar": 40
      },
      "kernels_config": {
        "python": {
          "delete_cmd_postfix": "",
          "delete_cmd_prefix": "del ",
          "library": "var_list.py",
          "varRefreshCmd": "print(var_dic_list())"
        },
        "r": {
          "delete_cmd_postfix": ") ",
          "delete_cmd_prefix": "rm(",
          "library": "var_list.r",
          "varRefreshCmd": "cat(var_dic_list()) "
        }
      },
      "types_to_exclude": [
        "module",
        "function",
        "builtin_function_or_method",
        "instance",
        "_Feature"
      ],
      "window_display": false
    }
  },
  "nbformat": 4,
  "nbformat_minor": 4
}