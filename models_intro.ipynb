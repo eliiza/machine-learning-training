{
  "cells": [
    {
      "cell_type": "markdown",
      "source": [
        "# Introduction to models"
      ],
      "metadata": {}
    },
    {
      "cell_type": "markdown",
      "source": [
        "With normal programming, we have:\n",
        "\n",
        "Rules + Input   -> Output\n",
        "\n",
        "With machine learning, we have:\n",
        "\n",
        "Input + Expected Output -> Rules.\n",
        "\nThis notebook runs through a very simple machine learning algorithm: Linear Regression."
      ],
      "metadata": {}
    },
    {
      "cell_type": "markdown",
      "source": [
        "## My First Model: Linear Regression"
      ],
      "metadata": {}
    },
    {
      "cell_type": "markdown",
      "source": [
        "### The problem\n",
        "\n",
        "In the file `cluster.csv`, there are measurements of how many emails were processed in an hour by a cluster of `n` cores. We want to find out how much capacity we gain per core added.\n",
        "\n",
        "In other words, we want to find `w` such that:\n",
        "\n",
        "`emails_processed = w * number_of_cores`.\n",
        "\n",
        "This is an example of a _regression problem_.\n",
        "\nGiven `X` number of cores, predict `y`, the number of emails processed."
      ],
      "metadata": {}
    },
    {
      "cell_type": "markdown",
      "source": [
        "### Setting up"
      ],
      "metadata": {}
    },
    {
      "cell_type": "markdown",
      "source": [
        "We first use the `pandas` package to load our data. `pandas`, and `numpy` are essential packages for data management in machine learning with python. You can see some cheat sheets for these packages here:\n",
        "\n",
        "[pandas](https://github.com/pandas-dev/pandas/blob/master/doc/cheatsheet/Pandas_Cheat_Sheet.pdf)\n",
        "\n[numpy](https://s3.amazonaws.com/assets.datacamp.com/blog_assets/Numpy_Python_Cheat_Sheet.pdf)"
      ],
      "metadata": {}
    },
    {
      "cell_type": "code",
      "source": [
        "import pandas as pd\n",
        "cluster = pd.read_csv('cluster.csv')\n",
        "cluster.head()"
      ],
      "outputs": [
        {
          "output_type": "execute_result",
          "execution_count": 6,
          "data": {
            "text/plain": [
              "   cores  emails_processed  hour\n",
              "0      1               237     1\n",
              "1      1               233     2\n",
              "2      1               230     3\n",
              "3      1               237     4\n",
              "4      1               225     5"
            ],
            "text/html": [
              "<div>\n",
              "<style>\n",
              "    .dataframe thead tr:only-child th {\n",
              "        text-align: right;\n",
              "    }\n",
              "\n",
              "    .dataframe thead th {\n",
              "        text-align: left;\n",
              "    }\n",
              "\n",
              "    .dataframe tbody tr th {\n",
              "        vertical-align: top;\n",
              "    }\n",
              "</style>\n",
              "<table border=\"1\" class=\"dataframe\">\n",
              "  <thead>\n",
              "    <tr style=\"text-align: right;\">\n",
              "      <th></th>\n",
              "      <th>cores</th>\n",
              "      <th>emails_processed</th>\n",
              "      <th>hour</th>\n",
              "    </tr>\n",
              "  </thead>\n",
              "  <tbody>\n",
              "    <tr>\n",
              "      <th>0</th>\n",
              "      <td>1</td>\n",
              "      <td>237</td>\n",
              "      <td>1</td>\n",
              "    </tr>\n",
              "    <tr>\n",
              "      <th>1</th>\n",
              "      <td>1</td>\n",
              "      <td>233</td>\n",
              "      <td>2</td>\n",
              "    </tr>\n",
              "    <tr>\n",
              "      <th>2</th>\n",
              "      <td>1</td>\n",
              "      <td>230</td>\n",
              "      <td>3</td>\n",
              "    </tr>\n",
              "    <tr>\n",
              "      <th>3</th>\n",
              "      <td>1</td>\n",
              "      <td>237</td>\n",
              "      <td>4</td>\n",
              "    </tr>\n",
              "    <tr>\n",
              "      <th>4</th>\n",
              "      <td>1</td>\n",
              "      <td>225</td>\n",
              "      <td>5</td>\n",
              "    </tr>\n",
              "  </tbody>\n",
              "</table>\n",
              "</div>"
            ]
          },
          "metadata": {}
        }
      ],
      "execution_count": 6,
      "metadata": {
        "collapsed": false,
        "outputHidden": false,
        "inputHidden": false
      }
    },
    {
      "cell_type": "markdown",
      "source": [
        "It's good practice to always plot our data:"
      ],
      "metadata": {}
    },
    {
      "cell_type": "code",
      "source": [
        "import matplotlib.pyplot as plt\n",
        "\n",
        "cluster.plot(x='cores',y='emails_processed')\n",
        "plt.show()"
      ],
      "outputs": [
        {
          "output_type": "display_data",
          "data": {
            "text/plain": [
              "<matplotlib.figure.Figure at 0x11b07da90>"
            ],
            "image/png": "[encoded data removed]"
          },
          "metadata": {}
        }
      ],
      "execution_count": 8,
      "metadata": {
        "collapsed": false,
        "outputHidden": false,
        "inputHidden": false
      }
    },
    {
      "cell_type": "markdown",
      "source": [
        "Our data follows a clear linear trend!"
      ],
      "metadata": {}
    },
    {
      "cell_type": "markdown",
      "source": [
        "It's a good idea to divide our data into _training_ and _test_ sets.\n",
        "\n",
        "We also divide it up into predictors _X_ and predicted _y_.\n",
        "\n",
        "We can use the helper function train_test_split to shuffle our data and allocate 20% of it to testing.\n"
      ],
      "metadata": {}
    },
    {
      "cell_type": "code",
      "source": [
        "from sklearn.model_selection import train_test_split\n",
        "X = cluster['cores']\n",
        "y = cluster['emails_processed']The\n",
        "X_train, X_test, y_train, y_test = train_test_split(X,y,test_size=0.2)"
      ],
      "outputs": [],
      "execution_count": 15,
      "metadata": {
        "collapsed": false,
        "outputHidden": false,
        "inputHidden": false
      }
    },
    {
      "cell_type": "markdown",
      "source": [
        "### Training"
      ],
      "metadata": {}
    },
    {
      "cell_type": "markdown",
      "source": [
        "In machine learning, our data is always noisy. And small changes in our data (or random seed!) will yield a different model.\n",
        "\n\n",
        "Model training works by minimizing a _loss function_. The loss function  measures how inaccurate our model is. \n",
        "\n",
        "For this problem, we will use the mean squared error loss function\n",
        "\n",
        "`MSE = (emails_processed - w*cores)^2`.\n",
        "\nKeras has an optimizer that will find the values that minimize the loss."
      ],
      "metadata": {}
    },
    {
      "cell_type": "code",
      "source": [
        "from keras.models import Sequential\n",
        "from keras.layers.core import Dense, Activation\n",
        "\n",
        "model = Sequential()\n",
        "model.add(Dense(1,init='uniform', activation='linear',input_dim=1))\n",
        "model.compile(loss='mse', optimizer='rmsprop')\n",
        "\n",
        "model.fit(X_train, y_train, epochs=50, batch_size=16,verbose=0)\n",
        "score = model.evaluate(X_test, y_test, batch_size=16)\n",
        "\n"
      ],
      "outputs": [],
      "execution_count": null,
      "metadata": {
        "collapsed": false,
        "outputHidden": false,
        "inputHidden": false
      }
    },
    {
      "cell_type": "markdown",
      "source": [
        "### Interpreting the model"
      ],
      "metadata": {}
    },
    {
      "cell_type": "markdown",
      "source": [
        "### Evaluating the model"
      ],
      "metadata": {}
    },
    {
      "cell_type": "code",
      "source": [],
      "outputs": [],
      "execution_count": null,
      "metadata": {}
    },
    {
      "cell_type": "markdown",
      "source": [
        "# Multiple Linear Regression\n"
      ],
      "metadata": {}
    }
  ],
  "metadata": {
    "kernelspec": {
      "name": "python3",
      "language": "python",
      "display_name": "Python 3"
    },
    "language_info": {
      "name": "python",
      "version": "3.6.3",
      "mimetype": "text/x-python",
      "codemirror_mode": {
        "name": "ipython",
        "version": 3
      },
      "pygments_lexer": "ipython3",
      "nbconvert_exporter": "python",
      "file_extension": ".py"
    },
    "kernel_info": {
      "name": "python3"
    },
    "nteract": {
      "version": "0.8.3"
    }
  },
  "nbformat": 4,
  "nbformat_minor": 2
}