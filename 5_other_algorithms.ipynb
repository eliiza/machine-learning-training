{
 "cells": [
  {
   "cell_type": "markdown",
   "metadata": {},
   "source": [
    "# The SciKit API\n",
    "\n",
    "\n",
    "We now have a sense of the workflow necessary to use machine learning models.\n",
    "\n",
    "The steps we take are:\n",
    "\n",
    "1. _feature engineering_: Encode all the data we want to use into numbers. Perform any other transformations you think are necessary (e.g. scaling). We end up with a 2D array `X_train` containing all the columns we want to process, as well as an array `y_train` containing the column we want to predict (possibly scaled)\n",
    "\n",
    "2. _train our model_:  This can be done with the command `model.fit(X_train,y_train)`\n",
    "\n",
    "3. _predict_: Use our freshly trained model to make some predictions.  This is done with the command `model.predict(input)``\n",
    "\n",
    "4. _evaluate_: We can use the `evaluate_model` function.\n",
    "\n"
   ]
  },
  {
   "cell_type": "code",
   "execution_count": 7,
   "metadata": {},
   "outputs": [
    {
     "ename": "ImportError",
     "evalue": "cannot import name 'encode_features'",
     "output_type": "error",
     "traceback": [
      "\u001b[0;31m---------------------------------------------------------------------------\u001b[0m",
      "\u001b[0;31mImportError\u001b[0m                               Traceback (most recent call last)",
      "\u001b[0;32m<ipython-input-7-9204ba19ed61>\u001b[0m in \u001b[0;36m<module>\u001b[0;34m()\u001b[0m\n\u001b[1;32m      1\u001b[0m \u001b[0;32mimport\u001b[0m \u001b[0mxgboost\u001b[0m\u001b[0;34m\u001b[0m\u001b[0m\n\u001b[0;32m----> 2\u001b[0;31m \u001b[0;32mfrom\u001b[0m \u001b[0mutils\u001b[0m \u001b[0;32mimport\u001b[0m \u001b[0mevaluate_model\u001b[0m\u001b[0;34m,\u001b[0m \u001b[0mencode_features\u001b[0m\u001b[0;34m,\u001b[0m \u001b[0mencode_label\u001b[0m\u001b[0;34m,\u001b[0m \u001b[0mdecode_label\u001b[0m\u001b[0;34m\u001b[0m\u001b[0m\n\u001b[0m\u001b[1;32m      3\u001b[0m \u001b[0;32mfrom\u001b[0m \u001b[0msklearn\u001b[0m\u001b[0;34m.\u001b[0m\u001b[0mpreprocessing\u001b[0m \u001b[0;32mimport\u001b[0m \u001b[0mMinMaxScaler\u001b[0m\u001b[0;34m\u001b[0m\u001b[0m\n\u001b[1;32m      4\u001b[0m \u001b[0;32mimport\u001b[0m \u001b[0mpandas\u001b[0m \u001b[0;32mas\u001b[0m \u001b[0mpd\u001b[0m\u001b[0;34m\u001b[0m\u001b[0m\n\u001b[1;32m      5\u001b[0m \u001b[0;32mimport\u001b[0m \u001b[0msklearn\u001b[0m\u001b[0;34m\u001b[0m\u001b[0m\n",
      "\u001b[0;31mImportError\u001b[0m: cannot import name 'encode_features'"
     ]
    }
   ],
   "source": [
    "import xgboost\n",
    "from utils import evaluate_model, encode_features, encode_label, decode_label\n",
    "from sklearn.preprocessing import MinMaxScaler\n",
    "import pandas as pd\n",
    "import sklearn\n",
    "\n",
    "def train_xgboost_model(training_set):\n",
    "    # Step 1: Encode Features\n",
    "    features, feature_scaler = encode_features(training_set)\n",
    "    labels, label_scaler = encode_label(training_set)\n",
    "    \n",
    "    # Step 2: Train the model\n",
    "    predictor = xgboost.XGBRegressor()\n",
    "    \n",
    "    predictor.fit(features,labels)\n",
    "    \n",
    "    def model(input_data):\n",
    "        input_features = encode_features(input_data, scaler=feature_scaler)\n",
    "        \n",
    "        # Step 3: Make predictions\n",
    "        output_value = predictor.predict(input_features)\n",
    "        return decode_label(output_value, label_scaler)\n",
    "    \n",
    "    return(model)"
   ]
  },
  {
   "cell_type": "code",
   "execution_count": 3,
   "metadata": {},
   "outputs": [
    {
     "name": "stdout",
     "output_type": "stream",
     "text": [
      "The model is inaccurate by $39753.53 on average.\n"
     ]
    },
    {
     "data": {
      "text/plain": [
       "39753.532935573632"
      ]
     },
     "execution_count": 3,
     "metadata": {},
     "output_type": "execute_result"
    }
   ],
   "source": [
    "training_set = pd.read_csv(\"housing_price_data/training_data.csv\")\n",
    "xgboost_model = train_xgboost_model(training_set)\n",
    "evaluate_model(xgboost_model)"
   ]
  },
  {
   "cell_type": "markdown",
   "metadata": {},
   "source": [
    "This disciplined workflow makes it easy to try other models. This [cheat sheet](https://www.analyticsvidhya.com/infographics/Scikit-Learn-Infographic.pdf) provides a list of models supported by scikit learn. Here's an implementation of SVRRegressor"
   ]
  },
  {
   "cell_type": "code",
   "execution_count": 4,
   "metadata": {},
   "outputs": [],
   "source": [
    "import sklearn.svm\n",
    "def train_svr_model(training_set):\n",
    "    # Step 2: Train the model\n",
    "    training_features, scaler = encode_data(training_set)\n",
    "    predictor = sklearn.svm.SVR()\n",
    "    predictor.fit(training_features, training_set['SalePrice'])\n",
    "    \n",
    "    # Step 3: Make predictions\n",
    "    def svr_model(input_data):\n",
    "        input_features,_ = encode_data(input_data,scaler)\n",
    "        predictions = predictor.predict(input_features)\n",
    "        return(predictions)\n",
    "    return(svr_model)"
   ]
  },
  {
   "cell_type": "code",
   "execution_count": 5,
   "metadata": {},
   "outputs": [
    {
     "name": "stdout",
     "output_type": "stream",
     "text": [
      "The model is inaccurate by $55334.82 on average.\n"
     ]
    },
    {
     "data": {
      "text/plain": [
       "55334.822265890194"
      ]
     },
     "execution_count": 5,
     "metadata": {},
     "output_type": "execute_result"
    }
   ],
   "source": [
    "svr_model= train_svr_model(training_set)\n",
    "evaluate_model(svr_model)"
   ]
  },
  {
   "cell_type": "markdown",
   "metadata": {},
   "source": [
    "Exercise: Implement a model using [SGDRegressor](http://scikit-learn.org/stable/modules/generated/sklearn.linear_model.SGDRegressor.html)"
   ]
  }
 ],
 "metadata": {
  "kernel_info": {
   "name": "python3"
  },
  "kernelspec": {
   "display_name": "Python 3",
   "language": "python",
   "name": "python3"
  },
  "language_info": {
   "codemirror_mode": {
    "name": "ipython",
    "version": 3
   },
   "file_extension": ".py",
   "mimetype": "text/x-python",
   "name": "python",
   "nbconvert_exporter": "python",
   "pygments_lexer": "ipython3",
   "version": "3.6.5"
  },
  "nteract": {
   "version": "0.8.4"
  }
 },
 "nbformat": 4,
 "nbformat_minor": 2
}
