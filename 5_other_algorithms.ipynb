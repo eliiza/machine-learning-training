{
 "cells": [
  {
   "cell_type": "markdown",
   "metadata": {},
   "source": [
    "# The SciKit API\n",
    "\n",
    "\n",
    "We now have a sense of the workflow necessary to use machine learning models.\n",
    "\n",
    "The steps we take are:\n",
    "\n",
    "1. _feature engineering_: Encode all the data we want to use into numbers. Perform any other transformations you think are necessary (e.g. scaling). We end up with a 2D array `X_train` containing all the columns we want to process, as well as an array `y_train` containing the column we want to predict (possibly scaled)\n",
    "\n",
    "2. _train our model_:  This can be done with the command `model.fit(X_train,y_train)`\n",
    "\n",
    "3. _predict_: Use our freshly trained model to make some predictions.  This is done with the command `model.predict(input)``\n",
    "\n",
    "4. _evaluate_: We can use the `evaluate_model` function.\n",
    "\n"
   ]
  },
  {
   "cell_type": "code",
   "execution_count": 4,
   "metadata": {},
   "outputs": [],
   "source": [
    "import xgboost\n",
    "from utils import evaluate_model\n",
    "from sklearn.preprocessing import MinMaxScaler\n",
    "import pandas as pd\n",
    "import sklearn\n",
    "\n",
    "\n",
    "# Step 1: Feature Engineering\n",
    "def encode_data(data,scaler = None):\n",
    "    data = data.copy()\n",
    "    data = data[['FullBath','BedroomAbvGr','LotArea']]\n",
    "    data['BedBath'] = data['FullBath'] * data['BedroomAbvGr']\n",
    "        \n",
    "    if(not scaler):\n",
    "        scaler = MinMaxScaler()\n",
    "        scaler.fit(data)\n",
    "    pd.DataFrame(scaler.transform(data), columns = ['FullBath','BedroomAbvGr','LotArea','BedBath'])\n",
    "    return(data,scaler)\n",
    "\n",
    "\n",
    "\n",
    "def train_xgboost_model(training_set):\n",
    "    # Step 2: Train the model\n",
    "    training_features, scaler = encode_data(training_set)\n",
    "    predictor = xgboost.XGBRegressor()\n",
    "    predictor.fit(training_features, training_set['SalePrice'])\n",
    "    \n",
    "    # Step 3: Make predictions\n",
    "    def xgboost_model(input_data):\n",
    "        input_features,_ = encode_data(input_data,scaler)\n",
    "        predictions = predictor.predict(input_features)\n",
    "        return(predictions)\n",
    "    return(xgboost_model)"
   ]
  },
  {
   "cell_type": "code",
   "execution_count": 5,
   "metadata": {},
   "outputs": [
    {
     "name": "stdout",
     "output_type": "stream",
     "text": [
      "The model is inaccurate by $39753.53 on average.\n"
     ]
    },
    {
     "data": {
      "text/plain": [
       "39753.53293557363"
      ]
     },
     "execution_count": 5,
     "metadata": {},
     "output_type": "execute_result"
    }
   ],
   "source": [
    "training_set = pd.read_csv(\"housing_price_data/training_data.csv\")\n",
    "xgboost_model = train_xgboost_model(training_set)\n",
    "evaluate_model(xgboost_model)"
   ]
  },
  {
   "cell_type": "markdown",
   "metadata": {},
   "source": [
    "This disciplined workflow makes it easy to try other models. This [cheat sheet](https://www.analyticsvidhya.com/infographics/Scikit-Learn-Infographic.pdf) provides a list of models supported by scikit learn. Here's an implementation of SVRRegressor"
   ]
  },
  {
   "cell_type": "code",
   "execution_count": 6,
   "metadata": {},
   "outputs": [],
   "source": [
    "import sklearn.svm\n",
    "def train_svr_model(training_set):\n",
    "    # Step 2: Train the model\n",
    "    training_features, scaler = encode_data(training_set)\n",
    "    predictor = sklearn.svm.SVR()\n",
    "    predictor.fit(training_features, training_set['SalePrice'])\n",
    "    \n",
    "    # Step 3: Make predictions\n",
    "    def svr_model(input_data):\n",
    "        input_features,_ = encode_data(input_data,scaler)\n",
    "        predictions = predictor.predict(input_features)\n",
    "        return(predictions)\n",
    "    return(svr_model)"
   ]
  },
  {
   "cell_type": "code",
   "execution_count": 7,
   "metadata": {},
   "outputs": [
    {
     "name": "stdout",
     "output_type": "stream",
     "text": [
      "The model is inaccurate by $55334.82 on average.\n"
     ]
    },
    {
     "data": {
      "text/plain": [
       "55334.82226589019"
      ]
     },
     "execution_count": 7,
     "metadata": {},
     "output_type": "execute_result"
    }
   ],
   "source": [
    "svr_model= train_svr_model(training_set)\n",
    "evaluate_model(svr_model)"
   ]
  },
  {
   "cell_type": "markdown",
   "metadata": {},
   "source": [
    "Exercise: Implement a model using [SGDRegressor](http://scikit-learn.org/stable/modules/generated/sklearn.linear_model.SGDRegressor.html)"
   ]
  }
 ],
 "metadata": {
  "kernel_info": {
   "name": "python3"
  },
  "kernelspec": {
   "display_name": "Python 3",
   "language": "python",
   "name": "python3"
  },
  "language_info": {
   "codemirror_mode": {
    "name": "ipython",
    "version": 3
   },
   "file_extension": ".py",
   "mimetype": "text/x-python",
   "name": "python",
   "nbconvert_exporter": "python",
   "pygments_lexer": "ipython3",
   "version": "3.6.3"
  },
  "nteract": {
   "version": "0.8.4"
  }
 },
 "nbformat": 4,
 "nbformat_minor": 2
}
