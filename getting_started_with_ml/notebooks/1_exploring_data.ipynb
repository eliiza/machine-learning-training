{
 "cells": [
  {
   "cell_type": "markdown",
   "metadata": {
    "inputHidden": false,
    "outputHidden": false
   },
   "source": [
    "# Exploring the housing prices dataset\n",
    "\n",
    "This notebook is a quick exploration of the [Ames,Iowa](https://www.kaggle.com/c/house-prices-advanced-regression-techniques#description) housing price dataset. \n",
    "\n",
    "A full description of this dataset is available [here](https://github.com/eliiza/ml-training-data/blob/master/housing_price_data/data_description.txt)\n",
    "\n",
    "## Pandas library\n",
    "\n",
    "We'll use the [Pandas Data Analysis Library](https://pandas.pydata.org/) to explore the data. \n",
    "\n",
    "A useful cheat sheet when working with the Pandas library can be found [here](https://s3.amazonaws.com/assets.datacamp.com/blog_assets/PandasPythonForDataScience.pdf)\n",
    "\n",
    "## Notebooks\n",
    "\n",
    "Notebooks are a web based interface to code interpreters. They also support inline markdown comments (like this) as well as visualisations in the output\n",
    "\n",
    "- In Jupyter:\n",
    "    - You can run a cell using __Shift-Enter__.\n",
    "    - You can insert cells using __Insert__ in the menu-bar.\n",
    "    - You can delete cells using __d + d__ (selecting the chunk and pressing `d` twice). \n",
    "- In Google Colab:\n",
    "    - You can run a cell using the __Play__ button.\n",
    "    - You can insert cells using __Insert__ in the menu-bar.\n",
    "    - You can delete cells using __Right Click > Delete Cell__. "
   ]
  },
  {
   "cell_type": "markdown",
   "metadata": {},
   "source": [
    "## Dataset"
   ]
  },
  {
   "cell_type": "code",
   "execution_count": null,
   "metadata": {},
   "outputs": [],
   "source": [
    "# Import required libraries\n",
    "import pandas as pd\n",
    "\n",
    "# Set notebook to display matplotlib graphics within notebook\n",
    "%matplotlib inline\n",
    "\n",
    "# Load dataset\n",
    "housing_prices = pd.read_csv(\"https://raw.githubusercontent.com/eliiza/ml-training-data/master/housing_price_data/housing_data.csv\")"
   ]
  },
  {
   "cell_type": "code",
   "execution_count": null,
   "metadata": {
    "collapsed": false,
    "inputHidden": false,
    "jupyter": {
     "outputs_hidden": false
    },
    "outputHidden": false
   },
   "outputs": [],
   "source": [
    "housing_prices.shape # 1460 Rows, 81 Columns"
   ]
  },
  {
   "cell_type": "code",
   "execution_count": null,
   "metadata": {
    "collapsed": false,
    "inputHidden": false,
    "jupyter": {
     "outputs_hidden": false
    },
    "outputHidden": false,
    "scrolled": true
   },
   "outputs": [],
   "source": [
    "housing_prices.info() # Display names and types of all columns."
   ]
  },
  {
   "cell_type": "markdown",
   "metadata": {},
   "source": [
    "### Exercise\n",
    "\n",
    "- Display the dataset ordered by the `SalePrice` values using the `.sort_values(by='VARIABLE_NAME')` function\n",
    "- This will allow you to see the cheapest and most expensive houses."
   ]
  },
  {
   "cell_type": "code",
   "execution_count": null,
   "metadata": {},
   "outputs": [],
   "source": []
  },
  {
   "cell_type": "markdown",
   "metadata": {},
   "source": [
    "## Numerical variables"
   ]
  },
  {
   "cell_type": "markdown",
   "metadata": {},
   "source": [
    "- You can pick out a single column from a DataFrame using `df['COLUMN_NAME']`\n",
    "- And multiple columns using `df[['COLUMN_1', 'COLUMN_2', ...]]`\n",
    "- The `df.describe()` function prints summary statistics"
   ]
  },
  {
   "cell_type": "code",
   "execution_count": null,
   "metadata": {
    "collapsed": false,
    "inputHidden": false,
    "jupyter": {
     "outputs_hidden": false
    },
    "outputHidden": false,
    "scrolled": true
   },
   "outputs": [],
   "source": [
    "# Describe summary statistics for Bedrooms, Fireplaces, Lot Area, SalePrice\n",
    "housing_prices[[\"BedroomAbvGr\",\"YearBuilt\",\"LotArea\",\"SalePrice\"]].describe()"
   ]
  },
  {
   "cell_type": "code",
   "execution_count": null,
   "metadata": {
    "collapsed": false,
    "inputHidden": false,
    "jupyter": {
     "outputs_hidden": false
    },
    "outputHidden": false,
    "scrolled": true
   },
   "outputs": [],
   "source": [
    "# Construct a scatter plot of lot area vs sale price\n",
    "housing_prices.plot.scatter(x='LotArea',y='SalePrice')"
   ]
  },
  {
   "cell_type": "markdown",
   "metadata": {},
   "source": [
    "**Question:** What does this plot tell us about the relationship between lot area and house sale price?"
   ]
  },
  {
   "cell_type": "markdown",
   "metadata": {},
   "source": [
    "### Exercise\n",
    "\n",
    "Make a scatter plot (like the above) that plots `YearBuilt` vs. `SalePrice`"
   ]
  },
  {
   "cell_type": "code",
   "execution_count": null,
   "metadata": {},
   "outputs": [],
   "source": []
  },
  {
   "cell_type": "markdown",
   "metadata": {},
   "source": [
    "### Exercise\n",
    "\n",
    "- What attributes do you think are related to a house's sale price?\n",
    "- Explore a couple of other variables in the dataset that you think might be related to Sale Price. Use summary statistics and plots against Sale Prices. You can find the list of variables [here](https://github.com/eliiza/ml-training-data/blob/master/housing_price_data/data_description.txt)"
   ]
  },
  {
   "cell_type": "code",
   "execution_count": null,
   "metadata": {},
   "outputs": [],
   "source": []
  },
  {
   "cell_type": "markdown",
   "metadata": {},
   "source": [
    "### Correlations\n",
    "\n",
    "It can be difficult to go through the variables by-hand to see which are related to sale price! For the numerical variables, we can look at the __correlations__ within the dataset. "
   ]
  },
  {
   "cell_type": "code",
   "execution_count": null,
   "metadata": {},
   "outputs": [],
   "source": [
    "# Calculate correlation matrix for the numerical columns\n",
    "housing_prices.corr()"
   ]
  },
  {
   "cell_type": "markdown",
   "metadata": {},
   "source": [
    "### Exercise\n",
    "\n",
    "- Pick out the column that contains the correlations with `SalePrice` (using `df.['VARIABLE_NAME']`)\n",
    "- You can sort the correlation values using `df.sort_values(ascending=False)`."
   ]
  },
  {
   "cell_type": "code",
   "execution_count": null,
   "metadata": {},
   "outputs": [],
   "source": []
  },
  {
   "cell_type": "markdown",
   "metadata": {},
   "source": [
    "### Exercise (optional)\n",
    "\n",
    "- Now look at scatter plots for some of the variables that are high correlated with `SalePrice`"
   ]
  },
  {
   "cell_type": "code",
   "execution_count": null,
   "metadata": {},
   "outputs": [],
   "source": []
  },
  {
   "cell_type": "markdown",
   "metadata": {},
   "source": [
    "## Non-numerical variables"
   ]
  },
  {
   "cell_type": "markdown",
   "metadata": {},
   "source": [
    "- We will use [box plots](https://en.wikipedia.org/wiki/Box_plot) to explore the relationship between some of the non-numerical variables and sale price.\n",
    "- The [Seaborn](https://seaborn.pydata.org/) visualisation library provides a good boxplot function: [sns.boxplot()](https://seaborn.pydata.org/generated/seaborn.boxplot.html)\n",
    "\n",
    "\n",
    "- Example: `BsmtCond` evaluates the height of the basement\n",
    "       Ex\tExcellent (100+ inches)\t\n",
    "       Gd\tGood (90-99 inches)\n",
    "       TA\tTypical (80-89 inches)\n",
    "       Fa\tFair (70-79 inches)\n",
    "       Po\tPoor (<70 inches\n",
    "       NA\tNo Basement\n"
   ]
  },
  {
   "cell_type": "code",
   "execution_count": null,
   "metadata": {},
   "outputs": [],
   "source": [
    "import seaborn as sns\n",
    "# Construct a scatter plot of basement condition vs sale price\n",
    "sns.boxplot(x='BsmtCond',y='SalePrice', data=housing_prices)"
   ]
  },
  {
   "cell_type": "markdown",
   "metadata": {},
   "source": [
    "### Exercise (optional)\n",
    "\n",
    "- Have a look at the relationships between the following variables and `SalePrice` using boxplots:\n",
    "    - `KitchenQual`\n",
    "    - `CentralAir`\n",
    "    - `Heating`\n",
    "- Check the variable definitions (and possible values) [here](https://github.com/eliiza/ml-training-data/blob/master/housing_price_data/data_description.txt)"
   ]
  },
  {
   "cell_type": "code",
   "execution_count": null,
   "metadata": {},
   "outputs": [],
   "source": []
  }
 ],
 "metadata": {
  "kernel_info": {
   "name": "python3"
  },
  "kernelspec": {
   "display_name": "Python 3",
   "language": "python",
   "name": "python3"
  },
  "language_info": {
   "codemirror_mode": {
    "name": "ipython",
    "version": 3
   },
   "file_extension": ".py",
   "mimetype": "text/x-python",
   "name": "python",
   "nbconvert_exporter": "python",
   "pygments_lexer": "ipython3",
   "version": "3.7.7"
  },
  "nteract": {
   "version": "0.8.4"
  }
 },
 "nbformat": 4,
 "nbformat_minor": 4
}
