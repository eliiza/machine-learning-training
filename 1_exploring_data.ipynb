{
 "cells": [
  {
   "cell_type": "markdown",
   "metadata": {
    "inputHidden": false,
    "outputHidden": false
   },
   "source": [
    "# Exploring the housing prices dataset\n",
    "\n",
    "This notebook is a quick exploration of the [Ames,Iowa](https://www.kaggle.com/c/house-prices-advanced-regression-techniques#description) housing price dataset. We'll use the [Pandas Data Analysis Library](https://pandas.pydata.org/) to explore the data. \n",
    "\n",
    "A full description of this dataset is available at `housing_prices/data_description.txt`\n",
    "\n",
    "Notebooks are a web based interface to code interpreters. They also support inline markdown comments (like this) as well as visualisations in the output\n",
    "\n",
    "You can run code in these notebooks using __Shift-Enter__."
   ]
  },
  {
   "cell_type": "code",
   "execution_count": null,
   "metadata": {},
   "outputs": [],
   "source": [
    "import pandas as pd\n",
    "housing_prices = pd.read_csv(\"housing_price_data/train.csv\")"
   ]
  },
  {
   "cell_type": "code",
   "execution_count": null,
   "metadata": {
    "collapsed": false,
    "inputHidden": false,
    "outputHidden": false
   },
   "outputs": [],
   "source": [
    "housing_prices.shape # 1460 Rows, 81 Columns"
   ]
  },
  {
   "cell_type": "code",
   "execution_count": null,
   "metadata": {
    "collapsed": false,
    "inputHidden": false,
    "outputHidden": false
   },
   "outputs": [],
   "source": [
    "housing_prices.info() # Display names and types of all columns."
   ]
  },
  {
   "cell_type": "code",
   "execution_count": null,
   "metadata": {
    "collapsed": false,
    "inputHidden": false,
    "outputHidden": false
   },
   "outputs": [],
   "source": [
    "# Describe summary statistics for Bedrooms, Fireplaces, Lot Area, SalePrice\n",
    "housing_prices[[\"BedroomAbvGr\",\"Fireplaces\",\"LotArea\",\"SalePrice\"]].describe()"
   ]
  },
  {
   "cell_type": "code",
   "execution_count": null,
   "metadata": {
    "collapsed": false,
    "inputHidden": false,
    "outputHidden": false
   },
   "outputs": [],
   "source": [
    "# Construct a scatter plot of bedrooms vs sale price\n",
    "housing_prices.plot.scatter(x='BedroomAbvGr',y='SalePrice')"
   ]
  },
  {
   "cell_type": "markdown",
   "metadata": {},
   "source": [
    "## Exercise\n",
    "\n",
    "Make a scatter plot (like the above) that plots Fireplaces vs. Sale Price"
   ]
  },
  {
   "cell_type": "code",
   "execution_count": null,
   "metadata": {},
   "outputs": [],
   "source": [
    "# Exercise: make a scatter plot of Fireplaces vs Sale Price\n"
   ]
  },
  {
   "cell_type": "markdown",
   "metadata": {},
   "source": [
    "## Exercise\n",
    "\n",
    "A useful cheat sheet when working with the Pandas library can be found [here](https://s3.amazonaws.com/assets.datacamp.com/blog_assets/PandasPythonForDataScience.pdf)\n",
    "\n",
    "Make use of the above cheat sheet to find out the total number of fireplaces in the dataset"
   ]
  },
  {
   "cell_type": "code",
   "execution_count": null,
   "metadata": {},
   "outputs": [],
   "source": [
    "# Exercise: Find the total number of fireplaces\n"
   ]
  }
 ],
 "metadata": {
  "kernel_info": {
   "name": "python3"
  },
  "kernelspec": {
   "display_name": "Python 3",
   "language": "python",
   "name": "python3"
  },
  "language_info": {
   "codemirror_mode": {
    "name": "ipython",
    "version": 3
   },
   "file_extension": ".py",
   "mimetype": "text/x-python",
   "name": "python",
   "nbconvert_exporter": "python",
   "pygments_lexer": "ipython3",
   "version": "3.6.5"
  },
  "nteract": {
   "version": "0.8.4"
  }
 },
 "nbformat": 4,
 "nbformat_minor": 4
}
