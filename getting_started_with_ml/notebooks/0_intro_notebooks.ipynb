{
 "cells": [
  {
   "cell_type": "markdown",
   "metadata": {},
   "source": [
    "# Intro to Python and Notebooks\n",
    "\n",
    "## Python\n",
    "\n",
    "Python is an intepreted language, that means it executes its code directly as it is written by translating it into specific machine instructions every time it is run. A change to your code is immediately effective upon its next execution. This is different from so called compiler languages which have to have their code translated (compiled) into an executable program that is then called and needs to be recompiled if changes to the original code are made.  \n",
    "\n",
    "The great benefit of interpreted languages is that you can write code, quickly execute it and change it if you want a different result. \n",
    "\n",
    "## Notebooks\n",
    "\n",
    "### Cells\n",
    "\n",
    "- In notebooks, we have cells that hold code blocks that get executed together.\n",
    "- In Jupyter:\n",
    "    - You can run a cell using __Shift-Enter__.\n",
    "    - You can insert cells using __Insert__ in the menu-bar.\n",
    "    - You can delete cells using __d + d__ (selecting the chunk and pressing `d` twice). \n",
    "- In Google Colab:\n",
    "    - You can run a cell using the __Play__ button.\n",
    "    - You can insert cells using __Insert__ in the menu-bar.\n",
    "    - You can delete cells using __Right Click > Delete Cell__. \n",
    "\n",
    "### Execution\n",
    "\n",
    "- You can execute these code blocks in any order you like, and the number in the square brackets to the left of the block shows at which point in your series of executions this cell was executed. \n",
    "- For example, if you execute your first cell (they count only code, not these comments that are written in a language called \"markdown\"), the number 1 appears in the brackets next to the cell and, if the code has an output, also in the brackets next to the output. \n",
    "- If you execute two cells consecutively, their numbers will be 1 apart, increasing in order of execution. \n",
    "- Be careful and keep track of your order, else you might have old settings, variables, functions or other junk from old executions in memory that are still in effect even though you deleted or changed their cells after execution.  \n",
    "\n",
    "- There are a lot more details about Jupyter lab and Jupyter notebooks in the reference, which you can access from the \"Help\" section in the menu bar.\n",
    "\n",
    "## Python Basics"
   ]
  },
  {
   "cell_type": "code",
   "execution_count": null,
   "metadata": {},
   "outputs": [],
   "source": [
    "x = 3"
   ]
  },
  {
   "cell_type": "code",
   "execution_count": null,
   "metadata": {},
   "outputs": [],
   "source": [
    "y = 4"
   ]
  },
  {
   "cell_type": "markdown",
   "metadata": {},
   "source": [
    "By default, the notebook will print the value of the last value called in the cell: "
   ]
  },
  {
   "cell_type": "code",
   "execution_count": null,
   "metadata": {},
   "outputs": [],
   "source": [
    "y\n",
    "x"
   ]
  },
  {
   "cell_type": "markdown",
   "metadata": {},
   "source": [
    "But we can also explicitly print variables:"
   ]
  },
  {
   "cell_type": "code",
   "execution_count": null,
   "metadata": {},
   "outputs": [],
   "source": [
    "print(y)\n",
    "print(x)"
   ]
  },
  {
   "cell_type": "markdown",
   "metadata": {},
   "source": [
    "Maths operations are mostly as you would expect:"
   ]
  },
  {
   "cell_type": "code",
   "execution_count": null,
   "metadata": {},
   "outputs": [],
   "source": [
    "x + x"
   ]
  },
  {
   "cell_type": "code",
   "execution_count": null,
   "metadata": {},
   "outputs": [],
   "source": [
    "x * x"
   ]
  },
  {
   "cell_type": "code",
   "execution_count": null,
   "metadata": {},
   "outputs": [],
   "source": [
    "# Many math operations are available as functions\n",
    "pow(x,x)"
   ]
  },
  {
   "cell_type": "markdown",
   "metadata": {},
   "source": [
    "Printing strings:"
   ]
  },
  {
   "cell_type": "code",
   "execution_count": null,
   "metadata": {},
   "outputs": [],
   "source": [
    "print(\"hello world\")"
   ]
  },
  {
   "cell_type": "markdown",
   "metadata": {},
   "source": [
    "Defining a function in python:"
   ]
  },
  {
   "cell_type": "code",
   "execution_count": null,
   "metadata": {},
   "outputs": [],
   "source": [
    "def my_func(x, y):\n",
    "    return (x ** x) + (y ** y)"
   ]
  },
  {
   "cell_type": "markdown",
   "metadata": {},
   "source": [
    "And then calling it:"
   ]
  },
  {
   "cell_type": "code",
   "execution_count": null,
   "metadata": {},
   "outputs": [],
   "source": [
    "my_func(3, 5)"
   ]
  },
  {
   "cell_type": "markdown",
   "metadata": {},
   "source": [
    "Finally, we can also define functions within functions, like a closure:"
   ]
  },
  {
   "cell_type": "code",
   "execution_count": null,
   "metadata": {},
   "outputs": [],
   "source": [
    "def my_func_2(x, y):\n",
    "    def other_func(z):\n",
    "        return x * y * z\n",
    "    \n",
    "    return other_func"
   ]
  },
  {
   "cell_type": "markdown",
   "metadata": {},
   "source": [
    "When you call this function, it doesn't immediately produce a result like a value assigned to a variable - it returns a *function*.  \n",
    "\n",
    "Try calling `my_func_2` like any other variable and you'll see that Python returns an object instead of a value."
   ]
  },
  {
   "cell_type": "code",
   "execution_count": null,
   "metadata": {},
   "outputs": [],
   "source": [
    "my_func_2"
   ]
  },
  {
   "cell_type": "markdown",
   "metadata": {},
   "source": [
    "Now check this out:"
   ]
  },
  {
   "cell_type": "code",
   "execution_count": null,
   "metadata": {},
   "outputs": [],
   "source": [
    "f = my_func_2(3, 5)\n",
    "print(f(4))\n",
    "print(f(8))"
   ]
  },
  {
   "cell_type": "code",
   "execution_count": null,
   "metadata": {},
   "outputs": [],
   "source": []
  }
 ],
 "metadata": {
  "kernelspec": {
   "display_name": "Python 3",
   "language": "python",
   "name": "python3"
  },
  "language_info": {
   "codemirror_mode": {
    "name": "ipython",
    "version": 3
   },
   "file_extension": ".py",
   "mimetype": "text/x-python",
   "name": "python",
   "nbconvert_exporter": "python",
   "pygments_lexer": "ipython3",
   "version": "3.7.7"
  }
 },
 "nbformat": 4,
 "nbformat_minor": 4
}
