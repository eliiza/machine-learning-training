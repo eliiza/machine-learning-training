{
  "cells": [
    {
      "cell_type": "markdown",
      "source": [
        "# Neural Networks\n",
        "\n",
        "Neural networks work by connecting together a sequence of \"layers\" (nodes connected to one another).\n",
        "In this notebook we'll work with the `Dense` Layer, where every every node from the previous layer is connected to every node in the subsequent layer.\n",
        "\n",
        "We'll use the [Keras](https://keras.io/) library\n",
        "\n",
        "When we use Neural Networks, they will train more effectively if we scale the label column (SalePrice) to lie between 0 and 1. We \n",
        "then transform it back to its original scale."
      ],
      "metadata": {}
    },
    {
      "cell_type": "code",
      "source": [
        "from utils import evaluate_model\n",
        "from keras.models import Sequential\n",
        "from keras.layers import Dense, Activation\n",
        "import sklearn\n",
        "import pandas as pd\n",
        "import sklearn.preprocessing"
      ],
      "outputs": [],
      "execution_count": null,
      "metadata": {}
    },
    {
      "cell_type": "code",
      "source": [
        "def encode_data(data,scaler = None):\n",
        "    data = data.copy()\n",
        "    data = data[['FullBath','BedroomAbvGr']]\n",
        "    data['BedBath'] = data['FullBath'] * data['BedroomAbvGr']\n",
        "        \n",
        "    if(not scaler):\n",
        "        scaler = sklearn.preprocessing.MinMaxScaler()\n",
        "        scaler.fit(data)\n",
        "    pd.DataFrame(scaler.transform(data), columns = ['FullBath','BedroomAbvGr','BedBath'])\n",
        "    return(data,scaler)\n",
        "    \n",
        "\n\n",
        "def train_neural_network_model(training_set):\n",
        "    training_features, scaler = encode_data(training_set)\n",
        "    \n",
        "    \n",
        "    # 3 Dense layers and an output layer\n",
        "    predictor = model = Sequential([\n",
        "    Dense(32, input_shape=(3,)),\n",
        "    Activation('relu'),\n",
        "    Dense(32),\n",
        "    Activation('relu'),\n",
        "    Dense(32),\n",
        "    Activation('relu'),\n",
        "    Dense(1),\n",
        "    Activation('relu')\n",
        "    ])\n",
        "    \n",
        "    predictor.compile(optimizer='rmsprop',\n",
        "              loss='mae')\n",
        "    \n",
        "    label_scaler = sklearn.preprocessing.MinMaxScaler()\n",
        "    scaled_labels = label_scaler.fit_transform(training_set[['SalePrice']])\n",
        "    predictor.fit(training_features,scaled_labels, epochs = 50)\n",
        "    \n",
        "    def neural_network_model(input_data):\n",
        "        input_features,_ = encode_data(input_data,scaler)\n",
        "        scaled_predictions = predictor.predict(input_features)\n",
        "        \n",
        "        # Scale prediction back to its original scale\n",
        "        predictions = pd.DataFrame(label_scaler.inverse_transform(scaled_predictions),\n",
        "                                   columns = [\"SalePrice\"])\n",
        "        \n",
        "        return(predictions['SalePrice'])\n",
        "    return(neural_network_model)"
      ],
      "outputs": [],
      "execution_count": null,
      "metadata": {}
    },
    {
      "cell_type": "code",
      "source": [
        "training_set = pd.read_csv(\"housing_price_data/training_data.csv\")\n",
        "neural_network_model = train_neural_network_model(training_set)\n",
        "evaluate_model(neural_network_model)"
      ],
      "outputs": [],
      "execution_count": null,
      "metadata": {}
    },
    {
      "cell_type": "markdown",
      "source": [
        "# Exercise"
      ],
      "metadata": {}
    },
    {
      "cell_type": "markdown",
      "source": [
        "1. Play around with different `Activation` functions. Options include 'tanh', and 'sigmoid'\n",
        "2. Experiment with adding different numbers of nodes and layers."
      ],
      "metadata": {}
    }
  ],
  "metadata": {
    "kernelspec": {
      "name": "python3",
      "language": "python",
      "display_name": "Python 3"
    },
    "language_info": {
      "name": "python",
      "version": "3.6.3",
      "mimetype": "text/x-python",
      "codemirror_mode": {
        "name": "ipython",
        "version": 3
      },
      "pygments_lexer": "ipython3",
      "nbconvert_exporter": "python",
      "file_extension": ".py"
    },
    "kernel_info": {
      "name": "python3"
    },
    "nteract": {
      "version": "0.8.4"
    }
  },
  "nbformat": 4,
  "nbformat_minor": 2
}