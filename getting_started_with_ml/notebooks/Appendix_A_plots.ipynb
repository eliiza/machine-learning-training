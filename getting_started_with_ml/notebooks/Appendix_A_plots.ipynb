{
 "cells": [
  {
   "cell_type": "code",
   "execution_count": null,
   "metadata": {},
   "outputs": [],
   "source": [
    "# Import required libraries\n",
    "import pandas as pd\n",
    "import matplotlib.pyplot as plt\n",
    "import seaborn as sns\n",
    "import numpy as np\n",
    "\n",
    "# Set notebook to display matplotlib graphics within notebook\n",
    "%matplotlib inline\n",
    "\n",
    "# Load dataset\n",
    "housing_prices_full = pd.read_csv(\"https://raw.githubusercontent.com/eliiza/ml-training-data/master/housing_price_data/training_data.csv\")"
   ]
  },
  {
   "cell_type": "code",
   "execution_count": null,
   "metadata": {},
   "outputs": [],
   "source": [
    "# Only take a few rows for better visibility\n",
    "housing_prices = housing_prices_full.iloc[:15,:]"
   ]
  },
  {
   "cell_type": "code",
   "execution_count": null,
   "metadata": {},
   "outputs": [],
   "source": [
    "fig, ax = plt.subplots(1, 1, figsize=(18, 9))\n",
    "plt.plot(housing_prices['OverallQual'], housing_prices['SalePrice'], \"o\")\n",
    "plt.xlabel('Overall Quality Rating', fontsize=24)\n",
    "plt.ylabel(\"Sale price (US$)\", fontsize=24)\n",
    "plt.xticks(fontsize=16)\n",
    "plt.yticks(fontsize=16)\n",
    "plt.savefig('sale_price_vs_quality_scatter.png')"
   ]
  },
  {
   "cell_type": "code",
   "execution_count": null,
   "metadata": {},
   "outputs": [],
   "source": [
    "fig, ax = plt.subplots(1, 1, figsize=(18, 9))\n",
    "x = np.arange(5,10)\n",
    "b, m = np.polynomial.polynomial.polyfit(housing_prices['OverallQual'], housing_prices['SalePrice'], 1)\n",
    "plt.plot(housing_prices['OverallQual'], housing_prices['SalePrice'], \"o\")\n",
    "plt.xlabel('Overall Quality Rating', fontsize=24)\n",
    "plt.ylabel(\"Sale price (US$)\", fontsize=24)\n",
    "plt.xticks(fontsize=16)\n",
    "plt.yticks(fontsize=16)\n",
    "plt.plot(x, b + m * x, '-')\n",
    "plt.savefig('sale_price_vs_quality_best_fit.png')"
   ]
  },
  {
   "cell_type": "code",
   "execution_count": null,
   "metadata": {},
   "outputs": [],
   "source": []
  }
 ],
 "metadata": {
  "kernelspec": {
   "display_name": "Python 3",
   "language": "python",
   "name": "python3"
  },
  "language_info": {
   "codemirror_mode": {
    "name": "ipython",
    "version": 3
   },
   "file_extension": ".py",
   "mimetype": "text/x-python",
   "name": "python",
   "nbconvert_exporter": "python",
   "pygments_lexer": "ipython3",
   "version": "3.7.7"
  }
 },
 "nbformat": 4,
 "nbformat_minor": 4
}
