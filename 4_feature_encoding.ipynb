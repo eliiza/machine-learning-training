{
 "cells": [
  {
   "cell_type": "markdown",
   "metadata": {},
   "source": [
    "# Multiple Linear Regression\n",
    "If our columns are numeric, it's straightforward to add them to a linear regression model. Below we are adding an extra feature to a model `GrLivArea`"
   ]
  },
  {
   "cell_type": "code",
   "execution_count": null,
   "metadata": {},
   "outputs": [],
   "source": [
    "import pandas as pd\n",
    "from utils import evaluate_model\n",
    "from sklearn import linear_model\n",
    "\n",
    "def train_multi_linear_model(training_set):\n",
    "    def encode_data(data):\n",
    "        return(data[['BedroomAbvGr','GrLivArea', 'LotArea']])\n",
    "    predictor = linear_model.LinearRegression()\n",
    "    predictor.fit(encode_data(training_set),training_set['SalePrice'])\n",
    "    def multi_linear_model(input_data):\n",
    "        return(predictor.predict(encode_data(input_data)))\n",
    "    return(multi_linear_model)"
   ]
  },
  {
   "cell_type": "code",
   "execution_count": null,
   "metadata": {},
   "outputs": [],
   "source": [
    "training_set = pd.read_csv(\"housing_price_data/training_data.csv\")\n",
    "multi_linear_model = train_multi_linear_model(training_set)\n",
    "evaluate_model(multi_linear_model)"
   ]
  },
  {
   "cell_type": "markdown",
   "metadata": {},
   "source": [
    "## Exercise\n",
    "\n",
    "Modify the code above to add `LotArea` to the multilinear model and observe the performance of the model"
   ]
  },
  {
   "cell_type": "markdown",
   "metadata": {},
   "source": [
    "## Working with categorical variables (Part 1)\n",
    "In order to make use of categorical data, we first need to encode it as a number. As a simple example, we'll encode the variable `CentralAir` as 0 if there is no central air conditioning, and 1 if there is central air conditioning. We can do this by using a boolean comparison operation, and relying on the fact that `True == 1`"
   ]
  },
  {
   "cell_type": "code",
   "execution_count": null,
   "metadata": {},
   "outputs": [],
   "source": [
    "def train_central_air_model(training_set):\n",
    "    def encode_data(data):\n",
    "        features = data.copy()\n",
    "        features['CentralAir'] = features['CentralAir'] == 'Y'\n",
    "        features = features[['BedroomAbvGr','GrLivArea','CentralAir']]\n",
    "        return(features)\n",
    "\n",
    "    training_features = encode_data(training_set)\n",
    "    predictor = linear_model.LinearRegression()\n",
    "    predictor.fit(training_features, training_set['SalePrice'])\n",
    "    \n",
    "    def central_air_model(input_data):\n",
    "        input_features = encode_data(input_data)\n",
    "        return(predictor.predict(input_features))\n",
    "    return(central_air_model)"
   ]
  },
  {
   "cell_type": "code",
   "execution_count": null,
   "metadata": {},
   "outputs": [],
   "source": [
    "central_air_model = train_central_air_model(training_set)\n",
    "evaluate_model(central_air_model)"
   ]
  },
  {
   "cell_type": "markdown",
   "metadata": {},
   "source": [
    "# Exercise\n",
    "\n",
    "Add whether or not the house has a pool to this model in the code above. (Look at the `PoolArea` variable). Compare this model's accruacy now that the presence of a pool is a feature. Did it improve it or make it worse? "
   ]
  },
  {
   "cell_type": "markdown",
   "metadata": {},
   "source": [
    "# Working with ordinal variables\n",
    "If the categories of a variable follow a clear rank, then we can label them by this rank. An example of this is the basement quality column.\n",
    "\n",
    "    BsmtCond: Evaluates the general condition of the basement\n",
    "\n",
    "       Ex\tExcellent\n",
    "       Gd\tGood\n",
    "       TA\tTypical - slight dampness allowed\n",
    "       Fa\tFair - dampness or some cracking or settling\n",
    "       Po\tPoor - Severe cracking, settling, or wetness\n",
    "\n",
    "We would encode this as Po:1, Fa:2, TA:3, Gd:4, and Ex:5.\n",
    "\n",
    "For houses without a basement (i.e. `BsmtCond is NaN`), we use a default value of 0\n"
   ]
  },
  {
   "cell_type": "code",
   "execution_count": null,
   "metadata": {},
   "outputs": [],
   "source": [
    "def train_basement_cond_model(training_set):\n",
    "    def encode_data(data):\n",
    "        features = data.copy()\n",
    "        bsmt_cond_map = {'Ex':5,'Gd':4,'TA':3,'Fa':2,'Po':1}\n",
    "        features['BsmtQuality'] = features['BsmtCond'].map(bsmt_cond_map).fillna(0) # Some houses have no basement\n",
    "        \n",
    "        features = features[['BedroomAbvGr','GrLivArea','BsmtQuality']]\n",
    "        return(features)\n",
    "\n",
    "    training_features = encode_data(training_set)\n",
    "    predictor = linear_model.LinearRegression()\n",
    "    predictor.fit(training_features, training_set['SalePrice'])\n",
    "    \n",
    "    def basement_cond_model(input_data):\n",
    "        input_features = encode_data(input_data)\n",
    "        return(predictor.predict(input_features))\n",
    "    return(basement_cond_model)"
   ]
  },
  {
   "cell_type": "code",
   "execution_count": null,
   "metadata": {},
   "outputs": [],
   "source": [
    "basement_cond_model = train_basement_cond_model(training_set)\n",
    "evaluate_model(basement_cond_model)"
   ]
  },
  {
   "cell_type": "markdown",
   "metadata": {},
   "source": [
    "## Exercise\n",
    "\n",
    "Add to the code above the KitchenQuality as a feature (see `KitchenQual` in `data_description.txt`)"
   ]
  },
  {
   "cell_type": "markdown",
   "metadata": {},
   "source": [
    "# Working with categorical variables (part 2)"
   ]
  },
  {
   "cell_type": "markdown",
   "metadata": {},
   "source": [
    "\n",
    "If there is no order, we use a technique called 'one hot encoding'. This involves creating a new column for each category\n",
    "\n",
    "For example, the `Electrical` variable in the housing prices dataset contains the following categories:\n",
    "\n",
    "       SBrkr\tStandard Circuit Breakers & Romex\n",
    "       FuseA\tFuse Box over 60 AMP and all Romex wiring (Average)\t\n",
    "       FuseF\t60 AMP Fuse Box and mostly Romex wiring (Fair)\n",
    "       FuseP\t60 AMP Fuse Box and mostly knob & tube wiring (poor)\n",
    "       Mix\tMixed\n",
    "\n",
    "We would encode the table\n",
    "\n",
    "|Electrical|\n",
    "|---------|\n",
    "  |FuseA|\n",
    "  |FuseF|\n",
    "  |FuseP|\n",
    "  |Mix|\n",
    "  |SBrkr|\n",
    "  \n",
    "as\n",
    "\n",
    "|FuseA |FuseF|FuseP|Mix|SBrkr|\n",
    "|-----|-----|-----|-----|\n",
    "| 1| 0  | 0   | 0  | 0  |\n",
    "| 0|1  | 0   | 0  | 0  |\n",
    "| 0|0  | 1  | 0| 0|\n",
    "| 0|0  | 0 | 1 |0 |\n",
    "| 0|0  | 0 | 0 | 1|"
   ]
  },
  {
   "cell_type": "code",
   "execution_count": null,
   "metadata": {},
   "outputs": [],
   "source": [
    "def encode_electrical(electrical):\n",
    "    one_hot_encoding = pd.DataFrame()\n",
    "    one_hot_encoding['FuseA'] = electrical == 'FuseA'\n",
    "    one_hot_encoding['FuseF'] = electrical == 'FuseF'\n",
    "    one_hot_encoding['FuseP'] = electrical == 'FuseP'\n",
    "    one_hot_encoding['Mix']   = electrical == 'Mix'\n",
    "    one_hot_encoding['SBrkr'] = electrical == 'SBrkr'\n",
    "    return(one_hot_encoding)\n"
   ]
  },
  {
   "cell_type": "code",
   "execution_count": null,
   "metadata": {},
   "outputs": [],
   "source": [
    "encode_electrical(training_set['Electrical']).head(20)"
   ]
  },
  {
   "cell_type": "code",
   "execution_count": null,
   "metadata": {},
   "outputs": [],
   "source": [
    "def train_electrical_model(training_set):\n",
    "    def encode_data(data):\n",
    "        electrical = encode_electrical(data['Electrical'])\n",
    "        data = pd.concat([electrical,data[[\"BedroomAbvGr\",\"GrLivArea\"]]],axis=1)\n",
    "        return(data)\n",
    "    training_features = encode_data(training_set)\n",
    "    predictor = linear_model.LinearRegression()\n",
    "    predictor.fit(training_features, training_set['SalePrice'])\n",
    "    \n",
    "    def electrical_model(input_data):\n",
    "        input_features = encode_data(input_data)\n",
    "        return(predictor.predict(input_features))\n",
    "    return(electrical_model)\n",
    "\n",
    "electrical_model = train_electrical_model(training_set)\n",
    "evaluate_model(electrical_model)\n"
   ]
  },
  {
   "cell_type": "markdown",
   "metadata": {},
   "source": [
    "## Exericse\n",
    "\n",
    "Encode `Heating` using One Hot encoding"
   ]
  },
  {
   "cell_type": "markdown",
   "metadata": {},
   "source": [
    "# Scaling and combining features"
   ]
  },
  {
   "cell_type": "markdown",
   "metadata": {},
   "source": [
    "Many machine learning algorithms require all variables to be on the same scale, ideally between -1 and 1. Let's compare LotArea to SalePrice"
   ]
  },
  {
   "cell_type": "code",
   "execution_count": null,
   "metadata": {},
   "outputs": [],
   "source": [
    "training_set[['LotArea','SalePrice']].describe()"
   ]
  },
  {
   "cell_type": "markdown",
   "metadata": {},
   "source": [
    "We can transform these variables to be on the same scale using a preprocessing trick called _min/max scaling_. \n",
    "\n",
    "`MinMaxScale(X) = (X - min(X))/(max(X) - min(X))` "
   ]
  },
  {
   "cell_type": "code",
   "execution_count": null,
   "metadata": {},
   "outputs": [],
   "source": [
    "from sklearn.preprocessing import MinMaxScaler"
   ]
  },
  {
   "cell_type": "code",
   "execution_count": null,
   "metadata": {},
   "outputs": [],
   "source": [
    "scaler = MinMaxScaler()\n",
    "scaled = pd.DataFrame(scaler.fit_transform(training_set[['LotArea','SalePrice']]),\n",
    "             columns=['LotArea','SalePrice'])\n",
    "scaled.head()"
   ]
  },
  {
   "cell_type": "code",
   "execution_count": null,
   "metadata": {},
   "outputs": [],
   "source": [
    "scaled.describe()"
   ]
  },
  {
   "cell_type": "markdown",
   "metadata": {},
   "source": [
    "We can put these back to their original scale using the `inverse_transform` method."
   ]
  },
  {
   "cell_type": "code",
   "execution_count": null,
   "metadata": {},
   "outputs": [],
   "source": [
    "pd.DataFrame(scaler.inverse_transform(scaled),\n",
    "             columns=[\"LotArea\",\"SalePrice\"]).head()"
   ]
  },
  {
   "cell_type": "code",
   "execution_count": null,
   "metadata": {},
   "outputs": [],
   "source": [
    "training_set[[\"LotArea\",\"SalePrice\"]].head()"
   ]
  },
  {
   "cell_type": "markdown",
   "metadata": {},
   "source": [
    "We can also add new features to our model by combining two or more existing features. For example, let's\n",
    "multiply bedrooms by bathrooms. \n",
    "We'll also scale our input and output."
   ]
  },
  {
   "cell_type": "code",
   "execution_count": null,
   "metadata": {},
   "outputs": [],
   "source": [
    "def train_bedroom_bathroom_model(training_set):\n",
    "    def encode_data(data,scaler = None):\n",
    "        data = data.copy()\n",
    "        data = data[['FullBath','BedroomAbvGr']]\n",
    "        data['BedBath'] = data['FullBath'] * data['BedroomAbvGr']\n",
    "        \n",
    "        if(not scaler):\n",
    "            scaler = MinMaxScaler()\n",
    "            scaler.fit(data)\n",
    "        pd.DataFrame(scaler.transform(data), columns = ['FullBath','BedroomAbvGr','BedBath'])\n",
    "        return(data,scaler)\n",
    "    \n",
    "    training_features, scaler = encode_data(training_set)\n",
    "    predictor = linear_model.LinearRegression()\n",
    "    predictor.fit(training_features, training_set['SalePrice'])\n",
    "    \n",
    "    def bedroom_bathroom_model(input_data):\n",
    "        input_features,_ = encode_data(input_data,scaler)\n",
    "        predictions = predictor.predict(input_features)\n",
    "        return(predictions)\n",
    "    return(bedroom_bathroom_model)"
   ]
  },
  {
   "cell_type": "code",
   "execution_count": null,
   "metadata": {},
   "outputs": [],
   "source": [
    "bedroom_bathroom_model = train_bedroom_bathroom_model(training_set)\n",
    "evaluate_model(bedroom_bathroom_model)"
   ]
  },
  {
   "cell_type": "markdown",
   "metadata": {},
   "source": [
    "# Competition Exercise\n",
    "\n",
    "Build a linear model to achieve as low score as possible. Winner will receive an Eliiza water bottle."
   ]
  }
 ],
 "metadata": {
  "kernelspec": {
   "display_name": "Python 3",
   "language": "python",
   "name": "python3"
  },
  "language_info": {
   "codemirror_mode": {
    "name": "ipython",
    "version": 3
   },
   "file_extension": ".py",
   "mimetype": "text/x-python",
   "name": "python",
   "nbconvert_exporter": "python",
   "pygments_lexer": "ipython3",
   "version": "3.6.3"
  }
 },
 "nbformat": 4,
 "nbformat_minor": 2
}
