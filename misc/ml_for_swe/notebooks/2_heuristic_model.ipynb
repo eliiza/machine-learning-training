{
 "cells": [
  {
   "cell_type": "markdown",
   "metadata": {
    "inputHidden": false,
    "outputHidden": false
   },
   "source": [
    "# Evaluating models"
   ]
  },
  {
   "cell_type": "markdown",
   "metadata": {},
   "source": [
    "We'll be using the following data science libraries (click the links for cheat sheets provided by DataCamp)\n",
    "* [numpy](https://s3.amazonaws.com/assets.datacamp.com/blog_assets/Numpy_Python_Cheat_Sheet.pdf)  (for vectorised math operations)\n",
    "* [pandas](http://datacamp-community.s3.amazonaws.com/9f0f2ae1-8bd8-4302-a67b-e17f3059d9e8) (for dataframes)\n",
    "* [keras](https://s3.amazonaws.com/assets.datacamp.com/blog_assets/Keras_Cheat_Sheet_Python.pdf) (for neural networks)\n",
    "* [scikitlearn](https://s3.amazonaws.com/assets.datacamp.com/blog_assets/Scikit_Learn_Cheat_Sheet_Python.pdf) (for other machine learning models)"
   ]
  },
  {
   "cell_type": "code",
   "execution_count": null,
   "metadata": {
    "collapsed": false,
    "inputHidden": false,
    "outputHidden": false
   },
   "outputs": [],
   "source": [
    "import numpy as np\n",
    "import pandas as pd\n",
    "import tensorflow as tf\n",
    "import matplotlib.pyplot as plt\n",
    "import keras\n",
    "import sklearn"
   ]
  },
  {
   "cell_type": "markdown",
   "metadata": {
    "inputHidden": false,
    "outputHidden": false
   },
   "source": [
    "The first step to training models is to figure out a way to tell how good a model is. This is similar to test driven development. Before we write our functions, we first define the tests that the functions need to pass. In the world of machine learning, these tests are defined by the data available.\n",
    "\n",
    "Note that unlike TDD, we don't need to pass all the tests. There will almost always be some difference between the predicted outcome and the measured outcomes.\n",
    "\n",
    "It's considered good practice to split our data up into a \"training set\" (for inspection and training models), and a \"test set\" for model evaluation.\n",
    "\n",
    "This is to ensure a fair test of the model's ability to generalise to new examples. The same reason why an exam contains different questions to the practice exams a student learns from.\n",
    "\n",
    "Throughout this module, we'll be using the [Ames Housing Prices Data Set](https://www.kaggle.com/c/house-prices-advanced-regression-techniques)\n",
    "\n",
    "The data is described in `../data/housing_price_data/data_description.txt`"
   ]
  },
  {
   "cell_type": "code",
   "execution_count": null,
   "metadata": {
    "collapsed": false,
    "inputHidden": false,
    "outputHidden": false
   },
   "outputs": [],
   "source": [
    "labelled = pd.read_csv(\"../data/housing_price_data/train.csv\") # Load data\n",
    "# Split up into training and test sets.\n",
    "num_rows = labelled.shape[0]\n",
    "training_set = labelled[:round(num_rows*0.8)]\n",
    "test_set = labelled[round(num_rows*0.8):]\n",
    "training_set.to_csv(\"../data/housing_price_data/training_data.csv\",index = False)\n",
    "test_set.to_csv(\"../data/housing_price_data/test_data.csv\",index = False)\n",
    "\n",
    "print(\"Training Set: \",num_rows)\n",
    "print(\"Training Set: \",training_set.shape[0])\n",
    "print(\"Test Set: \",test_set.shape[0])"
   ]
  },
  {
   "cell_type": "markdown",
   "metadata": {},
   "source": [
    "# Vectorised Math Operations\n",
    "\n",
    "Machine Learning makes significant use of vectorised functions (or maths with arrays) to perform various aspects of model building, and as we will see in this lab, evaluating the error of our model on our test set of data. \n",
    "\n",
    "We will be using the numpy library to do this maths for us, but it is good to understand that the operations taking place are occuring over the whole array. "
   ]
  },
  {
   "cell_type": "code",
   "execution_count": null,
   "metadata": {},
   "outputs": [],
   "source": [
    "a = np.array([2,4,6,8])\n",
    "b = np.array([-1,2,-3,4])\n",
    "\n",
    "print(a - b)\n",
    "print(np.abs(b))\n",
    "print(np.mean(a))"
   ]
  },
  {
   "cell_type": "markdown",
   "metadata": {
    "inputHidden": false,
    "outputHidden": false
   },
   "source": [
    "## Mean Absolute Error\n",
    "Now that we have a test set, we can evaluate our models!\n",
    "\n",
    "We'll use the mean absolute error. This is the average size of the difference between the predicted value vs the observed value.\n",
    "\n",
    "Formally, this is defined as\n",
    "\n",
    "$$  \\mathsf{MAE} = \\frac{1}{n} * \\sum_{i=1}^n |\\mathsf{predicted\\_value}[i] - \\mathsf{actual\\_value}[i]|  $$\n",
    "\n",
    "\n",
    "We now write a function to evaluate how accurate any given predictive model is at predicting on our test set.\n"
   ]
  },
  {
   "cell_type": "code",
   "execution_count": null,
   "metadata": {},
   "outputs": [],
   "source": [
    "def evaluate_model(model_fn):\n",
    "    '''\n",
    "    Consumes a function model_fn\n",
    "    and evaluates its predictive accuracy against \n",
    "    the housing prices test set.\n",
    "    '''\n",
    "    test_data = pd.read_csv(\"../data/housing_price_data/test_data.csv\")\n",
    "    actual_values = test_data['SalePrice']\n",
    "    test_input = test_data.filter(regex='^(?!SalePrice$).*') #Pass in all columns except SalePrice\n",
    "    predicted_saleprice = model_fn(test_input)\n",
    "    mae = np.mean(np.abs(predicted_saleprice-actual_values))\n",
    "    print(\"The model is inaccurate by $%.2f on average.\" % mae)\n",
    "    return mae"
   ]
  },
  {
   "cell_type": "markdown",
   "metadata": {
    "inputHidden": false,
    "outputHidden": false
   },
   "source": [
    "Let's evaluate a very simple predictive heuristic: Sale Price = 100,000 * number of bedrooms."
   ]
  },
  {
   "cell_type": "code",
   "execution_count": null,
   "metadata": {},
   "outputs": [],
   "source": [
    "def bedroom_heuristic(input_data):\n",
    "    bedrooms = input_data['BedroomAbvGr']\n",
    "    prediction = 100000*bedrooms\n",
    "    return(prediction)\n",
    "\n",
    "evaluate_model(bedroom_heuristic)"
   ]
  },
  {
   "cell_type": "markdown",
   "metadata": {
    "inputHidden": false,
    "outputHidden": false
   },
   "source": [
    "## Exercise \n",
    "\n",
    "Try and make a heuristic that achieves a lower score.\n"
   ]
  },
  {
   "cell_type": "markdown",
   "metadata": {},
   "source": [
    "## Exercise \n",
    "\n",
    "Extend `evaluate_model` to report how fast the model takes to make its predictions [hint](https://docs.python.org/3.6/library/time.html)\n"
   ]
  }
 ],
 "metadata": {
  "kernel_info": {
   "name": "python3"
  },
  "kernelspec": {
   "display_name": "Python 3",
   "language": "python",
   "name": "python3"
  },
  "language_info": {
   "codemirror_mode": {
    "name": "ipython",
    "version": 3
   },
   "file_extension": ".py",
   "mimetype": "text/x-python",
   "name": "python",
   "nbconvert_exporter": "python",
   "pygments_lexer": "ipython3",
   "version": "3.6.3"
  },
  "nteract": {
   "version": "0.8.4"
  }
 },
 "nbformat": 4,
 "nbformat_minor": 4
}
