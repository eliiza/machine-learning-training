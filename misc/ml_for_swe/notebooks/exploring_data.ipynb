{
  "cells": [
    {
      "cell_type": "markdown",
      "source": [
        "# Exploring the housing prices dataset\n",
        "\n",
        "This notebook is a quick exploration of the [Ames,Iowa](https://www.kaggle.com/c/house-prices-advanced-regression-techniques#description) housing price dataset. We'll use the pandas library to explore. \n",
        "\n",
        "A full description of this dataset is available at `housing_prices/data_description.txt`\n",
        "\n",
        "Notebooks are a web based interface to code interpreters. \n",
        "\nYou can run code in these notebooks using Shift-Enter."
      ],
      "metadata": {
        "collapsed": false,
        "outputHidden": false,
        "inputHidden": false
      }
    },
    {
      "cell_type": "code",
      "source": [
        "import pandas as pd\n",
        "housing_prices = pd.read_csv(\"../data/housing_price_data/train.csv\")"
      ],
      "outputs": [],
      "execution_count": null,
      "metadata": {}
    },
    {
      "cell_type": "code",
      "source": [
        "housing_prices.shape # 1460 Rows, 81 Columns"
      ],
      "outputs": [],
      "execution_count": null,
      "metadata": {
        "collapsed": false,
        "outputHidden": false,
        "inputHidden": false
      }
    },
    {
      "cell_type": "code",
      "source": [
        "housing_prices.info() # Display names and types of all columns."
      ],
      "outputs": [],
      "execution_count": null,
      "metadata": {
        "collapsed": false,
        "outputHidden": false,
        "inputHidden": false
      }
    },
    {
      "cell_type": "code",
      "source": [
        "# Describe summary statistics for Bedrooms, Fireplaces, Lot Area, SalePrice\n",
        "housing_prices[[\"BedroomAbvGr\",\"Fireplaces\",\"LotArea\",\"SalePrice\"]].describe()"
      ],
      "outputs": [],
      "execution_count": null,
      "metadata": {
        "collapsed": false,
        "outputHidden": false,
        "inputHidden": false
      }
    },
    {
      "cell_type": "code",
      "source": [
        "# Construct a scatter plot of bedrooms vs sale price\n",
        "housing_prices.plot.scatter(x='BedroomAbvGr',y='SalePrice')\n",
        "# Exercise: make a scatter plot of Fireplaces vs Sale Price"
      ],
      "outputs": [],
      "execution_count": null,
      "metadata": {
        "collapsed": false,
        "outputHidden": false,
        "inputHidden": false
      }
    }
  ],
  "metadata": {
    "kernel_info": {
      "name": "python3"
    },
    "kernelspec": {
      "name": "python3",
      "language": "python",
      "display_name": "Python 3"
    },
    "language_info": {
      "name": "python",
      "version": "3.6.3",
      "mimetype": "text/x-python",
      "codemirror_mode": {
        "name": "ipython",
        "version": 3
      },
      "pygments_lexer": "ipython3",
      "nbconvert_exporter": "python",
      "file_extension": ".py"
    },
    "nteract": {
      "version": "0.8.4"
    }
  },
  "nbformat": 4,
  "nbformat_minor": 4
}